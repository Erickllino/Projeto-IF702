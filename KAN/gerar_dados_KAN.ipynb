{
 "cells": [
  {
   "cell_type": "code",
   "execution_count": 115,
   "metadata": {},
   "outputs": [],
   "source": [
    "import numpy as np\n",
    "import pandas as pd\n",
    "import optuna\n",
    "import torch\n",
    "import torch.nn as nn\n",
    "import torch.optim as optim\n",
    "from torch.utils.data import Dataset, DataLoader\n",
    "from pathlib import Path\n",
    "from sklearn.metrics import accuracy_score, precision_score, recall_score, f1_score, roc_auc_score, roc_curve\n",
    "from sklearn.model_selection import KFold\n",
    "from sklearn.preprocessing import StandardScaler, OneHotEncoder\n",
    "from kan import KAN"
   ]
  },
  {
   "cell_type": "code",
   "execution_count": 116,
   "metadata": {},
   "outputs": [
    {
     "name": "stdout",
     "output_type": "stream",
     "text": [
      "gender                                     float32\n",
      "SeniorCitizen                              float32\n",
      "Partner                                    float32\n",
      "Dependents                                 float32\n",
      "tenure                                     float32\n",
      "PhoneService                               float32\n",
      "MultipleLines                              float32\n",
      "OnlineSecurity                             float32\n",
      "OnlineBackup                               float32\n",
      "DeviceProtection                           float32\n",
      "TechSupport                                float32\n",
      "StreamingTV                                float32\n",
      "StreamingMovies                            float32\n",
      "PaperlessBilling                           float32\n",
      "MonthlyCharges                             float32\n",
      "TotalCharges                               float32\n",
      "Churn                                      float32\n",
      "PaymentMethod_Bank transfer (automatic)    float32\n",
      "PaymentMethod_Credit card (automatic)      float32\n",
      "PaymentMethod_Electronic check             float32\n",
      "PaymentMethod_Mailed check                 float32\n",
      "Contract_Month-to-month                    float32\n",
      "Contract_One year                          float32\n",
      "Contract_Two year                          float32\n",
      "InternetService_DSL                        float32\n",
      "InternetService_Fiber optic                float32\n",
      "InternetService_No                         float32\n",
      "dtype: object\n"
     ]
    },
    {
     "name": "stderr",
     "output_type": "stream",
     "text": [
      "/tmp/ipykernel_3370/3765315254.py:26: FutureWarning: Downcasting behavior in `replace` is deprecated and will be removed in a future version. To retain the old behavior, explicitly call `result.infer_objects(copy=False)`. To opt-in to the future behavior, set `pd.set_option('future.no_silent_downcasting', True)`\n",
      "  data.replace(replace_dict, inplace=True)\n"
     ]
    }
   ],
   "source": [
    "\n",
    "# Carregar e pré-processar dados\n",
    "path_file = './../data/customer_churn_telecom_services.csv'\n",
    "df = pd.read_csv(path_file)\n",
    "\n",
    "# 1. Primeiro aplicar o OneHotEncoder nas colunas categóricas\n",
    "colunas = ['PaymentMethod', 'Contract', 'InternetService']\n",
    "ohe = OneHotEncoder(dtype=int, drop='if_binary')\n",
    "colunas_ohe = ohe.fit_transform(df[colunas]).toarray()\n",
    "\n",
    "# Criar DataFrame com as colunas codificadas\n",
    "df_ohe = pd.DataFrame(colunas_ohe, columns=ohe.get_feature_names_out(colunas))\n",
    "\n",
    "# 2. Concatenar com o DataFrame original (removendo as colunas originais)\n",
    "data = pd.concat([df.drop(colunas, axis=1), df_ohe], axis=1)\n",
    "\n",
    "# 3. Agora fazer as substituições nos dados combinados\n",
    "replace_dict = {\n",
    "    'Yes': 1,\n",
    "    'No': 0,\n",
    "    'Female': 1,\n",
    "    'Male': 0,\n",
    "    'No internet service': 0,\n",
    "    'No phone service': -1\n",
    "}\n",
    "\n",
    "data.replace(replace_dict, inplace=True)\n",
    "\n",
    "# 4. Converter todas as colunas para float32\n",
    "data = data.astype(np.float32).fillna(0)\n",
    "\n",
    "# Verificar os tipos de dados\n",
    "print(data.dtypes)\n",
    "\n",
    "# Preparar dados\n",
    "X = data.drop('Churn', axis=1).values\n",
    "y = data['Churn'].values\n"
   ]
  },
  {
   "cell_type": "code",
   "execution_count": null,
   "metadata": {},
   "outputs": [],
   "source": [
    "def kolmogorov_smirnov(y_true, y_proba):\n",
    "    # Usa a função `roc_curve` do sklearn para obter os thresholds\n",
    "    fpr, tpr, thresholds = roc_curve(y_true, y_proba)\n",
    "    ks_statistic = np.max(np.abs(tpr - fpr))  # KS = max(TPR - FPR)\n",
    "    return ks_statistic * 100  # Retorna em escala 0-100\n",
    "\n",
    "# Classe Dataset\n",
    "class ChurnDataset(Dataset):\n",
    "    def __init__(self, features, labels):\n",
    "        self.features = features\n",
    "        self.labels = labels\n",
    "\n",
    "    def __len__(self):\n",
    "        return len(self.features)\n",
    "\n",
    "    def __getitem__(self, idx):\n",
    "        return self.features[idx], self.labels[idx]\n",
    "\n",
    "def train_model(model, train_loader, optimizer, criterion, device, epochs=100):\n",
    "    model.train()\n",
    "    for epoch in range(epochs):\n",
    "        for inputs, labels in train_loader:\n",
    "            inputs = inputs.detach()  # Isso remove gradientes!\n",
    "            inputs, labels = inputs.to(device), labels.to(device)\n",
    "            optimizer.zero_grad()\n",
    "            outputs = model(inputs).squeeze()\n",
    "            loss = criterion(outputs, labels)\n",
    "            loss.backward()\n",
    "            optimizer.step()\n",
    "\n",
    "def evaluate_model(model, loader, device):\n",
    "    model.eval()\n",
    "    y_true, y_pred, y_proba = [], [], []\n",
    "    with torch.no_grad():\n",
    "        for inputs, labels in loader:\n",
    "            inputs = inputs.to(device)\n",
    "            outputs = torch.sigmoid(model(inputs).squeeze())\n",
    "            y_true.extend(labels.cpu().numpy())\n",
    "            y_pred.extend((outputs > 0.5).float().cpu().numpy())\n",
    "            y_proba.extend(outputs.cpu().numpy())\n",
    "\n",
    "    return {\n",
    "        'accuracy': accuracy_score(y_true, y_pred),\n",
    "        'precision': precision_score(y_true, y_pred),\n",
    "        'recall': recall_score(y_true, y_pred),\n",
    "        'f1': f1_score(y_true, y_pred),\n",
    "        'auc_roc': roc_auc_score(y_true, y_proba),\n",
    "        'ks': kolmogorov_smirnov(y_true, y_proba)\n",
    "    }\n",
    "\n",
    "def objective(trial):\n",
    "    device = torch.device('cuda' if torch.cuda.is_available() else 'cpu')\n",
    "\n",
    "    # Hiperparâmetros\n",
    "    grid_size = trial.suggest_int('grid_size', 5, 10)\n",
    "    spline_order = trial.suggest_int('spline_order', 1, 3)\n",
    "    width = [X.shape[1]] + [trial.suggest_int('width_'+str(i), 1, 5) for i in range(spline_order-2)] + [1]  \n",
    "    noise_scale = trial.suggest_float('noise_scale', 0.0, 0.1)\n",
    "    batch_size = trial.suggest_categorical('batch_size', [16, 32])\n",
    "    lr = trial.suggest_float('lr', 1e-5, 1e-2, log=True)\n",
    "  \n",
    "    # KFold\n",
    "    kf = KFold(n_splits=3, shuffle=True, random_state=42)\n",
    "    metrics = []\n",
    "     \n",
    "    # Salva o vetor width como atributo do trial\n",
    "    trial.set_user_attr('width', str(width))\n",
    "\n",
    "    for fold, (train_idx, val_idx) in enumerate(kf.split(X)):\n",
    "        # Divisão e normalização\n",
    "        X_train, X_val = X[train_idx], X[val_idx]\n",
    "        y_train, y_val = y[train_idx], y[val_idx]\n",
    "\n",
    "        scaler = StandardScaler()\n",
    "        X_train = scaler.fit_transform(X_train)\n",
    "        X_val = scaler.transform(X_val)\n",
    "\n",
    "        # Datasets\n",
    "        train_dataset = ChurnDataset(X_train, y_train)\n",
    "        val_dataset = ChurnDataset(X_val, y_val)\n",
    "\n",
    "        train_loader = DataLoader(train_dataset, batch_size=batch_size, shuffle=True)\n",
    "        val_loader = DataLoader(val_dataset, batch_size=batch_size)\n",
    "\n",
    "        # Modelo KAN\n",
    "\n",
    "        model = KAN(\n",
    "            width=width,\n",
    "            grid=grid_size,\n",
    "            k=spline_order,\n",
    "            noise_scale=noise_scale\n",
    "        ).to(device)\n",
    "\n",
    "        optimizer = optim.AdamW(model.parameters(), lr=lr)\n",
    "        criterion = nn.BCEWithLogitsLoss()\n",
    "\n",
    "        # Treinamento\n",
    "        train_model(model, train_loader, optimizer, criterion, device)\n",
    "\n",
    "        # Avaliação\n",
    "        fold_metrics = evaluate_model(model, val_loader, device)\n",
    "        metrics.append(fold_metrics)\n",
    "\n",
    "    # Calcular médias\n",
    "    avg_metrics = {k: np.mean([m[k] for m in metrics]) for k in metrics[0]}\n",
    "    for k, v in avg_metrics.items():\n",
    "        trial.set_user_attr(k, float(v))\n",
    "\n",
    "    return avg_metrics['auc_roc']\n",
    "\n"
   ]
  },
  {
   "cell_type": "code",
   "execution_count": null,
   "metadata": {},
   "outputs": [],
   "source": []
  },
  {
   "cell_type": "code",
   "execution_count": 118,
   "metadata": {},
   "outputs": [
    {
     "name": "stderr",
     "output_type": "stream",
     "text": [
      "[I 2025-04-13 16:01:31,116] A new study created in memory with name: no-name-5f960049-3c49-4ef3-8960-8f24ecfd80ad\n",
      "  0%|          | 0/50 [00:00<?, ?it/s]"
     ]
    },
    {
     "name": "stdout",
     "output_type": "stream",
     "text": [
      "checkpoint directory created: ./model\n",
      "saving model version 0.0\n",
      "checkpoint directory created: ./model\n",
      "saving model version 0.0\n",
      "checkpoint directory created: ./model\n",
      "saving model version 0.0\n"
     ]
    },
    {
     "name": "stderr",
     "output_type": "stream",
     "text": [
      "Best trial: 0. Best value: 0.850223:   2%|▏         | 1/50 [26:16<21:27:46, 1576.86s/it]"
     ]
    },
    {
     "name": "stdout",
     "output_type": "stream",
     "text": [
      "[I 2025-04-13 16:27:47,977] Trial 0 finished with value: 0.8502234666375715 and parameters: {'grid_size': 8, 'spline_order': 2, 'noise_scale': 0.08493577751399967, 'batch_size': 16, 'lr': 0.009549954779598122}. Best is trial 0 with value: 0.8502234666375715.\n",
      "checkpoint directory created: ./model\n",
      "saving model version 0.0\n",
      "checkpoint directory created: ./model\n",
      "saving model version 0.0\n",
      "checkpoint directory created: ./model\n",
      "saving model version 0.0\n"
     ]
    },
    {
     "name": "stderr",
     "output_type": "stream",
     "text": [
      "Best trial: 0. Best value: 0.850223:   4%|▍         | 2/50 [39:57<15:05:36, 1132.02s/it]"
     ]
    },
    {
     "name": "stdout",
     "output_type": "stream",
     "text": [
      "[I 2025-04-13 16:41:28,607] Trial 1 finished with value: 0.8480730202539052 and parameters: {'grid_size': 7, 'spline_order': 2, 'noise_scale': 0.02767015353327297, 'batch_size': 32, 'lr': 0.0002053941504002379}. Best is trial 0 with value: 0.8502234666375715.\n",
      "checkpoint directory created: ./model\n",
      "saving model version 0.0\n",
      "checkpoint directory created: ./model\n",
      "saving model version 0.0\n",
      "checkpoint directory created: ./model\n",
      "saving model version 0.0\n"
     ]
    },
    {
     "name": "stderr",
     "output_type": "stream",
     "text": [
      "Best trial: 0. Best value: 0.850223:   6%|▌         | 3/50 [1:05:51<17:17:30, 1324.49s/it]"
     ]
    },
    {
     "name": "stdout",
     "output_type": "stream",
     "text": [
      "[I 2025-04-13 17:07:22,128] Trial 2 finished with value: 0.8488870124633833 and parameters: {'grid_size': 9, 'spline_order': 1, 'noise_scale': 0.09503736597311038, 'batch_size': 16, 'lr': 0.0003154231387481375}. Best is trial 0 with value: 0.8502234666375715.\n",
      "checkpoint directory created: ./model\n",
      "saving model version 0.0\n",
      "checkpoint directory created: ./model\n",
      "saving model version 0.0\n",
      "checkpoint directory created: ./model\n",
      "saving model version 0.0\n"
     ]
    },
    {
     "name": "stderr",
     "output_type": "stream",
     "text": [
      "Best trial: 0. Best value: 0.850223:   8%|▊         | 4/50 [1:22:12<15:11:40, 1189.14s/it]"
     ]
    },
    {
     "name": "stdout",
     "output_type": "stream",
     "text": [
      "[I 2025-04-13 17:23:43,786] Trial 3 finished with value: 0.8486641563840265 and parameters: {'grid_size': 6, 'spline_order': 3, 'width_0': 1, 'noise_scale': 0.017814643305482547, 'batch_size': 32, 'lr': 0.003794155377400985}. Best is trial 0 with value: 0.8502234666375715.\n",
      "checkpoint directory created: ./model\n",
      "saving model version 0.0\n",
      "checkpoint directory created: ./model\n",
      "saving model version 0.0\n",
      "checkpoint directory created: ./model\n",
      "saving model version 0.0\n"
     ]
    },
    {
     "name": "stderr",
     "output_type": "stream",
     "text": [
      "Best trial: 0. Best value: 0.850223:  10%|█         | 5/50 [1:35:39<13:08:34, 1051.43s/it]"
     ]
    },
    {
     "name": "stdout",
     "output_type": "stream",
     "text": [
      "[I 2025-04-13 17:37:11,044] Trial 4 finished with value: 0.849225506624577 and parameters: {'grid_size': 10, 'spline_order': 2, 'noise_scale': 0.03565808373763898, 'batch_size': 32, 'lr': 0.0007764834004902412}. Best is trial 0 with value: 0.8502234666375715.\n",
      "checkpoint directory created: ./model\n",
      "saving model version 0.0\n",
      "checkpoint directory created: ./model\n",
      "saving model version 0.0\n",
      "checkpoint directory created: ./model\n",
      "saving model version 0.0\n"
     ]
    },
    {
     "name": "stderr",
     "output_type": "stream",
     "text": [
      "Best trial: 0. Best value: 0.850223:  12%|█▏        | 6/50 [2:02:17<15:07:17, 1237.21s/it]"
     ]
    },
    {
     "name": "stdout",
     "output_type": "stream",
     "text": [
      "[I 2025-04-13 18:03:48,882] Trial 5 finished with value: 0.8491116355895966 and parameters: {'grid_size': 10, 'spline_order': 2, 'noise_scale': 0.038045086206738465, 'batch_size': 16, 'lr': 0.00024290041545953043}. Best is trial 0 with value: 0.8502234666375715.\n",
      "checkpoint directory created: ./model\n",
      "saving model version 0.0\n",
      "checkpoint directory created: ./model\n",
      "saving model version 0.0\n",
      "checkpoint directory created: ./model\n",
      "saving model version 0.0\n"
     ]
    },
    {
     "name": "stderr",
     "output_type": "stream",
     "text": [
      "Best trial: 0. Best value: 0.850223:  14%|█▍        | 7/50 [2:15:17<12:59:29, 1087.66s/it]"
     ]
    },
    {
     "name": "stdout",
     "output_type": "stream",
     "text": [
      "[I 2025-04-13 18:16:48,650] Trial 6 finished with value: 0.8490335002006045 and parameters: {'grid_size': 10, 'spline_order': 2, 'noise_scale': 0.06200147312989388, 'batch_size': 32, 'lr': 0.004146595701660257}. Best is trial 0 with value: 0.8502234666375715.\n",
      "checkpoint directory created: ./model\n",
      "saving model version 0.0\n",
      "checkpoint directory created: ./model\n",
      "saving model version 0.0\n",
      "checkpoint directory created: ./model\n",
      "saving model version 0.0\n"
     ]
    },
    {
     "name": "stderr",
     "output_type": "stream",
     "text": [
      "Best trial: 0. Best value: 0.850223:  16%|█▌        | 8/50 [2:28:13<11:32:00, 988.58s/it] "
     ]
    },
    {
     "name": "stdout",
     "output_type": "stream",
     "text": [
      "[I 2025-04-13 18:29:45,068] Trial 7 finished with value: 0.8501793517453241 and parameters: {'grid_size': 7, 'spline_order': 2, 'noise_scale': 0.040996213137764, 'batch_size': 32, 'lr': 0.004296360906537581}. Best is trial 0 with value: 0.8502234666375715.\n",
      "checkpoint directory created: ./model\n",
      "saving model version 0.0\n",
      "checkpoint directory created: ./model\n",
      "saving model version 0.0\n",
      "checkpoint directory created: ./model\n",
      "saving model version 0.0\n"
     ]
    },
    {
     "name": "stderr",
     "output_type": "stream",
     "text": [
      "Best trial: 0. Best value: 0.850223:  18%|█▊        | 9/50 [2:52:59<13:01:40, 1143.92s/it]"
     ]
    },
    {
     "name": "stdout",
     "output_type": "stream",
     "text": [
      "[I 2025-04-13 18:54:30,556] Trial 8 finished with value: 0.8486680194904861 and parameters: {'grid_size': 10, 'spline_order': 1, 'noise_scale': 0.002084125692293393, 'batch_size': 16, 'lr': 0.0011815377389683647}. Best is trial 0 with value: 0.8502234666375715.\n",
      "checkpoint directory created: ./model\n",
      "saving model version 0.0\n",
      "checkpoint directory created: ./model\n",
      "saving model version 0.0\n",
      "checkpoint directory created: ./model\n",
      "saving model version 0.0\n"
     ]
    },
    {
     "name": "stderr",
     "output_type": "stream",
     "text": [
      "Best trial: 0. Best value: 0.850223:  20%|██        | 10/50 [3:05:49<11:25:45, 1028.65s/it]"
     ]
    },
    {
     "name": "stdout",
     "output_type": "stream",
     "text": [
      "[I 2025-04-13 19:07:21,086] Trial 9 finished with value: 0.8491605579562878 and parameters: {'grid_size': 10, 'spline_order': 2, 'noise_scale': 0.017884579431710512, 'batch_size': 32, 'lr': 0.000951412747667789}. Best is trial 0 with value: 0.8502234666375715.\n",
      "checkpoint directory created: ./model\n",
      "saving model version 0.0\n",
      "checkpoint directory created: ./model\n",
      "saving model version 0.0\n",
      "checkpoint directory created: ./model\n",
      "saving model version 0.0\n"
     ]
    },
    {
     "name": "stderr",
     "output_type": "stream",
     "text": [
      "Best trial: 0. Best value: 0.850223:  22%|██▏       | 11/50 [4:40:49<26:37:53, 2458.29s/it]"
     ]
    },
    {
     "name": "stdout",
     "output_type": "stream",
     "text": [
      "[I 2025-04-13 20:42:20,996] Trial 10 finished with value: 0.8389209283875761 and parameters: {'grid_size': 5, 'spline_order': 3, 'width_0': 5, 'noise_scale': 0.09860641746074396, 'batch_size': 16, 'lr': 1.7077266723215538e-05}. Best is trial 0 with value: 0.8502234666375715.\n",
      "checkpoint directory created: ./model\n",
      "saving model version 0.0\n",
      "checkpoint directory created: ./model\n",
      "saving model version 0.0\n",
      "checkpoint directory created: ./model\n",
      "saving model version 0.0\n"
     ]
    },
    {
     "name": "stderr",
     "output_type": "stream",
     "text": [
      "Best trial: 0. Best value: 0.850223:  24%|██▍       | 12/50 [4:59:10<21:35:17, 2045.20s/it]"
     ]
    },
    {
     "name": "stdout",
     "output_type": "stream",
     "text": [
      "[I 2025-04-13 21:00:41,371] Trial 11 finished with value: 0.8493457337968353 and parameters: {'grid_size': 8, 'spline_order': 1, 'noise_scale': 0.06566125636221946, 'batch_size': 16, 'lr': 0.008255446670682306}. Best is trial 0 with value: 0.8502234666375715.\n",
      "checkpoint directory created: ./model\n",
      "saving model version 0.0\n",
      "checkpoint directory created: ./model\n",
      "saving model version 0.0\n",
      "checkpoint directory created: ./model\n",
      "saving model version 0.0\n"
     ]
    },
    {
     "name": "stderr",
     "output_type": "stream",
     "text": [
      "Best trial: 0. Best value: 0.850223:  26%|██▌       | 13/50 [5:25:54<19:38:51, 1911.65s/it]"
     ]
    },
    {
     "name": "stdout",
     "output_type": "stream",
     "text": [
      "[I 2025-04-13 21:27:25,717] Trial 12 finished with value: 0.836015997709277 and parameters: {'grid_size': 7, 'spline_order': 3, 'width_0': 3, 'noise_scale': 0.07495646691836909, 'batch_size': 32, 'lr': 0.00902849908140433}. Best is trial 0 with value: 0.8502234666375715.\n",
      "checkpoint directory created: ./model\n",
      "saving model version 0.0\n",
      "checkpoint directory created: ./model\n",
      "saving model version 0.0\n",
      "checkpoint directory created: ./model\n",
      "saving model version 0.0\n"
     ]
    },
    {
     "name": "stderr",
     "output_type": "stream",
     "text": [
      "Best trial: 13. Best value: 0.850289:  28%|██▊       | 14/50 [5:44:38<16:44:17, 1673.81s/it]"
     ]
    },
    {
     "name": "stdout",
     "output_type": "stream",
     "text": [
      "[I 2025-04-13 21:46:09,938] Trial 13 finished with value: 0.8502889922464544 and parameters: {'grid_size': 8, 'spline_order': 2, 'noise_scale': 0.04997847555920101, 'batch_size': 16, 'lr': 0.002669654563551695}. Best is trial 13 with value: 0.8502889922464544.\n",
      "checkpoint directory created: ./model\n",
      "saving model version 0.0\n",
      "checkpoint directory created: ./model\n",
      "saving model version 0.0\n",
      "checkpoint directory created: ./model\n",
      "saving model version 0.0\n"
     ]
    },
    {
     "name": "stderr",
     "output_type": "stream",
     "text": [
      "Best trial: 13. Best value: 0.850289:  30%|███       | 15/50 [6:02:32<14:30:47, 1492.80s/it]"
     ]
    },
    {
     "name": "stdout",
     "output_type": "stream",
     "text": [
      "[I 2025-04-13 22:04:03,248] Trial 14 finished with value: 0.8446400638994668 and parameters: {'grid_size': 8, 'spline_order': 2, 'noise_scale': 0.08542161621158649, 'batch_size': 16, 'lr': 5.90554224899419e-05}. Best is trial 13 with value: 0.8502889922464544.\n",
      "checkpoint directory created: ./model\n",
      "saving model version 0.0\n",
      "checkpoint directory created: ./model\n",
      "saving model version 0.0\n",
      "checkpoint directory created: ./model\n",
      "saving model version 0.0\n"
     ]
    },
    {
     "name": "stderr",
     "output_type": "stream",
     "text": [
      "Best trial: 13. Best value: 0.850289:  32%|███▏      | 16/50 [6:23:26<13:25:17, 1421.09s/it]"
     ]
    },
    {
     "name": "stdout",
     "output_type": "stream",
     "text": [
      "[I 2025-04-13 22:24:57,823] Trial 15 finished with value: 0.8437173274802543 and parameters: {'grid_size': 8, 'spline_order': 3, 'width_0': 1, 'noise_scale': 0.05501457788900743, 'batch_size': 16, 'lr': 0.0019282227298033597}. Best is trial 13 with value: 0.8502889922464544.\n",
      "checkpoint directory created: ./model\n",
      "saving model version 0.0\n",
      "checkpoint directory created: ./model\n",
      "saving model version 0.0\n",
      "checkpoint directory created: ./model\n",
      "saving model version 0.0\n"
     ]
    },
    {
     "name": "stderr",
     "output_type": "stream",
     "text": [
      "Best trial: 13. Best value: 0.850289:  34%|███▍      | 17/50 [6:39:44<11:48:16, 1287.76s/it]"
     ]
    },
    {
     "name": "stdout",
     "output_type": "stream",
     "text": [
      "[I 2025-04-13 22:41:15,520] Trial 16 finished with value: 0.8489070921992793 and parameters: {'grid_size': 9, 'spline_order': 1, 'noise_scale': 0.07758878529736016, 'batch_size': 16, 'lr': 0.0016610814629745361}. Best is trial 13 with value: 0.8502889922464544.\n",
      "checkpoint directory created: ./model\n",
      "saving model version 0.0\n",
      "checkpoint directory created: ./model\n",
      "saving model version 0.0\n",
      "checkpoint directory created: ./model\n",
      "saving model version 0.0\n"
     ]
    },
    {
     "name": "stderr",
     "output_type": "stream",
     "text": [
      "Best trial: 13. Best value: 0.850289:  36%|███▌      | 18/50 [6:56:51<10:45:00, 1209.39s/it]"
     ]
    },
    {
     "name": "stdout",
     "output_type": "stream",
     "text": [
      "[I 2025-04-13 22:58:22,472] Trial 17 finished with value: 0.8492133548922114 and parameters: {'grid_size': 9, 'spline_order': 2, 'noise_scale': 0.05058716509285378, 'batch_size': 16, 'lr': 0.008768405535899996}. Best is trial 13 with value: 0.8502889922464544.\n",
      "checkpoint directory created: ./model\n",
      "saving model version 0.0\n",
      "checkpoint directory created: ./model\n",
      "saving model version 0.0\n",
      "checkpoint directory created: ./model\n",
      "saving model version 0.0\n"
     ]
    },
    {
     "name": "stderr",
     "output_type": "stream",
     "text": [
      "Best trial: 13. Best value: 0.850289:  38%|███▊      | 19/50 [8:12:16<18:59:18, 2205.11s/it]"
     ]
    },
    {
     "name": "stdout",
     "output_type": "stream",
     "text": [
      "[I 2025-04-14 00:13:47,122] Trial 18 finished with value: 0.8489133020737386 and parameters: {'grid_size': 6, 'spline_order': 3, 'width_0': 5, 'noise_scale': 0.06863066483839697, 'batch_size': 16, 'lr': 8.249473516071629e-05}. Best is trial 13 with value: 0.8502889922464544.\n",
      "checkpoint directory created: ./model\n",
      "saving model version 0.0\n",
      "checkpoint directory created: ./model\n",
      "saving model version 0.0\n",
      "checkpoint directory created: ./model\n",
      "saving model version 0.0\n"
     ]
    },
    {
     "name": "stderr",
     "output_type": "stream",
     "text": [
      "Best trial: 13. Best value: 0.850289:  40%|████      | 20/50 [8:28:22<15:16:34, 1833.16s/it]"
     ]
    },
    {
     "name": "stdout",
     "output_type": "stream",
     "text": [
      "[I 2025-04-14 00:29:53,400] Trial 19 finished with value: 0.8490997310565928 and parameters: {'grid_size': 6, 'spline_order': 1, 'noise_scale': 0.0855591917457248, 'batch_size': 16, 'lr': 0.0027499611364839344}. Best is trial 13 with value: 0.8502889922464544.\n",
      "checkpoint directory created: ./model\n",
      "saving model version 0.0\n",
      "checkpoint directory created: ./model\n",
      "saving model version 0.0\n",
      "checkpoint directory created: ./model\n",
      "saving model version 0.0\n"
     ]
    },
    {
     "name": "stderr",
     "output_type": "stream",
     "text": [
      "Best trial: 13. Best value: 0.850289:  42%|████▏     | 21/50 [8:44:42<12:42:16, 1577.12s/it]"
     ]
    },
    {
     "name": "stdout",
     "output_type": "stream",
     "text": [
      "[I 2025-04-14 00:46:13,559] Trial 20 finished with value: 0.8499027882098179 and parameters: {'grid_size': 8, 'spline_order': 2, 'noise_scale': 0.05794122620385807, 'batch_size': 16, 'lr': 0.000569620331016638}. Best is trial 13 with value: 0.8502889922464544.\n",
      "checkpoint directory created: ./model\n",
      "saving model version 0.0\n",
      "checkpoint directory created: ./model\n",
      "saving model version 0.0\n",
      "checkpoint directory created: ./model\n",
      "saving model version 0.0\n"
     ]
    },
    {
     "name": "stderr",
     "output_type": "stream",
     "text": [
      "Best trial: 13. Best value: 0.850289:  44%|████▍     | 22/50 [8:53:01<9:44:56, 1253.45s/it] "
     ]
    },
    {
     "name": "stdout",
     "output_type": "stream",
     "text": [
      "[I 2025-04-14 00:54:32,220] Trial 21 finished with value: 0.8501961314291666 and parameters: {'grid_size': 7, 'spline_order': 2, 'noise_scale': 0.041812282315298877, 'batch_size': 32, 'lr': 0.00491930359493249}. Best is trial 13 with value: 0.8502889922464544.\n",
      "checkpoint directory created: ./model\n",
      "saving model version 0.0\n",
      "checkpoint directory created: ./model\n",
      "saving model version 0.0\n",
      "checkpoint directory created: ./model\n",
      "saving model version 0.0\n"
     ]
    },
    {
     "name": "stderr",
     "output_type": "stream",
     "text": [
      "Best trial: 13. Best value: 0.850289:  46%|████▌     | 23/50 [9:01:18<7:42:00, 1026.70s/it]"
     ]
    },
    {
     "name": "stdout",
     "output_type": "stream",
     "text": [
      "[I 2025-04-14 01:02:50,037] Trial 22 finished with value: 0.8502164948156442 and parameters: {'grid_size': 7, 'spline_order': 2, 'noise_scale': 0.0450783975234093, 'batch_size': 32, 'lr': 0.00455098209219065}. Best is trial 13 with value: 0.8502889922464544.\n",
      "checkpoint directory created: ./model\n",
      "saving model version 0.0\n",
      "checkpoint directory created: ./model\n",
      "saving model version 0.0\n",
      "checkpoint directory created: ./model\n",
      "saving model version 0.0\n"
     ]
    },
    {
     "name": "stderr",
     "output_type": "stream",
     "text": [
      "Best trial: 13. Best value: 0.850289:  48%|████▊     | 24/50 [9:09:39<6:16:27, 868.73s/it] "
     ]
    },
    {
     "name": "stdout",
     "output_type": "stream",
     "text": [
      "[I 2025-04-14 01:11:10,274] Trial 23 finished with value: 0.849776518773294 and parameters: {'grid_size': 9, 'spline_order': 2, 'noise_scale': 0.02746749421014136, 'batch_size': 32, 'lr': 0.0023658436414620595}. Best is trial 13 with value: 0.8502889922464544.\n",
      "checkpoint directory created: ./model\n",
      "saving model version 0.0\n",
      "checkpoint directory created: ./model\n",
      "saving model version 0.0\n",
      "checkpoint directory created: ./model\n",
      "saving model version 0.0\n"
     ]
    },
    {
     "name": "stderr",
     "output_type": "stream",
     "text": [
      "Best trial: 24. Best value: 0.850743:  50%|█████     | 25/50 [9:25:54<6:15:17, 900.71s/it]"
     ]
    },
    {
     "name": "stdout",
     "output_type": "stream",
     "text": [
      "[I 2025-04-14 01:27:25,584] Trial 24 finished with value: 0.8507429848278424 and parameters: {'grid_size': 8, 'spline_order': 2, 'noise_scale': 0.04690917758405222, 'batch_size': 16, 'lr': 0.005916193252613903}. Best is trial 24 with value: 0.8507429848278424.\n",
      "checkpoint directory created: ./model\n",
      "saving model version 0.0\n",
      "checkpoint directory created: ./model\n",
      "saving model version 0.0\n",
      "checkpoint directory created: ./model\n",
      "saving model version 0.0\n"
     ]
    },
    {
     "name": "stderr",
     "output_type": "stream",
     "text": [
      "Best trial: 24. Best value: 0.850743:  52%|█████▏    | 26/50 [9:42:15<6:09:55, 924.82s/it]"
     ]
    },
    {
     "name": "stdout",
     "output_type": "stream",
     "text": [
      "[I 2025-04-14 01:43:46,656] Trial 25 finished with value: 0.8504916250002627 and parameters: {'grid_size': 8, 'spline_order': 2, 'noise_scale': 0.05069727969822299, 'batch_size': 16, 'lr': 0.006330486774357568}. Best is trial 24 with value: 0.8507429848278424.\n",
      "checkpoint directory created: ./model\n",
      "saving model version 0.0\n",
      "checkpoint directory created: ./model\n",
      "saving model version 0.0\n",
      "checkpoint directory created: ./model\n",
      "saving model version 0.0\n"
     ]
    },
    {
     "name": "stderr",
     "output_type": "stream",
     "text": [
      "Best trial: 24. Best value: 0.850743:  54%|█████▍    | 27/50 [10:27:59<9:23:41, 1470.51s/it]"
     ]
    },
    {
     "name": "stdout",
     "output_type": "stream",
     "text": [
      "[I 2025-04-14 02:29:30,324] Trial 26 finished with value: 0.8302950250226379 and parameters: {'grid_size': 9, 'spline_order': 3, 'width_0': 3, 'noise_scale': 0.049290116162662136, 'batch_size': 16, 'lr': 0.0005011354072983679}. Best is trial 24 with value: 0.8507429848278424.\n",
      "checkpoint directory created: ./model\n",
      "saving model version 0.0\n",
      "checkpoint directory created: ./model\n",
      "saving model version 0.0\n",
      "checkpoint directory created: ./model\n",
      "saving model version 0.0\n"
     ]
    },
    {
     "name": "stderr",
     "output_type": "stream",
     "text": [
      "Best trial: 24. Best value: 0.850743:  56%|█████▌    | 28/50 [10:43:59<8:03:04, 1317.48s/it]"
     ]
    },
    {
     "name": "stdout",
     "output_type": "stream",
     "text": [
      "[I 2025-04-14 02:45:30,749] Trial 27 finished with value: 0.8490517036998831 and parameters: {'grid_size': 8, 'spline_order': 1, 'noise_scale': 0.031059596539757733, 'batch_size': 16, 'lr': 0.0014414925254481335}. Best is trial 24 with value: 0.8507429848278424.\n",
      "checkpoint directory created: ./model\n",
      "saving model version 0.0\n",
      "checkpoint directory created: ./model\n",
      "saving model version 0.0\n",
      "checkpoint directory created: ./model\n",
      "saving model version 0.0\n"
     ]
    },
    {
     "name": "stderr",
     "output_type": "stream",
     "text": [
      "Best trial: 24. Best value: 0.850743:  58%|█████▊    | 29/50 [11:00:18<7:05:33, 1215.86s/it]"
     ]
    },
    {
     "name": "stdout",
     "output_type": "stream",
     "text": [
      "[I 2025-04-14 03:01:49,512] Trial 28 finished with value: 0.850624472749582 and parameters: {'grid_size': 8, 'spline_order': 2, 'noise_scale': 0.05349467464865609, 'batch_size': 16, 'lr': 0.006185196351518124}. Best is trial 24 with value: 0.8507429848278424.\n",
      "checkpoint directory created: ./model\n",
      "saving model version 0.0\n",
      "checkpoint directory created: ./model\n",
      "saving model version 0.0\n",
      "checkpoint directory created: ./model\n",
      "saving model version 0.0\n"
     ]
    },
    {
     "name": "stderr",
     "output_type": "stream",
     "text": [
      "Best trial: 24. Best value: 0.850743:  60%|██████    | 30/50 [11:16:36<6:21:28, 1144.44s/it]"
     ]
    },
    {
     "name": "stdout",
     "output_type": "stream",
     "text": [
      "[I 2025-04-14 03:18:07,323] Trial 29 finished with value: 0.8494895407880355 and parameters: {'grid_size': 9, 'spline_order': 2, 'noise_scale': 0.05712772457869253, 'batch_size': 16, 'lr': 0.007116789206981413}. Best is trial 24 with value: 0.8507429848278424.\n",
      "checkpoint directory created: ./model\n",
      "saving model version 0.0\n",
      "checkpoint directory created: ./model\n",
      "saving model version 0.0\n",
      "checkpoint directory created: ./model\n",
      "saving model version 0.0\n"
     ]
    },
    {
     "name": "stderr",
     "output_type": "stream",
     "text": [
      "Best trial: 24. Best value: 0.850743:  62%|██████▏   | 31/50 [11:32:53<5:46:30, 1094.24s/it]"
     ]
    },
    {
     "name": "stdout",
     "output_type": "stream",
     "text": [
      "[I 2025-04-14 03:34:24,414] Trial 30 finished with value: 0.8505237890813196 and parameters: {'grid_size': 8, 'spline_order': 2, 'noise_scale': 0.0693196946924023, 'batch_size': 16, 'lr': 0.0066401214587914455}. Best is trial 24 with value: 0.8507429848278424.\n",
      "checkpoint directory created: ./model\n",
      "saving model version 0.0\n",
      "checkpoint directory created: ./model\n",
      "saving model version 0.0\n",
      "checkpoint directory created: ./model\n",
      "saving model version 0.0\n"
     ]
    },
    {
     "name": "stderr",
     "output_type": "stream",
     "text": [
      "Best trial: 24. Best value: 0.850743:  64%|██████▍   | 32/50 [11:49:11<5:17:47, 1059.29s/it]"
     ]
    },
    {
     "name": "stdout",
     "output_type": "stream",
     "text": [
      "[I 2025-04-14 03:50:42,153] Trial 31 finished with value: 0.8505382100514982 and parameters: {'grid_size': 8, 'spline_order': 2, 'noise_scale': 0.06840214671965186, 'batch_size': 16, 'lr': 0.005642234648708966}. Best is trial 24 with value: 0.8507429848278424.\n",
      "checkpoint directory created: ./model\n",
      "saving model version 0.0\n",
      "checkpoint directory created: ./model\n",
      "saving model version 0.0\n",
      "checkpoint directory created: ./model\n",
      "saving model version 0.0\n"
     ]
    },
    {
     "name": "stderr",
     "output_type": "stream",
     "text": [
      "Best trial: 24. Best value: 0.850743:  66%|██████▌   | 33/50 [12:05:27<4:53:07, 1034.58s/it]"
     ]
    },
    {
     "name": "stdout",
     "output_type": "stream",
     "text": [
      "[I 2025-04-14 04:06:59,098] Trial 32 finished with value: 0.850152148037706 and parameters: {'grid_size': 7, 'spline_order': 2, 'noise_scale': 0.07757544783048118, 'batch_size': 16, 'lr': 0.003460401358577533}. Best is trial 24 with value: 0.8507429848278424.\n",
      "checkpoint directory created: ./model\n",
      "saving model version 0.0\n",
      "checkpoint directory created: ./model\n",
      "saving model version 0.0\n",
      "checkpoint directory created: ./model\n",
      "saving model version 0.0\n"
     ]
    },
    {
     "name": "stderr",
     "output_type": "stream",
     "text": [
      "Best trial: 24. Best value: 0.850743:  68%|██████▊   | 34/50 [12:21:41<4:31:01, 1016.32s/it]"
     ]
    },
    {
     "name": "stdout",
     "output_type": "stream",
     "text": [
      "[I 2025-04-14 04:23:12,802] Trial 33 finished with value: 0.8505396495524579 and parameters: {'grid_size': 8, 'spline_order': 2, 'noise_scale': 0.06401600631030085, 'batch_size': 16, 'lr': 0.005478995762594216}. Best is trial 24 with value: 0.8507429848278424.\n",
      "checkpoint directory created: ./model\n",
      "saving model version 0.0\n",
      "checkpoint directory created: ./model\n",
      "saving model version 0.0\n",
      "checkpoint directory created: ./model\n",
      "saving model version 0.0\n"
     ]
    },
    {
     "name": "stderr",
     "output_type": "stream",
     "text": [
      "Best trial: 24. Best value: 0.850743:  70%|███████   | 35/50 [12:37:57<4:11:04, 1004.31s/it]"
     ]
    },
    {
     "name": "stdout",
     "output_type": "stream",
     "text": [
      "[I 2025-04-14 04:39:29,080] Trial 34 finished with value: 0.8256078038322446 and parameters: {'grid_size': 9, 'spline_order': 2, 'noise_scale': 0.062463652279455634, 'batch_size': 16, 'lr': 1.1403558561490818e-05}. Best is trial 24 with value: 0.8507429848278424.\n",
      "checkpoint directory created: ./model\n",
      "saving model version 0.0\n",
      "checkpoint directory created: ./model\n",
      "saving model version 0.0\n",
      "checkpoint directory created: ./model\n",
      "saving model version 0.0\n"
     ]
    },
    {
     "name": "stderr",
     "output_type": "stream",
     "text": [
      "Best trial: 24. Best value: 0.850743:  72%|███████▏  | 36/50 [12:54:12<3:52:15, 995.40s/it] "
     ]
    },
    {
     "name": "stdout",
     "output_type": "stream",
     "text": [
      "[I 2025-04-14 04:55:43,686] Trial 35 finished with value: 0.847980591122111 and parameters: {'grid_size': 7, 'spline_order': 2, 'noise_scale': 0.07270394302138466, 'batch_size': 16, 'lr': 0.00013693638970282816}. Best is trial 24 with value: 0.8507429848278424.\n",
      "checkpoint directory created: ./model\n",
      "saving model version 0.0\n",
      "checkpoint directory created: ./model\n",
      "saving model version 0.0\n",
      "checkpoint directory created: ./model\n",
      "saving model version 0.0\n"
     ]
    },
    {
     "name": "stderr",
     "output_type": "stream",
     "text": [
      "Best trial: 24. Best value: 0.850743:  74%|███████▍  | 37/50 [13:10:15<3:33:33, 985.67s/it]"
     ]
    },
    {
     "name": "stdout",
     "output_type": "stream",
     "text": [
      "[I 2025-04-14 05:11:46,647] Trial 36 finished with value: 0.8480950655667966 and parameters: {'grid_size': 9, 'spline_order': 1, 'noise_scale': 0.06113549492406169, 'batch_size': 16, 'lr': 0.009853914204418168}. Best is trial 24 with value: 0.8507429848278424.\n",
      "checkpoint directory created: ./model\n",
      "saving model version 0.0\n",
      "checkpoint directory created: ./model\n",
      "saving model version 0.0\n",
      "checkpoint directory created: ./model\n",
      "saving model version 0.0\n"
     ]
    },
    {
     "name": "stderr",
     "output_type": "stream",
     "text": [
      "Best trial: 24. Best value: 0.850743:  76%|███████▌  | 38/50 [13:26:32<3:16:34, 982.91s/it]"
     ]
    },
    {
     "name": "stdout",
     "output_type": "stream",
     "text": [
      "[I 2025-04-14 05:28:03,138] Trial 37 finished with value: 0.8503327125759185 and parameters: {'grid_size': 8, 'spline_order': 2, 'noise_scale': 0.0342015188443613, 'batch_size': 16, 'lr': 0.003132408779154538}. Best is trial 24 with value: 0.8507429848278424.\n",
      "checkpoint directory created: ./model\n",
      "saving model version 0.0\n",
      "checkpoint directory created: ./model\n",
      "saving model version 0.0\n",
      "checkpoint directory created: ./model\n",
      "saving model version 0.0\n"
     ]
    },
    {
     "name": "stderr",
     "output_type": "stream",
     "text": [
      "Best trial: 24. Best value: 0.850743:  78%|███████▊  | 39/50 [13:58:33<3:51:49, 1264.48s/it]"
     ]
    },
    {
     "name": "stdout",
     "output_type": "stream",
     "text": [
      "[I 2025-04-14 06:00:04,603] Trial 38 finished with value: 0.8433488930851966 and parameters: {'grid_size': 7, 'spline_order': 3, 'width_0': 2, 'noise_scale': 0.0810021357406231, 'batch_size': 16, 'lr': 0.00535672321171807}. Best is trial 24 with value: 0.8507429848278424.\n",
      "checkpoint directory created: ./model\n",
      "saving model version 0.0\n",
      "checkpoint directory created: ./model\n",
      "saving model version 0.0\n",
      "checkpoint directory created: ./model\n",
      "saving model version 0.0\n"
     ]
    },
    {
     "name": "stderr",
     "output_type": "stream",
     "text": [
      "Best trial: 24. Best value: 0.850743:  80%|████████  | 40/50 [14:14:54<3:16:32, 1179.29s/it]"
     ]
    },
    {
     "name": "stdout",
     "output_type": "stream",
     "text": [
      "[I 2025-04-14 06:16:25,120] Trial 39 finished with value: 0.8501889607487518 and parameters: {'grid_size': 8, 'spline_order': 2, 'noise_scale': 0.045725193863006885, 'batch_size': 16, 'lr': 0.002003636201197783}. Best is trial 24 with value: 0.8507429848278424.\n",
      "checkpoint directory created: ./model\n",
      "saving model version 0.0\n",
      "checkpoint directory created: ./model\n",
      "saving model version 0.0\n",
      "checkpoint directory created: ./model\n",
      "saving model version 0.0\n"
     ]
    },
    {
     "name": "stderr",
     "output_type": "stream",
     "text": [
      "Best trial: 24. Best value: 0.850743:  82%|████████▏ | 41/50 [14:31:16<2:48:01, 1120.18s/it]"
     ]
    },
    {
     "name": "stdout",
     "output_type": "stream",
     "text": [
      "[I 2025-04-14 06:32:47,385] Trial 40 finished with value: 0.8497888789213667 and parameters: {'grid_size': 9, 'spline_order': 2, 'noise_scale': 0.022701413777772374, 'batch_size': 16, 'lr': 0.0008165617337252866}. Best is trial 24 with value: 0.8507429848278424.\n",
      "checkpoint directory created: ./model\n",
      "saving model version 0.0\n",
      "checkpoint directory created: ./model\n",
      "saving model version 0.0\n",
      "checkpoint directory created: ./model\n",
      "saving model version 0.0\n"
     ]
    },
    {
     "name": "stderr",
     "output_type": "stream",
     "text": [
      "Best trial: 24. Best value: 0.850743:  84%|████████▍ | 42/50 [14:47:37<2:23:48, 1078.58s/it]"
     ]
    },
    {
     "name": "stdout",
     "output_type": "stream",
     "text": [
      "[I 2025-04-14 06:49:08,887] Trial 41 finished with value: 0.8505594356415166 and parameters: {'grid_size': 8, 'spline_order': 2, 'noise_scale': 0.06918531607994746, 'batch_size': 16, 'lr': 0.005838280224540118}. Best is trial 24 with value: 0.8507429848278424.\n",
      "checkpoint directory created: ./model\n",
      "saving model version 0.0\n",
      "checkpoint directory created: ./model\n",
      "saving model version 0.0\n",
      "checkpoint directory created: ./model\n",
      "saving model version 0.0\n"
     ]
    },
    {
     "name": "stderr",
     "output_type": "stream",
     "text": [
      "Best trial: 24. Best value: 0.850743:  86%|████████▌ | 43/50 [15:04:49<2:04:10, 1064.38s/it]"
     ]
    },
    {
     "name": "stdout",
     "output_type": "stream",
     "text": [
      "[I 2025-04-14 07:06:20,153] Trial 42 finished with value: 0.8504208862522683 and parameters: {'grid_size': 8, 'spline_order': 2, 'noise_scale': 0.0664541843197898, 'batch_size': 16, 'lr': 0.0038575339191726696}. Best is trial 24 with value: 0.8507429848278424.\n",
      "checkpoint directory created: ./model\n",
      "saving model version 0.0\n",
      "checkpoint directory created: ./model\n",
      "saving model version 0.0\n",
      "checkpoint directory created: ./model\n",
      "saving model version 0.0\n"
     ]
    },
    {
     "name": "stderr",
     "output_type": "stream",
     "text": [
      "Best trial: 24. Best value: 0.850743:  88%|████████▊ | 44/50 [15:21:54<1:45:15, 1052.58s/it]"
     ]
    },
    {
     "name": "stdout",
     "output_type": "stream",
     "text": [
      "[I 2025-04-14 07:23:25,205] Trial 43 finished with value: 0.8507027261042124 and parameters: {'grid_size': 8, 'spline_order': 2, 'noise_scale': 0.09082870648099116, 'batch_size': 16, 'lr': 0.005762723490728155}. Best is trial 24 with value: 0.8507429848278424.\n",
      "checkpoint directory created: ./model\n",
      "saving model version 0.0\n",
      "checkpoint directory created: ./model\n",
      "saving model version 0.0\n",
      "checkpoint directory created: ./model\n",
      "saving model version 0.0\n"
     ]
    },
    {
     "name": "stderr",
     "output_type": "stream",
     "text": [
      "Best trial: 24. Best value: 0.850743:  90%|█████████ | 45/50 [15:39:14<1:27:25, 1049.05s/it]"
     ]
    },
    {
     "name": "stdout",
     "output_type": "stream",
     "text": [
      "[I 2025-04-14 07:40:45,994] Trial 44 finished with value: 0.8501603272321172 and parameters: {'grid_size': 7, 'spline_order': 2, 'noise_scale': 0.09229868338595294, 'batch_size': 16, 'lr': 0.001223007022669673}. Best is trial 24 with value: 0.8507429848278424.\n",
      "checkpoint directory created: ./model\n",
      "saving model version 0.0\n",
      "checkpoint directory created: ./model\n",
      "saving model version 0.0\n",
      "checkpoint directory created: ./model\n",
      "saving model version 0.0\n"
     ]
    },
    {
     "name": "stderr",
     "output_type": "stream",
     "text": [
      "Best trial: 24. Best value: 0.850743:  92%|█████████▏| 46/50 [15:56:25<1:09:34, 1043.56s/it]"
     ]
    },
    {
     "name": "stdout",
     "output_type": "stream",
     "text": [
      "[I 2025-04-14 07:57:56,745] Trial 45 finished with value: 0.8503585653207469 and parameters: {'grid_size': 8, 'spline_order': 2, 'noise_scale': 0.09003124309637464, 'batch_size': 16, 'lr': 0.003490972443056631}. Best is trial 24 with value: 0.8507429848278424.\n",
      "checkpoint directory created: ./model\n",
      "saving model version 0.0\n",
      "checkpoint directory created: ./model\n",
      "saving model version 0.0\n",
      "checkpoint directory created: ./model\n",
      "saving model version 0.0\n"
     ]
    },
    {
     "name": "stderr",
     "output_type": "stream",
     "text": [
      "Best trial: 24. Best value: 0.850743:  94%|█████████▍| 47/50 [16:14:06<52:26, 1048.77s/it]  "
     ]
    },
    {
     "name": "stdout",
     "output_type": "stream",
     "text": [
      "[I 2025-04-14 08:15:37,689] Trial 46 finished with value: 0.8505920084196447 and parameters: {'grid_size': 8, 'spline_order': 2, 'noise_scale': 0.09861246821500175, 'batch_size': 16, 'lr': 0.005858536704569585}. Best is trial 24 with value: 0.8507429848278424.\n",
      "checkpoint directory created: ./model\n",
      "saving model version 0.0\n",
      "checkpoint directory created: ./model\n",
      "saving model version 0.0\n",
      "checkpoint directory created: ./model\n",
      "saving model version 0.0\n"
     ]
    },
    {
     "name": "stderr",
     "output_type": "stream",
     "text": [
      "Best trial: 24. Best value: 0.850743:  96%|█████████▌| 48/50 [16:31:30<34:54, 1047.40s/it]"
     ]
    },
    {
     "name": "stdout",
     "output_type": "stream",
     "text": [
      "[I 2025-04-14 08:33:01,883] Trial 47 finished with value: 0.848166493058551 and parameters: {'grid_size': 5, 'spline_order': 2, 'noise_scale': 0.09349897186707845, 'batch_size': 16, 'lr': 0.002232044386350678}. Best is trial 24 with value: 0.8507429848278424.\n",
      "checkpoint directory created: ./model\n",
      "saving model version 0.0\n",
      "checkpoint directory created: ./model\n",
      "saving model version 0.0\n",
      "checkpoint directory created: ./model\n",
      "saving model version 0.0\n"
     ]
    },
    {
     "name": "stderr",
     "output_type": "stream",
     "text": [
      "Best trial: 24. Best value: 0.850743:  98%|█████████▊| 49/50 [16:40:13<14:50, 890.08s/it] "
     ]
    },
    {
     "name": "stdout",
     "output_type": "stream",
     "text": [
      "[I 2025-04-14 08:41:44,872] Trial 48 finished with value: 0.8488357678035646 and parameters: {'grid_size': 6, 'spline_order': 2, 'noise_scale': 0.09745629471100889, 'batch_size': 32, 'lr': 0.009676773087428338}. Best is trial 24 with value: 0.8507429848278424.\n",
      "checkpoint directory created: ./model\n",
      "saving model version 0.0\n",
      "checkpoint directory created: ./model\n",
      "saving model version 0.0\n",
      "checkpoint directory created: ./model\n",
      "saving model version 0.0\n"
     ]
    },
    {
     "name": "stderr",
     "output_type": "stream",
     "text": [
      "Best trial: 24. Best value: 0.850743: 100%|██████████| 50/50 [16:57:12<00:00, 1220.65s/it]"
     ]
    },
    {
     "name": "stdout",
     "output_type": "stream",
     "text": [
      "[I 2025-04-14 08:58:43,598] Trial 49 finished with value: 0.835661032038015 and parameters: {'grid_size': 8, 'spline_order': 1, 'noise_scale': 0.08917881885954662, 'batch_size': 16, 'lr': 2.6662364141577558e-05}. Best is trial 24 with value: 0.8507429848278424.\n",
      "\n",
      "Melhores hiperparâmetros:\n",
      "{'grid_size': 8, 'spline_order': 2, 'noise_scale': 0.04690917758405222, 'batch_size': 16, 'lr': 0.005916193252613903}\n",
      "\n",
      "Métricas médias:\n",
      "{'width': '[26, 1]', 'accuracy': 0.8047684685489008, 'precision': 0.6565692629304946, 'recall': 0.560655990462094, 'f1': 0.6039011212160893, 'auc_roc': 0.8507429848278424, 'ks': 54.65288209211627}\n"
     ]
    },
    {
     "name": "stderr",
     "output_type": "stream",
     "text": [
      "\n"
     ]
    }
   ],
   "source": [
    "\n",
    "study = optuna.create_study(direction='maximize')\n",
    "study.optimize(objective, n_trials=50, show_progress_bar=True)\n",
    "\n",
    "# Salvar resultados\n",
    "results_df = study.trials_dataframe()\n",
    "results_df['param_observado'] = 'Maximize AUC'\n",
    "\n",
    "file_name = './KAN/optuna_results_kan.xlsx'\n",
    "Path('./KAN/').mkdir(parents=True, exist_ok=True)\n",
    "\n",
    "if Path(file_name).exists():\n",
    "    existing_df = pd.read_excel(file_name)\n",
    "    combined_df = pd.concat([existing_df, results_df], ignore_index=True).drop_duplicates()\n",
    "    combined_df.to_excel(file_name, index=False)\n",
    "else:\n",
    "    results_df.to_excel(file_name, index=False)\n",
    "\n",
    "print(\"\\nMelhores hiperparâmetros:\")\n",
    "print(study.best_params)\n",
    "print(\"\\nMétricas médias:\")\n",
    "print({k: v for k, v in study.best_trial.user_attrs.items()})"
   ]
  },
  {
   "cell_type": "code",
   "execution_count": null,
   "metadata": {},
   "outputs": [],
   "source": []
  },
  {
   "cell_type": "code",
   "execution_count": null,
   "metadata": {},
   "outputs": [],
   "source": []
  }
 ],
 "metadata": {
  "kernelspec": {
   "display_name": "IA_venv",
   "language": "python",
   "name": "python3"
  },
  "language_info": {
   "codemirror_mode": {
    "name": "ipython",
    "version": 3
   },
   "file_extension": ".py",
   "mimetype": "text/x-python",
   "name": "python",
   "nbconvert_exporter": "python",
   "pygments_lexer": "ipython3",
   "version": "3.13.2"
  }
 },
 "nbformat": 4,
 "nbformat_minor": 2
}
