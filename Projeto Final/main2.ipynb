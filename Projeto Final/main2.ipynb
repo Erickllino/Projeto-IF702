{
 "cells": [
  {
   "cell_type": "markdown",
   "metadata": {},
   "source": [
    "# 🔷 **Previsão de Churn em Serviços de Telecom** 🔷\n",
    "---\n",
    "### 🔵 **Discente(s):**\n",
    "- 🗿 Bruno Antonio dos Santos Bezerra\n",
    "\n",
    "- 🗿 Erick Vinicius Rebouças Cruz\n",
    "\n",
    "- 🗿 Gabriel Monteiro Silva\n",
    "---\n",
    "### 🔵 **Framework:**\n",
    "- ⏫ TensorFlow 2.19.0\n",
    "\n",
    "- ⏫ Keras 3.9.0\n",
    "---\n",
    "### 🔵 **Requerimentos:**\n",
    "1. Python 3.12.3\n",
    "\n",
    "1. Tensorflow 2.19.0\n",
    "\n",
    "1. Pandas 2.2.3\n",
    "\n",
    "1. Matplotlib 3.10.1\n",
    "\n",
    "1. Sklearn 1.6.1\n",
    "\n",
    "1. Numpy 2.1.3\n",
    "\n",
    "1. Dataset: Last update: Feb27th, 2025\n",
    "    - https://www.kaggle.com/datasets/kapturovalexander/customers-churned-in-telecom-services/data\n",
    "---\n",
    "### 🔵 **Etapas do Projeto:**\n",
    "- Verificação do uso da GPU\n",
    "\n",
    "1. Importação de Bibliotecas e Dados\n",
    "\n",
    "1. Carregamento e Exploração dos Dados\n",
    "\n",
    "1. Pré-processamento\n",
    "    1. Retirada de Duplicatas\n",
    "\n",
    "    1. Retirada de Valores Faltantes\n",
    "\n",
    "    1. Transformação para Indicadores\n",
    "\n",
    "    1. Separação dos Conjuntos de Dados\n",
    "\n",
    "1. Otimização de Hiperparâmetros com Optuna\n",
    "    1. Modelo MLP\n",
    "\n",
    "    1. Modelo Random Forest\n",
    "\n",
    "    1. Modelo Gradient Boosting\n",
    "\n",
    "    1. Modelo KANs ::TODO::\n",
    "\n",
    "    1. Modelo STab ::TODO::\n",
    "\n",
    "    1. Modelo KAN TabKANet ::TODO::\n",
    "\n",
    "1. Previsões ::TODO::\n",
    "\n",
    "1. TODO\n",
    "    - AJEITAR BANCO DE DADOS TREINAMENTO\n",
    "    - KAN\n",
    "    - STAB\n",
    "    - KAN TABKANET\n",
    "    - AJUSTAR AS METRICAS NO OPTUNA\n",
    "    - ANEXAR METRICA NO DATASET\n",
    "---"
   ]
  },
  {
   "cell_type": "markdown",
   "metadata": {},
   "source": [
    "# 1. Importação de Bibliotecas e Dados"
   ]
  },
  {
   "cell_type": "code",
   "execution_count": 9,
   "metadata": {},
   "outputs": [],
   "source": [
    "import tensorflow as tf\n",
    "import joblib\n",
    "import numpy as np # Manipulação de dados numéricos e estruturados.\n",
    "import pandas as pd\n",
    "import matplotlib.pyplot as plt # Geração de gráficos.\n",
    "import optuna # Otimização de hiperparâmetros.\n",
    "from sklearn.preprocessing import StandardScaler # Normalização dos dados.\n",
    "from sklearn.preprocessing import OneHotEncoder # Codificação de variáveis categóricas.\n",
    "from sklearn.model_selection import StratifiedKFold as SKFold\n",
    "from sklearn.model_selection import train_test_split\n",
    "from sklearn.model_selection import cross_val_score\n",
    "\n",
    "# MSE - Erro Médio Quadrático\n",
    "from sklearn.metrics import mean_squared_error \n",
    "# Matriz de Confusão\n",
    "from sklearn.metrics import confusion_matrix\n",
    "# AUROC - Área sob a Curva ROC\n",
    "from sklearn.metrics import roc_auc_score\n",
    "# Recall, Precision e F1-Score\n",
    "from sklearn.metrics import recall_score, precision_score, f1_score\n",
    "# Teste Kolmogorov-Smirnov\n",
    "from sklearn.metrics import roc_curve\n",
    "# Modelo MLP\n",
    "from sklearn.neural_network import MLPClassifier\n",
    "# Modelo Random Forest\n",
    "from sklearn.ensemble import RandomForestClassifier\n",
    "# Modelo Gradient Boosting\n",
    "from sklearn.ensemble import GradientBoostingClassifier\n",
    "# Modelo KAN\n",
    "from imodelsx import KANClassifier\n",
    "\n",
    "# Importando o tqdm para adicionar barras de progresso\n",
    "from tqdm import tqdm\n",
    "\n",
    "import warnings\n",
    "from sklearn.exceptions import ConvergenceWarning\n",
    "warnings.filterwarnings('ignore', category=ConvergenceWarning)\n"
   ]
  },
  {
   "cell_type": "markdown",
   "metadata": {},
   "source": [
    "# Verificação do uso da GPU"
   ]
  },
  {
   "cell_type": "code",
   "execution_count": 10,
   "metadata": {},
   "outputs": [
    {
     "name": "stdout",
     "output_type": "stream",
     "text": [
      "/CPU:0\n"
     ]
    },
    {
     "data": {
      "text/plain": [
       "[]"
      ]
     },
     "execution_count": 10,
     "metadata": {},
     "output_type": "execute_result"
    }
   ],
   "source": [
    "tf.device('/GPU:0')\n",
    "device = \"/GPU:0\" if tf.config.list_physical_devices('GPU') else \"/CPU:0\"\n",
    "print(device)\n",
    "tf.config.list_physical_devices('GPU')"
   ]
  },
  {
   "cell_type": "markdown",
   "metadata": {},
   "source": [
    "# 2. Carregamento e Exploração dos Dados"
   ]
  },
  {
   "cell_type": "code",
   "execution_count": 11,
   "metadata": {},
   "outputs": [
    {
     "name": "stdout",
     "output_type": "stream",
     "text": [
      "Database's shape: (7043, 20)\n"
     ]
    },
    {
     "data": {
      "text/html": [
       "<div>\n",
       "<style scoped>\n",
       "    .dataframe tbody tr th:only-of-type {\n",
       "        vertical-align: middle;\n",
       "    }\n",
       "\n",
       "    .dataframe tbody tr th {\n",
       "        vertical-align: top;\n",
       "    }\n",
       "\n",
       "    .dataframe thead th {\n",
       "        text-align: right;\n",
       "    }\n",
       "</style>\n",
       "<table border=\"1\" class=\"dataframe\">\n",
       "  <thead>\n",
       "    <tr style=\"text-align: right;\">\n",
       "      <th></th>\n",
       "      <th>gender</th>\n",
       "      <th>SeniorCitizen</th>\n",
       "      <th>Partner</th>\n",
       "      <th>Dependents</th>\n",
       "      <th>tenure</th>\n",
       "      <th>PhoneService</th>\n",
       "      <th>MultipleLines</th>\n",
       "      <th>InternetService</th>\n",
       "      <th>OnlineSecurity</th>\n",
       "      <th>OnlineBackup</th>\n",
       "      <th>DeviceProtection</th>\n",
       "      <th>TechSupport</th>\n",
       "      <th>StreamingTV</th>\n",
       "      <th>StreamingMovies</th>\n",
       "      <th>Contract</th>\n",
       "      <th>PaperlessBilling</th>\n",
       "      <th>PaymentMethod</th>\n",
       "      <th>MonthlyCharges</th>\n",
       "      <th>TotalCharges</th>\n",
       "      <th>Churn</th>\n",
       "    </tr>\n",
       "  </thead>\n",
       "  <tbody>\n",
       "    <tr>\n",
       "      <th>0</th>\n",
       "      <td>Female</td>\n",
       "      <td>0</td>\n",
       "      <td>Yes</td>\n",
       "      <td>No</td>\n",
       "      <td>1</td>\n",
       "      <td>No</td>\n",
       "      <td>No phone service</td>\n",
       "      <td>DSL</td>\n",
       "      <td>No</td>\n",
       "      <td>Yes</td>\n",
       "      <td>No</td>\n",
       "      <td>No</td>\n",
       "      <td>No</td>\n",
       "      <td>No</td>\n",
       "      <td>Month-to-month</td>\n",
       "      <td>Yes</td>\n",
       "      <td>Electronic check</td>\n",
       "      <td>29.85</td>\n",
       "      <td>29.85</td>\n",
       "      <td>No</td>\n",
       "    </tr>\n",
       "    <tr>\n",
       "      <th>1</th>\n",
       "      <td>Male</td>\n",
       "      <td>0</td>\n",
       "      <td>No</td>\n",
       "      <td>No</td>\n",
       "      <td>34</td>\n",
       "      <td>Yes</td>\n",
       "      <td>No</td>\n",
       "      <td>DSL</td>\n",
       "      <td>Yes</td>\n",
       "      <td>No</td>\n",
       "      <td>Yes</td>\n",
       "      <td>No</td>\n",
       "      <td>No</td>\n",
       "      <td>No</td>\n",
       "      <td>One year</td>\n",
       "      <td>No</td>\n",
       "      <td>Mailed check</td>\n",
       "      <td>56.95</td>\n",
       "      <td>1936.30</td>\n",
       "      <td>No</td>\n",
       "    </tr>\n",
       "    <tr>\n",
       "      <th>2</th>\n",
       "      <td>Male</td>\n",
       "      <td>0</td>\n",
       "      <td>No</td>\n",
       "      <td>No</td>\n",
       "      <td>2</td>\n",
       "      <td>Yes</td>\n",
       "      <td>No</td>\n",
       "      <td>DSL</td>\n",
       "      <td>Yes</td>\n",
       "      <td>Yes</td>\n",
       "      <td>No</td>\n",
       "      <td>No</td>\n",
       "      <td>No</td>\n",
       "      <td>No</td>\n",
       "      <td>Month-to-month</td>\n",
       "      <td>Yes</td>\n",
       "      <td>Mailed check</td>\n",
       "      <td>53.85</td>\n",
       "      <td>107.70</td>\n",
       "      <td>Yes</td>\n",
       "    </tr>\n",
       "    <tr>\n",
       "      <th>3</th>\n",
       "      <td>Male</td>\n",
       "      <td>0</td>\n",
       "      <td>No</td>\n",
       "      <td>No</td>\n",
       "      <td>45</td>\n",
       "      <td>No</td>\n",
       "      <td>No phone service</td>\n",
       "      <td>DSL</td>\n",
       "      <td>Yes</td>\n",
       "      <td>No</td>\n",
       "      <td>Yes</td>\n",
       "      <td>Yes</td>\n",
       "      <td>No</td>\n",
       "      <td>No</td>\n",
       "      <td>One year</td>\n",
       "      <td>No</td>\n",
       "      <td>Bank transfer (automatic)</td>\n",
       "      <td>42.30</td>\n",
       "      <td>1903.50</td>\n",
       "      <td>No</td>\n",
       "    </tr>\n",
       "    <tr>\n",
       "      <th>4</th>\n",
       "      <td>Female</td>\n",
       "      <td>0</td>\n",
       "      <td>No</td>\n",
       "      <td>No</td>\n",
       "      <td>2</td>\n",
       "      <td>Yes</td>\n",
       "      <td>No</td>\n",
       "      <td>Fiber optic</td>\n",
       "      <td>No</td>\n",
       "      <td>No</td>\n",
       "      <td>No</td>\n",
       "      <td>No</td>\n",
       "      <td>No</td>\n",
       "      <td>No</td>\n",
       "      <td>Month-to-month</td>\n",
       "      <td>Yes</td>\n",
       "      <td>Electronic check</td>\n",
       "      <td>70.70</td>\n",
       "      <td>141.40</td>\n",
       "      <td>Yes</td>\n",
       "    </tr>\n",
       "  </tbody>\n",
       "</table>\n",
       "</div>"
      ],
      "text/plain": [
       "   gender  SeniorCitizen Partner Dependents  tenure PhoneService  \\\n",
       "0  Female              0     Yes         No       1           No   \n",
       "1    Male              0      No         No      34          Yes   \n",
       "2    Male              0      No         No       2          Yes   \n",
       "3    Male              0      No         No      45           No   \n",
       "4  Female              0      No         No       2          Yes   \n",
       "\n",
       "      MultipleLines InternetService OnlineSecurity OnlineBackup  \\\n",
       "0  No phone service             DSL             No          Yes   \n",
       "1                No             DSL            Yes           No   \n",
       "2                No             DSL            Yes          Yes   \n",
       "3  No phone service             DSL            Yes           No   \n",
       "4                No     Fiber optic             No           No   \n",
       "\n",
       "  DeviceProtection TechSupport StreamingTV StreamingMovies        Contract  \\\n",
       "0               No          No          No              No  Month-to-month   \n",
       "1              Yes          No          No              No        One year   \n",
       "2               No          No          No              No  Month-to-month   \n",
       "3              Yes         Yes          No              No        One year   \n",
       "4               No          No          No              No  Month-to-month   \n",
       "\n",
       "  PaperlessBilling              PaymentMethod  MonthlyCharges  TotalCharges  \\\n",
       "0              Yes           Electronic check           29.85         29.85   \n",
       "1               No               Mailed check           56.95       1936.30   \n",
       "2              Yes               Mailed check           53.85        107.70   \n",
       "3               No  Bank transfer (automatic)           42.30       1903.50   \n",
       "4              Yes           Electronic check           70.70        141.40   \n",
       "\n",
       "  Churn  \n",
       "0    No  \n",
       "1    No  \n",
       "2   Yes  \n",
       "3    No  \n",
       "4   Yes  "
      ]
     },
     "execution_count": 11,
     "metadata": {},
     "output_type": "execute_result"
    }
   ],
   "source": [
    "df_original = pd.read_csv('data/customer_churn_telecom_services.csv')\n",
    "df = df_original\n",
    "print(\"Database's shape:\", df.shape)\n",
    "df.head()"
   ]
  },
  {
   "cell_type": "code",
   "execution_count": 12,
   "metadata": {},
   "outputs": [
    {
     "name": "stdout",
     "output_type": "stream",
     "text": [
      "Resumo estatístico para números:\n"
     ]
    },
    {
     "data": {
      "text/html": [
       "<div>\n",
       "<style scoped>\n",
       "    .dataframe tbody tr th:only-of-type {\n",
       "        vertical-align: middle;\n",
       "    }\n",
       "\n",
       "    .dataframe tbody tr th {\n",
       "        vertical-align: top;\n",
       "    }\n",
       "\n",
       "    .dataframe thead th {\n",
       "        text-align: right;\n",
       "    }\n",
       "</style>\n",
       "<table border=\"1\" class=\"dataframe\">\n",
       "  <thead>\n",
       "    <tr style=\"text-align: right;\">\n",
       "      <th></th>\n",
       "      <th>SeniorCitizen</th>\n",
       "      <th>tenure</th>\n",
       "      <th>MonthlyCharges</th>\n",
       "      <th>TotalCharges</th>\n",
       "    </tr>\n",
       "  </thead>\n",
       "  <tbody>\n",
       "    <tr>\n",
       "      <th>count</th>\n",
       "      <td>7043.000000</td>\n",
       "      <td>7043.000000</td>\n",
       "      <td>7043.000000</td>\n",
       "      <td>7043.000000</td>\n",
       "    </tr>\n",
       "    <tr>\n",
       "      <th>mean</th>\n",
       "      <td>0.162147</td>\n",
       "      <td>32.371149</td>\n",
       "      <td>64.761692</td>\n",
       "      <td>2279.581350</td>\n",
       "    </tr>\n",
       "    <tr>\n",
       "      <th>std</th>\n",
       "      <td>0.368612</td>\n",
       "      <td>24.559481</td>\n",
       "      <td>30.090047</td>\n",
       "      <td>2264.729447</td>\n",
       "    </tr>\n",
       "    <tr>\n",
       "      <th>min</th>\n",
       "      <td>0.000000</td>\n",
       "      <td>0.000000</td>\n",
       "      <td>18.250000</td>\n",
       "      <td>0.000000</td>\n",
       "    </tr>\n",
       "    <tr>\n",
       "      <th>25%</th>\n",
       "      <td>0.000000</td>\n",
       "      <td>9.000000</td>\n",
       "      <td>35.500000</td>\n",
       "      <td>394.000000</td>\n",
       "    </tr>\n",
       "    <tr>\n",
       "      <th>50%</th>\n",
       "      <td>0.000000</td>\n",
       "      <td>29.000000</td>\n",
       "      <td>70.350000</td>\n",
       "      <td>1393.600000</td>\n",
       "    </tr>\n",
       "    <tr>\n",
       "      <th>75%</th>\n",
       "      <td>0.000000</td>\n",
       "      <td>55.000000</td>\n",
       "      <td>89.850000</td>\n",
       "      <td>3786.100000</td>\n",
       "    </tr>\n",
       "    <tr>\n",
       "      <th>max</th>\n",
       "      <td>1.000000</td>\n",
       "      <td>72.000000</td>\n",
       "      <td>118.750000</td>\n",
       "      <td>8550.000000</td>\n",
       "    </tr>\n",
       "  </tbody>\n",
       "</table>\n",
       "</div>"
      ],
      "text/plain": [
       "       SeniorCitizen       tenure  MonthlyCharges  TotalCharges\n",
       "count    7043.000000  7043.000000     7043.000000   7043.000000\n",
       "mean        0.162147    32.371149       64.761692   2279.581350\n",
       "std         0.368612    24.559481       30.090047   2264.729447\n",
       "min         0.000000     0.000000       18.250000      0.000000\n",
       "25%         0.000000     9.000000       35.500000    394.000000\n",
       "50%         0.000000    29.000000       70.350000   1393.600000\n",
       "75%         0.000000    55.000000       89.850000   3786.100000\n",
       "max         1.000000    72.000000      118.750000   8550.000000"
      ]
     },
     "metadata": {},
     "output_type": "display_data"
    },
    {
     "name": "stdout",
     "output_type": "stream",
     "text": [
      "Resumo estatístico para literais:\n"
     ]
    },
    {
     "data": {
      "text/html": [
       "<div>\n",
       "<style scoped>\n",
       "    .dataframe tbody tr th:only-of-type {\n",
       "        vertical-align: middle;\n",
       "    }\n",
       "\n",
       "    .dataframe tbody tr th {\n",
       "        vertical-align: top;\n",
       "    }\n",
       "\n",
       "    .dataframe thead th {\n",
       "        text-align: right;\n",
       "    }\n",
       "</style>\n",
       "<table border=\"1\" class=\"dataframe\">\n",
       "  <thead>\n",
       "    <tr style=\"text-align: right;\">\n",
       "      <th></th>\n",
       "      <th>gender</th>\n",
       "      <th>Partner</th>\n",
       "      <th>Dependents</th>\n",
       "      <th>PhoneService</th>\n",
       "      <th>MultipleLines</th>\n",
       "      <th>InternetService</th>\n",
       "      <th>OnlineSecurity</th>\n",
       "      <th>OnlineBackup</th>\n",
       "      <th>DeviceProtection</th>\n",
       "      <th>TechSupport</th>\n",
       "      <th>StreamingTV</th>\n",
       "      <th>StreamingMovies</th>\n",
       "      <th>Contract</th>\n",
       "      <th>PaperlessBilling</th>\n",
       "      <th>PaymentMethod</th>\n",
       "      <th>Churn</th>\n",
       "    </tr>\n",
       "  </thead>\n",
       "  <tbody>\n",
       "    <tr>\n",
       "      <th>count</th>\n",
       "      <td>7043</td>\n",
       "      <td>7043</td>\n",
       "      <td>7043</td>\n",
       "      <td>7043</td>\n",
       "      <td>7043</td>\n",
       "      <td>7043</td>\n",
       "      <td>7043</td>\n",
       "      <td>7043</td>\n",
       "      <td>7043</td>\n",
       "      <td>7043</td>\n",
       "      <td>7043</td>\n",
       "      <td>7043</td>\n",
       "      <td>7043</td>\n",
       "      <td>7043</td>\n",
       "      <td>7043</td>\n",
       "      <td>7043</td>\n",
       "    </tr>\n",
       "    <tr>\n",
       "      <th>unique</th>\n",
       "      <td>2</td>\n",
       "      <td>2</td>\n",
       "      <td>2</td>\n",
       "      <td>2</td>\n",
       "      <td>3</td>\n",
       "      <td>3</td>\n",
       "      <td>3</td>\n",
       "      <td>3</td>\n",
       "      <td>3</td>\n",
       "      <td>3</td>\n",
       "      <td>3</td>\n",
       "      <td>3</td>\n",
       "      <td>3</td>\n",
       "      <td>2</td>\n",
       "      <td>4</td>\n",
       "      <td>2</td>\n",
       "    </tr>\n",
       "    <tr>\n",
       "      <th>top</th>\n",
       "      <td>Male</td>\n",
       "      <td>No</td>\n",
       "      <td>No</td>\n",
       "      <td>Yes</td>\n",
       "      <td>No</td>\n",
       "      <td>Fiber optic</td>\n",
       "      <td>No</td>\n",
       "      <td>No</td>\n",
       "      <td>No</td>\n",
       "      <td>No</td>\n",
       "      <td>No</td>\n",
       "      <td>No</td>\n",
       "      <td>Month-to-month</td>\n",
       "      <td>Yes</td>\n",
       "      <td>Electronic check</td>\n",
       "      <td>No</td>\n",
       "    </tr>\n",
       "    <tr>\n",
       "      <th>freq</th>\n",
       "      <td>3555</td>\n",
       "      <td>3641</td>\n",
       "      <td>4933</td>\n",
       "      <td>6361</td>\n",
       "      <td>3390</td>\n",
       "      <td>3096</td>\n",
       "      <td>3498</td>\n",
       "      <td>3088</td>\n",
       "      <td>3095</td>\n",
       "      <td>3473</td>\n",
       "      <td>2810</td>\n",
       "      <td>2785</td>\n",
       "      <td>3875</td>\n",
       "      <td>4171</td>\n",
       "      <td>2365</td>\n",
       "      <td>5174</td>\n",
       "    </tr>\n",
       "  </tbody>\n",
       "</table>\n",
       "</div>"
      ],
      "text/plain": [
       "       gender Partner Dependents PhoneService MultipleLines InternetService  \\\n",
       "count    7043    7043       7043         7043          7043            7043   \n",
       "unique      2       2          2            2             3               3   \n",
       "top      Male      No         No          Yes            No     Fiber optic   \n",
       "freq     3555    3641       4933         6361          3390            3096   \n",
       "\n",
       "       OnlineSecurity OnlineBackup DeviceProtection TechSupport StreamingTV  \\\n",
       "count            7043         7043             7043        7043        7043   \n",
       "unique              3            3                3           3           3   \n",
       "top                No           No               No          No          No   \n",
       "freq             3498         3088             3095        3473        2810   \n",
       "\n",
       "       StreamingMovies        Contract PaperlessBilling     PaymentMethod  \\\n",
       "count             7043            7043             7043              7043   \n",
       "unique               3               3                2                 4   \n",
       "top                 No  Month-to-month              Yes  Electronic check   \n",
       "freq              2785            3875             4171              2365   \n",
       "\n",
       "       Churn  \n",
       "count   7043  \n",
       "unique     2  \n",
       "top       No  \n",
       "freq    5174  "
      ]
     },
     "metadata": {},
     "output_type": "display_data"
    },
    {
     "name": "stderr",
     "output_type": "stream",
     "text": [
      "/tmp/ipykernel_7004/164628802.py:146: UserWarning: FigureCanvasAgg is non-interactive, and thus cannot be shown\n",
      "  fig.show()\n"
     ]
    },
    {
     "data": {
      "image/png": "[encoded data removed]",
      "text/plain": [
       "<Figure size 2000x3000 with 21 Axes>"
      ]
     },
     "metadata": {},
     "output_type": "display_data"
    }
   ],
   "source": [
    "eda_df = df\n",
    "\n",
    "#  Resumo estatístico das variáveis\n",
    "print(\"Resumo estatístico para números:\")\n",
    "display(pd.DataFrame(eda_df.select_dtypes(include=['number']).describe()))\n",
    "print(\"Resumo estatístico para literais:\")\n",
    "display(pd.DataFrame(eda_df.select_dtypes(exclude=['number']).describe()))\n",
    "\n",
    "fig, axes = plt.subplots(7, 3, figsize=(20, 30))\n",
    "\n",
    "data = eda_df[eda_df[\"Churn\"] == \"Yes\"][\"gender\"].value_counts(normalize=True)\n",
    "axes[0, 0].bar(data.index, data.values, color=[\"green\", \"orange\", \"blue\", \"red\", \"purple\", \"yellow\"])\n",
    "axes[0, 0].set_title(\"Distribuição da variável alvo (Churn) por Gender\")\n",
    "axes[0, 0].set_xlabel(\"Gender\")\n",
    "axes[0, 0].set_ylabel(\"Porcentagem (%)\")\n",
    "\n",
    "data = eda_df[eda_df[\"Churn\"] == \"Yes\"][\"Partner\"].value_counts(normalize=True)\n",
    "axes[0, 1].bar(data.index, data.values, color=[\"green\", \"orange\", \"blue\", \"red\", \"purple\", \"yellow\"])\n",
    "axes[0, 1].set_title(\"Distribuição de Churn por Partner\")\n",
    "axes[0, 1].set_xlabel(\"Partner\")\n",
    "axes[0, 1].set_ylabel(\"Porcentagem (%)\")\n",
    "\n",
    "data = eda_df[eda_df[\"Churn\"] == \"Yes\"][\"Dependents\"].value_counts(normalize=True)\n",
    "axes[0, 2].bar(data.index, data.values, color=[\"green\", \"orange\", \"blue\", \"red\", \"purple\", \"yellow\"])\n",
    "axes[0, 2].set_title(\"Distribuição de Churn por Dependents\")\n",
    "axes[0, 2].set_xlabel(\"Dependents\")\n",
    "axes[0, 2].set_ylabel(\"Porcentagem (%)\")\n",
    "\n",
    "data = eda_df[eda_df[\"Churn\"] == \"Yes\"][\"PhoneService\"].value_counts(normalize=True)\n",
    "axes[1, 0].bar(data.index, data.values, color=[\"green\", \"orange\", \"blue\", \"red\", \"purple\", \"yellow\"])\n",
    "axes[1, 0].set_title(\"Distribuição de Churn por PhoneService\")\n",
    "axes[1, 0].set_xlabel(\"PhoneService\")\n",
    "axes[1, 0].set_ylabel(\"Porcentagem (%)\")\n",
    "\n",
    "data = eda_df[eda_df[\"Churn\"] == \"Yes\"][\"MultipleLines\"].value_counts(normalize=True)\n",
    "axes[1, 1].bar(data.index, data.values, color=[\"green\", \"orange\", \"blue\", \"red\", \"purple\", \"yellow\"])\n",
    "axes[1, 1].set_title(\"Distribuição de Churn por MultipleLines\")\n",
    "axes[1, 1].set_xlabel(\"MultipleLines\")\n",
    "axes[1, 1].set_ylabel(\"Porcentagem (%)\")\n",
    "\n",
    "data = eda_df[eda_df[\"Churn\"] == \"Yes\"][\"InternetService\"].value_counts(normalize=True)\n",
    "axes[1, 2].bar(data.index, data.values, color=[\"green\", \"orange\", \"blue\", \"red\", \"purple\", \"yellow\"])\n",
    "axes[1, 2].set_title(\"Distribuição de Churn por InternetService\")\n",
    "axes[1, 2].set_xlabel(\"InternetService\")\n",
    "axes[1, 2].set_ylabel(\"Porcentagem (%)\")\n",
    "\n",
    "data = eda_df[eda_df[\"Churn\"] == \"Yes\"][\"OnlineSecurity\"].value_counts(normalize=True)\n",
    "axes[2, 0].bar(data.index, data.values, color=[\"green\", \"orange\", \"blue\", \"red\", \"purple\", \"yellow\"])\n",
    "axes[2, 0].set_title(\"Distribuição de Churn por OnlineSecurity\")\n",
    "axes[2, 0].set_xlabel(\"OnlineSecurity\")\n",
    "axes[2, 0].set_ylabel(\"Porcentagem (%)\")\n",
    "\n",
    "data = eda_df[eda_df[\"Churn\"] == \"Yes\"][\"OnlineBackup\"].value_counts(normalize=True)\n",
    "axes[2, 1].bar(data.index, data.values, color=[\"green\", \"orange\", \"blue\", \"red\", \"purple\", \"yellow\"])\n",
    "axes[2, 1].set_title(\"Distribuição de Churn por OnlineBackup\")\n",
    "axes[2, 1].set_xlabel(\"OnlineBackup\")\n",
    "axes[2, 1].set_ylabel(\"Porcentagem (%)\")\n",
    "\n",
    "data = eda_df[eda_df[\"Churn\"] == \"Yes\"][\"DeviceProtection\"].value_counts(normalize=True)\n",
    "axes[2, 2].bar(data.index, data.values, color=[\"green\", \"orange\", \"blue\", \"red\", \"purple\", \"yellow\"])\n",
    "axes[2, 2].set_title(\"Distribuição de Churn por DeviceProtection\")\n",
    "axes[2, 2].set_xlabel(\"DeviceProtection\")\n",
    "axes[2, 2].set_ylabel(\"Porcentagem (%)\")\n",
    "\n",
    "data = eda_df[eda_df[\"Churn\"] == \"Yes\"][\"TechSupport\"].value_counts(normalize=True)\n",
    "axes[3, 0].bar(data.index, data.values, color=[\"green\", \"orange\", \"blue\", \"red\", \"purple\", \"yellow\"])\n",
    "axes[3, 0].set_title(\"Distribuição de Churn por TechSupport\")\n",
    "axes[3, 0].set_xlabel(\"TechSupport\")\n",
    "axes[3, 0].set_ylabel(\"Porcentagem (%)\")\n",
    "\n",
    "data = eda_df[eda_df[\"Churn\"] == \"Yes\"][\"StreamingTV\"].value_counts(normalize=True)\n",
    "axes[3, 1].bar(data.index, data.values, color=[\"green\", \"orange\", \"blue\", \"red\", \"purple\", \"yellow\"])\n",
    "axes[3, 1].set_title(\"Distribuição de Churn por StreamingTV\")\n",
    "axes[3, 1].set_xlabel(\"StreamingTV\")\n",
    "axes[3, 1].set_ylabel(\"Porcentagem (%)\")\n",
    "\n",
    "data = eda_df[eda_df[\"Churn\"] == \"Yes\"][\"StreamingMovies\"].value_counts(normalize=True)\n",
    "axes[3, 2].bar(data.index, data.values, color=[\"green\", \"orange\", \"blue\", \"red\", \"purple\", \"yellow\"])\n",
    "axes[3, 2].set_title(\"Distribuição de Churn por StreamingMovies\")\n",
    "axes[3, 2].set_xlabel(\"StreamingMovies\")\n",
    "axes[3, 2].set_ylabel(\"Porcentagem (%)\")\n",
    "\n",
    "data = eda_df[eda_df[\"Churn\"] == \"Yes\"][\"Contract\"].value_counts(normalize=True)\n",
    "axes[4, 0].bar(data.index, data.values, color=[\"green\", \"orange\", \"blue\", \"red\", \"purple\", \"yellow\"])\n",
    "axes[4, 0].set_title(\"Distribuição de Churn por Contract\")\n",
    "axes[4, 0].set_xlabel(\"Contract\")\n",
    "axes[4, 0].set_ylabel(\"Porcentagem (%)\")\n",
    "\n",
    "data = eda_df[eda_df[\"Churn\"] == \"Yes\"][\"PaperlessBilling\"].value_counts(normalize=True)\n",
    "axes[4, 1].bar(data.index, data.values, color=[\"green\", \"orange\", \"blue\", \"red\", \"purple\", \"yellow\"])\n",
    "axes[4, 1].set_title(\"Distribuição de Churn por PaperlessBilling\")\n",
    "axes[4, 1].set_xlabel(\"PaperlessBilling\")\n",
    "axes[4, 1].set_ylabel(\"Porcentagem (%)\")\n",
    "\n",
    "data = eda_df[eda_df[\"Churn\"] == \"Yes\"][\"PaymentMethod\"].value_counts(normalize=True)\n",
    "axes[4, 2].bar(data.index, data.values, color=[\"green\", \"orange\", \"blue\", \"red\", \"purple\", \"yellow\"])\n",
    "axes[4, 2].set_title(\"Distribuição de Churn por PaymentMethod\")\n",
    "axes[4, 2].set_xlabel(\"PaymentMethod\")\n",
    "axes[4, 2].set_ylabel(\"Porcentagem (%)\")\n",
    "\n",
    "data = eda_df[eda_df[\"Churn\"] == \"Yes\"][\"SeniorCitizen\"].value_counts(normalize=True)\n",
    "axes[5, 0].bar(data.index.astype(str), data.values, color=[\"green\", \"orange\", \"blue\", \"red\", \"purple\", \"yellow\"])\n",
    "axes[5, 0].set_title(\"Distribuição de Churn por SeniorCitizen\")\n",
    "axes[5, 0].set_xlabel(\"SeniorCitizen\")\n",
    "axes[5, 0].set_ylabel(\"Porcentagem (%)\")\n",
    "\n",
    "data = pd.cut(eda_df[eda_df[\"Churn\"] == \"Yes\"][\"tenure\"], bins=5, precision=0).value_counts(normalize=True)\n",
    "axes[5, 1].bar(data.index.astype(str), data.values, color=[\"green\", \"orange\", \"blue\", \"red\", \"purple\", \"yellow\"])\n",
    "axes[5, 1].set_title(\"Distribuição de Churn por Tenure\")\n",
    "axes[5, 1].set_xlabel(\"Tenure\")\n",
    "axes[5, 1].set_ylabel(\"Porcentagem (%)\")\n",
    "\n",
    "data = pd.cut(eda_df[eda_df[\"Churn\"] == \"Yes\"][\"MonthlyCharges\"], bins=5, precision=0).value_counts(normalize=True)\n",
    "axes[5, 2].bar(data.index.astype(str), data.values, color=[\"green\", \"orange\", \"blue\", \"red\", \"purple\", \"yellow\"])\n",
    "axes[5, 2].set_title(\"Distribuição de Churn por MonthlyCharges\")\n",
    "axes[5, 2].set_xlabel(\"MonthlyCharges\")\n",
    "axes[5, 2].set_ylabel(\"Porcentagem (%)\")\n",
    "\n",
    "data = pd.cut(eda_df[eda_df[\"Churn\"] == \"Yes\"][\"TotalCharges\"], bins=5, precision=0).value_counts(normalize=True)\n",
    "axes[6, 0].bar(data.index.astype(str), data.values, color=[\"green\", \"orange\", \"blue\", \"red\", \"purple\", \"yellow\"])\n",
    "axes[6, 0].set_title(\"Distribuição de Churn por TotalCharges\")\n",
    "axes[6, 0].set_xlabel(\"TotalCharges\")\n",
    "axes[6, 0].set_ylabel(\"Porcentagem (%)\")\n",
    "\n",
    "# eda_df[\"tenure_category\"] = pd.cut(eda_df[\"tenure\"], bins=[0, 12, 24, 60, 120], labels=[\"0-1 ano\", \"1-2 anos\", \"2-5 anos\", \"5+ anos\"])\n",
    "# plt.figure(figsize=(8, 5))\n",
    "# sns.countplot(x=eda_df[\"tenure_category\"], hue=eda_df[\"Churn\"])\n",
    "# plt.title(\"Distribuição do Tempo de Cliente vs Churn\")\n",
    "# plt.xlabel(\"Tempo como Cliente\")\n",
    "# plt.ylabel(\"Contagem\")\n",
    "# plt.legend(title=\"Churn\", labels=[\"Não\", \"Sim\"])\n",
    "# plt.show()\n",
    "\n",
    "# eda_df[\"MonthlyCharges_category\"] = pd.cut(eda_df[\"MonthlyCharges\"], bins=5, labels=[\"Muito Baixo\", \"Baixo\", \"Médio\", \"Alto\", \"Muito Alto\"])\n",
    "# churn_counts = eda_df.groupby(\"MonthlyCharges_category\", observed=True)[\"Churn\"].value_counts(normalize=True).unstack()\n",
    "# churn_counts.plot(kind=\"bar\", stacked=True, figsize=(8, 5), colormap=\"coolwarm\")\n",
    "# plt.title(\"Porcentagem Acumulativa de Churn por Faixa de Pagamento\")\n",
    "# plt.xlabel(\"Faixa de Pagamento Mensal\")\n",
    "# plt.ylabel(\"Proporção de Churn\")\n",
    "# plt.legend(title=\"Churn\", labels=[\"Não\", \"Sim\"])\n",
    "# plt.grid(axis=\"y\", linestyle=\"--\", alpha=0.7)\n",
    "\n",
    "fig.subplots_adjust(hspace=0.6)\n",
    "for ax in fig.get_axes():  # Percorre todos os subgráficos\n",
    "    ax.tick_params(axis=\"x\", rotation=15)\n",
    "fig.show()\n"
   ]
  },
  {
   "cell_type": "markdown",
   "metadata": {},
   "source": [
    "# 3. Pré-processamento"
   ]
  },
  {
   "cell_type": "markdown",
   "metadata": {},
   "source": [
    "### 3.1 Retirada de Duplicatas"
   ]
  },
  {
   "cell_type": "code",
   "execution_count": 13,
   "metadata": {},
   "outputs": [
    {
     "name": "stdout",
     "output_type": "stream",
     "text": [
      "Database's shape: (7043, 20)\n"
     ]
    }
   ],
   "source": [
    "df.drop_duplicates(df.columns, ignore_index=True)\n",
    "print(\"Database's shape:\", df.shape)"
   ]
  },
  {
   "cell_type": "markdown",
   "metadata": {},
   "source": [
    "### 3.2 Retirada de Valores Faltantes"
   ]
  },
  {
   "cell_type": "code",
   "execution_count": 14,
   "metadata": {},
   "outputs": [
    {
     "name": "stdout",
     "output_type": "stream",
     "text": [
      "Database's shape: (7043, 20)\n"
     ]
    }
   ],
   "source": [
    "df.dropna(ignore_index=True)\n",
    "print(\"Database's shape:\", df.shape)"
   ]
  },
  {
   "cell_type": "markdown",
   "metadata": {},
   "source": [
    "### 3.2 Transformação para Indicadores"
   ]
  },
  {
   "cell_type": "code",
   "execution_count": 15,
   "metadata": {},
   "outputs": [
    {
     "name": "stdout",
     "output_type": "stream",
     "text": [
      "Database's shape: (7043, 31)\n"
     ]
    },
    {
     "data": {
      "text/html": [
       "<div>\n",
       "<style scoped>\n",
       "    .dataframe tbody tr th:only-of-type {\n",
       "        vertical-align: middle;\n",
       "    }\n",
       "\n",
       "    .dataframe tbody tr th {\n",
       "        vertical-align: top;\n",
       "    }\n",
       "\n",
       "    .dataframe thead th {\n",
       "        text-align: right;\n",
       "    }\n",
       "</style>\n",
       "<table border=\"1\" class=\"dataframe\">\n",
       "  <thead>\n",
       "    <tr style=\"text-align: right;\">\n",
       "      <th></th>\n",
       "      <th>SeniorCitizen</th>\n",
       "      <th>tenure</th>\n",
       "      <th>MonthlyCharges</th>\n",
       "      <th>TotalCharges</th>\n",
       "      <th>gender_Male</th>\n",
       "      <th>Partner_Yes</th>\n",
       "      <th>Dependents_Yes</th>\n",
       "      <th>PhoneService_Yes</th>\n",
       "      <th>MultipleLines_No phone service</th>\n",
       "      <th>MultipleLines_Yes</th>\n",
       "      <th>...</th>\n",
       "      <th>StreamingTV_Yes</th>\n",
       "      <th>StreamingMovies_No internet service</th>\n",
       "      <th>StreamingMovies_Yes</th>\n",
       "      <th>Contract_One year</th>\n",
       "      <th>Contract_Two year</th>\n",
       "      <th>PaperlessBilling_Yes</th>\n",
       "      <th>PaymentMethod_Credit card (automatic)</th>\n",
       "      <th>PaymentMethod_Electronic check</th>\n",
       "      <th>PaymentMethod_Mailed check</th>\n",
       "      <th>Churn_Yes</th>\n",
       "    </tr>\n",
       "  </thead>\n",
       "  <tbody>\n",
       "    <tr>\n",
       "      <th>0</th>\n",
       "      <td>0</td>\n",
       "      <td>1</td>\n",
       "      <td>29.85</td>\n",
       "      <td>29.85</td>\n",
       "      <td>False</td>\n",
       "      <td>True</td>\n",
       "      <td>False</td>\n",
       "      <td>False</td>\n",
       "      <td>True</td>\n",
       "      <td>False</td>\n",
       "      <td>...</td>\n",
       "      <td>False</td>\n",
       "      <td>False</td>\n",
       "      <td>False</td>\n",
       "      <td>False</td>\n",
       "      <td>False</td>\n",
       "      <td>True</td>\n",
       "      <td>False</td>\n",
       "      <td>True</td>\n",
       "      <td>False</td>\n",
       "      <td>False</td>\n",
       "    </tr>\n",
       "    <tr>\n",
       "      <th>1</th>\n",
       "      <td>0</td>\n",
       "      <td>34</td>\n",
       "      <td>56.95</td>\n",
       "      <td>1936.30</td>\n",
       "      <td>True</td>\n",
       "      <td>False</td>\n",
       "      <td>False</td>\n",
       "      <td>True</td>\n",
       "      <td>False</td>\n",
       "      <td>False</td>\n",
       "      <td>...</td>\n",
       "      <td>False</td>\n",
       "      <td>False</td>\n",
       "      <td>False</td>\n",
       "      <td>True</td>\n",
       "      <td>False</td>\n",
       "      <td>False</td>\n",
       "      <td>False</td>\n",
       "      <td>False</td>\n",
       "      <td>True</td>\n",
       "      <td>False</td>\n",
       "    </tr>\n",
       "    <tr>\n",
       "      <th>2</th>\n",
       "      <td>0</td>\n",
       "      <td>2</td>\n",
       "      <td>53.85</td>\n",
       "      <td>107.70</td>\n",
       "      <td>True</td>\n",
       "      <td>False</td>\n",
       "      <td>False</td>\n",
       "      <td>True</td>\n",
       "      <td>False</td>\n",
       "      <td>False</td>\n",
       "      <td>...</td>\n",
       "      <td>False</td>\n",
       "      <td>False</td>\n",
       "      <td>False</td>\n",
       "      <td>False</td>\n",
       "      <td>False</td>\n",
       "      <td>True</td>\n",
       "      <td>False</td>\n",
       "      <td>False</td>\n",
       "      <td>True</td>\n",
       "      <td>True</td>\n",
       "    </tr>\n",
       "    <tr>\n",
       "      <th>3</th>\n",
       "      <td>0</td>\n",
       "      <td>45</td>\n",
       "      <td>42.30</td>\n",
       "      <td>1903.50</td>\n",
       "      <td>True</td>\n",
       "      <td>False</td>\n",
       "      <td>False</td>\n",
       "      <td>False</td>\n",
       "      <td>True</td>\n",
       "      <td>False</td>\n",
       "      <td>...</td>\n",
       "      <td>False</td>\n",
       "      <td>False</td>\n",
       "      <td>False</td>\n",
       "      <td>True</td>\n",
       "      <td>False</td>\n",
       "      <td>False</td>\n",
       "      <td>False</td>\n",
       "      <td>False</td>\n",
       "      <td>False</td>\n",
       "      <td>False</td>\n",
       "    </tr>\n",
       "    <tr>\n",
       "      <th>4</th>\n",
       "      <td>0</td>\n",
       "      <td>2</td>\n",
       "      <td>70.70</td>\n",
       "      <td>141.40</td>\n",
       "      <td>False</td>\n",
       "      <td>False</td>\n",
       "      <td>False</td>\n",
       "      <td>True</td>\n",
       "      <td>False</td>\n",
       "      <td>False</td>\n",
       "      <td>...</td>\n",
       "      <td>False</td>\n",
       "      <td>False</td>\n",
       "      <td>False</td>\n",
       "      <td>False</td>\n",
       "      <td>False</td>\n",
       "      <td>True</td>\n",
       "      <td>False</td>\n",
       "      <td>True</td>\n",
       "      <td>False</td>\n",
       "      <td>True</td>\n",
       "    </tr>\n",
       "  </tbody>\n",
       "</table>\n",
       "<p>5 rows × 31 columns</p>\n",
       "</div>"
      ],
      "text/plain": [
       "   SeniorCitizen  tenure  MonthlyCharges  TotalCharges  gender_Male  \\\n",
       "0              0       1           29.85         29.85        False   \n",
       "1              0      34           56.95       1936.30         True   \n",
       "2              0       2           53.85        107.70         True   \n",
       "3              0      45           42.30       1903.50         True   \n",
       "4              0       2           70.70        141.40        False   \n",
       "\n",
       "   Partner_Yes  Dependents_Yes  PhoneService_Yes  \\\n",
       "0         True           False             False   \n",
       "1        False           False              True   \n",
       "2        False           False              True   \n",
       "3        False           False             False   \n",
       "4        False           False              True   \n",
       "\n",
       "   MultipleLines_No phone service  MultipleLines_Yes  ...  StreamingTV_Yes  \\\n",
       "0                            True              False  ...            False   \n",
       "1                           False              False  ...            False   \n",
       "2                           False              False  ...            False   \n",
       "3                            True              False  ...            False   \n",
       "4                           False              False  ...            False   \n",
       "\n",
       "   StreamingMovies_No internet service  StreamingMovies_Yes  \\\n",
       "0                                False                False   \n",
       "1                                False                False   \n",
       "2                                False                False   \n",
       "3                                False                False   \n",
       "4                                False                False   \n",
       "\n",
       "   Contract_One year  Contract_Two year  PaperlessBilling_Yes  \\\n",
       "0              False              False                  True   \n",
       "1               True              False                 False   \n",
       "2              False              False                  True   \n",
       "3               True              False                 False   \n",
       "4              False              False                  True   \n",
       "\n",
       "   PaymentMethod_Credit card (automatic)  PaymentMethod_Electronic check  \\\n",
       "0                                  False                            True   \n",
       "1                                  False                           False   \n",
       "2                                  False                           False   \n",
       "3                                  False                           False   \n",
       "4                                  False                            True   \n",
       "\n",
       "   PaymentMethod_Mailed check  Churn_Yes  \n",
       "0                       False      False  \n",
       "1                        True      False  \n",
       "2                        True       True  \n",
       "3                       False      False  \n",
       "4                       False       True  \n",
       "\n",
       "[5 rows x 31 columns]"
      ]
     },
     "execution_count": 15,
     "metadata": {},
     "output_type": "execute_result"
    }
   ],
   "source": [
    "df = pd.get_dummies(df, drop_first=True)\n",
    "print(\"Database's shape:\", df.shape)\n",
    "df.head()"
   ]
  },
  {
   "cell_type": "markdown",
   "metadata": {},
   "source": [
    "### 3.3. Separação dos Conjuntos de Dados"
   ]
  },
  {
   "cell_type": "code",
   "execution_count": 16,
   "metadata": {},
   "outputs": [
    {
     "name": "stdout",
     "output_type": "stream",
     "text": [
      "Fold 0\n",
      "Train:4695 index=[   1    2    3 ... 7037 7040 7042]\n",
      "Test:2348 index=[   0    4    7 ... 7038 7039 7041]\n",
      "Fold 1\n",
      "Train:4695 index=[   0    1    4 ... 7038 7039 7041]\n",
      "Test:2348 index=[   2    3    6 ... 7037 7040 7042]\n",
      "Fold 2\n",
      "Train:4696 index=[   0    2    3 ... 7040 7041 7042]\n",
      "Test:2347 index=[   1    5   13 ... 7025 7027 7032]\n",
      "[(0, array([   1,    2,    3, ..., 7037, 7040, 7042]), array([   0,    4,    7, ..., 7038, 7039, 7041])), (1, array([   0,    1,    4, ..., 7038, 7039, 7041]), array([   2,    3,    6, ..., 7037, 7040, 7042])), (2, array([   0,    2,    3, ..., 7040, 7041, 7042]), array([   1,    5,   13, ..., 7025, 7027, 7032]))]\n"
     ]
    }
   ],
   "source": [
    "df_data = df.drop(columns=['Churn_Yes'])\n",
    "df_target = df['Churn_Yes']\n",
    "\n",
    "X_train, X_test, y_train, y_test = train_test_split(df_data, df_target, test_size=0.25, stratify=df_target, random_state=50)\n",
    "X_train, X_val, y_train, y_val = train_test_split(X_train, y_train, test_size=0.33, stratify=y_train, random_state=50)\n",
    "\n",
    "# print(df_target.value_counts(normalize=True))\n",
    "# print(y_train.value_counts(normalize=True))\n",
    "# print(y_test.value_counts(normalize=True))\n",
    "\n",
    "kf = SKFold(n_splits=3, shuffle=True, random_state=50)\n",
    "\n",
    "indexesJoin = []\n",
    "for i, (train_i, test_i) in enumerate(kf.split(df_data, df_target)):\n",
    "    print(f'Fold {i}')\n",
    "    print(f'Train:{len(train_i)} index={train_i}')\n",
    "    print(f'Test:{len(test_i)} index={test_i}')\n",
    "    indexesJoin.append((i, train_i, test_i))\n",
    "\n",
    "print(indexesJoin)\n"
   ]
  },
  {
   "cell_type": "markdown",
   "metadata": {},
   "source": [
    "# 4. Otimização de Hiperparâmetros com Optuna"
   ]
  },
  {
   "cell_type": "markdown",
   "metadata": {},
   "source": [
    "### 4.1 Modelo MLP"
   ]
  },
  {
   "cell_type": "code",
   "execution_count": null,
   "metadata": {},
   "outputs": [
    {
     "name": "stderr",
     "output_type": "stream",
     "text": [
      "[I 2025-03-19 19:31:58,951] A new study created in memory with name: no-name-27d1e08f-00ce-43cd-93aa-bcc09913488f\n"
     ]
    },
    {
     "data": {
      "application/vnd.jupyter.widget-view+json": {
       "model_id": "6800c0ff492c405396591b9f37db0b5b",
       "version_major": 2,
       "version_minor": 0
      },
      "text/plain": [
       "  0%|          | 0/50 [00:00<?, ?it/s]"
      ]
     },
     "metadata": {},
     "output_type": "display_data"
    },
    {
     "name": "stdout",
     "output_type": "stream",
     "text": [
      "[I 2025-03-19 19:33:37,269] Trial 0 finished with value: 0.7661501132210051 and parameters: {'num_layers': 5, 'hidden_layer_1': 278, 'hidden_layer_2': 8, 'hidden_layer_3': 284, 'hidden_layer_4': 230, 'hidden_layer_5': 251, 'activation': 'tanh', 'solver': 'sgd', 'alpha': 1.118032109960601e-05, 'max_iter': 496, 'learning_rate_init': 0.00012916249402965583}. Best is trial 0 with value: 0.7661501132210051.\n",
      "[I 2025-03-19 19:33:44,323] Trial 1 finished with value: 0.7346301185052165 and parameters: {'num_layers': 6, 'hidden_layer_1': 169, 'hidden_layer_2': 290, 'hidden_layer_3': 61, 'hidden_layer_4': 274, 'hidden_layer_5': 277, 'hidden_layer_6': 222, 'activation': 'logistic', 'solver': 'lbfgs', 'alpha': 6.24545071821184e-05, 'max_iter': 413, 'learning_rate_init': 0.0006158065430147661}. Best is trial 0 with value: 0.7661501132210051.\n",
      "[I 2025-03-19 19:33:45,656] Trial 2 finished with value: 0.7742450703073529 and parameters: {'num_layers': 2, 'hidden_layer_1': 82, 'hidden_layer_2': 34, 'activation': 'logistic', 'solver': 'adam', 'alpha': 1.7066265171458805e-05, 'max_iter': 123, 'learning_rate_init': 0.005738949419675583}. Best is trial 2 with value: 0.7742450703073529.\n",
      "[I 2025-03-19 19:43:11,244] Trial 3 finished with value: 0.7922754458130004 and parameters: {'num_layers': 4, 'hidden_layer_1': 96, 'hidden_layer_2': 13, 'hidden_layer_3': 92, 'hidden_layer_4': 105, 'activation': 'relu', 'solver': 'lbfgs', 'alpha': 0.00020186777705702357, 'max_iter': 490, 'learning_rate_init': 0.00252818205092409}. Best is trial 3 with value: 0.7922754458130004.\n",
      "[I 2025-03-19 19:44:10,231] Trial 4 finished with value: 0.7823379103218021 and parameters: {'num_layers': 9, 'hidden_layer_1': 30, 'hidden_layer_2': 49, 'hidden_layer_3': 89, 'hidden_layer_4': 262, 'hidden_layer_5': 110, 'hidden_layer_6': 300, 'hidden_layer_7': 75, 'hidden_layer_8': 161, 'hidden_layer_9': 134, 'activation': 'tanh', 'solver': 'adam', 'alpha': 7.864903037721599e-05, 'max_iter': 337, 'learning_rate_init': 0.0005089629960115292}. Best is trial 3 with value: 0.7922754458130004.\n",
      "[I 2025-03-19 19:44:34,910] Trial 5 finished with value: 0.7427221116909065 and parameters: {'num_layers': 9, 'hidden_layer_1': 118, 'hidden_layer_2': 69, 'hidden_layer_3': 142, 'hidden_layer_4': 41, 'hidden_layer_5': 66, 'hidden_layer_6': 235, 'hidden_layer_7': 166, 'hidden_layer_8': 19, 'hidden_layer_9': 229, 'activation': 'relu', 'solver': 'sgd', 'alpha': 6.632077964593972e-05, 'max_iter': 377, 'learning_rate_init': 0.0035079953267496172}. Best is trial 3 with value: 0.7922754458130004.\n",
      "[I 2025-03-19 19:44:48,172] Trial 6 finished with value: 0.791281631776112 and parameters: {'num_layers': 3, 'hidden_layer_1': 2, 'hidden_layer_2': 257, 'hidden_layer_3': 81, 'activation': 'logistic', 'solver': 'adam', 'alpha': 1.5193070188716145e-05, 'max_iter': 435, 'learning_rate_init': 0.0010916920954448582}. Best is trial 3 with value: 0.7922754458130004.\n",
      "[I 2025-03-19 19:51:31,956] Trial 7 finished with value: 0.7867376696288737 and parameters: {'num_layers': 2, 'hidden_layer_1': 144, 'hidden_layer_2': 223, 'activation': 'relu', 'solver': 'lbfgs', 'alpha': 1.3191581625230686e-05, 'max_iter': 333, 'learning_rate_init': 0.0005523702540026071}. Best is trial 3 with value: 0.7922754458130004.\n",
      "[I 2025-03-19 19:51:42,766] Trial 8 finished with value: 0.7346301185052165 and parameters: {'num_layers': 7, 'hidden_layer_1': 260, 'hidden_layer_2': 77, 'hidden_layer_3': 28, 'hidden_layer_4': 184, 'hidden_layer_5': 27, 'hidden_layer_6': 86, 'hidden_layer_7': 55, 'activation': 'logistic', 'solver': 'sgd', 'alpha': 0.0035361101474769264, 'max_iter': 463, 'learning_rate_init': 0.004284817625748826}. Best is trial 3 with value: 0.7922754458130004.\n",
      "[I 2025-03-19 19:51:51,426] Trial 9 finished with value: 0.7346301185052165 and parameters: {'num_layers': 10, 'hidden_layer_1': 187, 'hidden_layer_2': 272, 'hidden_layer_3': 175, 'hidden_layer_4': 266, 'hidden_layer_5': 170, 'hidden_layer_6': 283, 'hidden_layer_7': 20, 'hidden_layer_8': 249, 'hidden_layer_9': 90, 'hidden_layer_10': 40, 'activation': 'logistic', 'solver': 'lbfgs', 'alpha': 0.0009958641494168601, 'max_iter': 232, 'learning_rate_init': 0.00310600511269467}. Best is trial 3 with value: 0.7922754458130004.\n",
      "[I 2025-03-19 19:56:28,191] Trial 10 finished with value: 0.7858866067257075 and parameters: {'num_layers': 4, 'hidden_layer_1': 71, 'hidden_layer_2': 153, 'hidden_layer_3': 199, 'hidden_layer_4': 76, 'activation': 'relu', 'solver': 'lbfgs', 'alpha': 0.00040294056495070505, 'max_iter': 235, 'learning_rate_init': 0.009433551835728637}. Best is trial 3 with value: 0.7922754458130004.\n",
      "[I 2025-03-19 19:56:35,078] Trial 11 finished with value: 0.7863127430549759 and parameters: {'num_layers': 3, 'hidden_layer_1': 5, 'hidden_layer_2': 142, 'hidden_layer_3': 106, 'activation': 'relu', 'solver': 'adam', 'alpha': 0.00021027102769631193, 'max_iter': 488, 'learning_rate_init': 0.001508704964866294}. Best is trial 3 with value: 0.7922754458130004.\n",
      "[I 2025-03-19 19:56:36,110] Trial 12 finished with value: 0.7945472454233139 and parameters: {'num_layers': 1, 'hidden_layer_1': 47, 'activation': 'logistic', 'solver': 'adam', 'alpha': 0.00828626226406214, 'max_iter': 435, 'learning_rate_init': 0.001450381638737278}. Best is trial 12 with value: 0.7945472454233139.\n",
      "[I 2025-03-19 19:56:49,900] Trial 13 finished with value: 0.7738190549536216 and parameters: {'num_layers': 1, 'hidden_layer_1': 68, 'activation': 'relu', 'solver': 'lbfgs', 'alpha': 0.008360739524002316, 'max_iter': 76, 'learning_rate_init': 0.0016854132045540436}. Best is trial 12 with value: 0.7945472454233139.\n",
      "[I 2025-03-19 19:56:53,089] Trial 14 finished with value: 0.7988070360340154 and parameters: {'num_layers': 1, 'hidden_layer_1': 106, 'activation': 'tanh', 'solver': 'adam', 'alpha': 0.0018991486645940818, 'max_iter': 298, 'learning_rate_init': 0.0002214087402165964}. Best is trial 14 with value: 0.7988070360340154.\n",
      "[I 2025-03-19 19:56:58,578] Trial 15 finished with value: 0.795965744083026 and parameters: {'num_layers': 1, 'hidden_layer_1': 201, 'activation': 'tanh', 'solver': 'adam', 'alpha': 0.0023627952259447763, 'max_iter': 271, 'learning_rate_init': 0.00018629553937714308}. Best is trial 14 with value: 0.7988070360340154.\n",
      "[I 2025-03-19 19:57:20,426] Trial 16 finished with value: 0.8002267444490979 and parameters: {'num_layers': 1, 'hidden_layer_1': 227, 'activation': 'tanh', 'solver': 'adam', 'alpha': 0.0016711813212294555, 'max_iter': 172, 'learning_rate_init': 0.00013552472702201332}. Best is trial 16 with value: 0.8002267444490979.\n",
      "[I 2025-03-19 19:58:06,863] Trial 17 finished with value: 0.7908550115446955 and parameters: {'num_layers': 3, 'hidden_layer_1': 228, 'hidden_layer_2': 182, 'hidden_layer_3': 295, 'activation': 'tanh', 'solver': 'adam', 'alpha': 0.0011262864161902687, 'max_iter': 166, 'learning_rate_init': 0.00021289754516946077}. Best is trial 16 with value: 0.8002267444490979.\n",
      "[I 2025-03-19 19:58:54,332] Trial 18 finished with value: 0.7953998205206932 and parameters: {'num_layers': 7, 'hidden_layer_1': 300, 'hidden_layer_2': 102, 'hidden_layer_3': 231, 'hidden_layer_4': 14, 'hidden_layer_5': 198, 'hidden_layer_6': 3, 'hidden_layer_7': 284, 'activation': 'tanh', 'solver': 'adam', 'alpha': 0.0008927757124946497, 'max_iter': 150, 'learning_rate_init': 0.00029874385993151}. Best is trial 16 with value: 0.8002267444490979.\n",
      "[I 2025-03-19 19:59:17,214] Trial 19 finished with value: 0.8022134047185783 and parameters: {'num_layers': 2, 'hidden_layer_1': 137, 'hidden_layer_2': 208, 'activation': 'tanh', 'solver': 'adam', 'alpha': 0.0035572553414692305, 'max_iter': 199, 'learning_rate_init': 0.00010571778558784807}. Best is trial 19 with value: 0.8022134047185783.\n",
      "[I 2025-03-19 19:59:43,600] Trial 20 finished with value: 0.7988066126196357 and parameters: {'num_layers': 2, 'hidden_layer_1': 239, 'hidden_layer_2': 222, 'activation': 'tanh', 'solver': 'adam', 'alpha': 0.0033761164803310885, 'max_iter': 207, 'learning_rate_init': 0.00010188844531379285}. Best is trial 19 with value: 0.8022134047185783.\n",
      "[I 2025-03-19 19:59:46,136] Trial 21 finished with value: 0.7989487588756727 and parameters: {'num_layers': 1, 'hidden_layer_1': 134, 'activation': 'tanh', 'solver': 'adam', 'alpha': 0.0016334716487505843, 'max_iter': 186, 'learning_rate_init': 0.0003081921263665805}. Best is trial 19 with value: 0.8022134047185783.\n",
      "[I 2025-03-19 20:00:07,684] Trial 22 finished with value: 0.7887269913601691 and parameters: {'num_layers': 2, 'hidden_layer_1': 152, 'hidden_layer_2': 205, 'activation': 'tanh', 'solver': 'adam', 'alpha': 0.005139456658828138, 'max_iter': 183, 'learning_rate_init': 0.00035103008496682595}. Best is trial 19 with value: 0.8022134047185783.\n",
      "[I 2025-03-19 20:00:28,370] Trial 23 finished with value: 0.7979545819121733 and parameters: {'num_layers': 4, 'hidden_layer_1': 131, 'hidden_layer_2': 123, 'hidden_layer_3': 2, 'hidden_layer_4': 150, 'activation': 'tanh', 'solver': 'adam', 'alpha': 0.0005238143192747856, 'max_iter': 101, 'learning_rate_init': 0.0001429598007338032}. Best is trial 19 with value: 0.8022134047185783.\n",
      "[I 2025-03-19 20:00:32,143] Trial 24 finished with value: 0.7880160181289101 and parameters: {'num_layers': 1, 'hidden_layer_1': 196, 'activation': 'tanh', 'solver': 'adam', 'alpha': 0.0017233366237174978, 'max_iter': 51, 'learning_rate_init': 0.00010710792076193685}. Best is trial 19 with value: 0.8022134047185783.\n",
      "[I 2025-03-19 20:00:51,374] Trial 25 finished with value: 0.7564963863397326 and parameters: {'num_layers': 3, 'hidden_layer_1': 169, 'hidden_layer_2': 174, 'hidden_layer_3': 239, 'activation': 'tanh', 'solver': 'sgd', 'alpha': 0.004587802838162146, 'max_iter': 136, 'learning_rate_init': 0.0003764832706478536}. Best is trial 19 with value: 0.8022134047185783.\n",
      "[I 2025-03-19 20:01:34,164] Trial 26 finished with value: 0.7932692598498887 and parameters: {'num_layers': 2, 'hidden_layer_1': 224, 'hidden_layer_2': 241, 'activation': 'tanh', 'solver': 'adam', 'alpha': 0.0005949537628176208, 'max_iter': 201, 'learning_rate_init': 0.0001690961436360188}. Best is trial 19 with value: 0.8022134047185783.\n",
      "[I 2025-03-19 20:01:38,577] Trial 27 finished with value: 0.7999429963269407 and parameters: {'num_layers': 1, 'hidden_layer_1': 168, 'activation': 'tanh', 'solver': 'adam', 'alpha': 0.0014337222865680494, 'max_iter': 262, 'learning_rate_init': 0.00023219870482989034}. Best is trial 19 with value: 0.8022134047185783.\n",
      "[I 2025-03-19 20:03:18,602] Trial 28 finished with value: 0.792560282714991 and parameters: {'num_layers': 5, 'hidden_layer_1': 210, 'hidden_layer_2': 194, 'hidden_layer_3': 162, 'hidden_layer_4': 165, 'hidden_layer_5': 112, 'activation': 'tanh', 'solver': 'adam', 'alpha': 0.00296562551996996, 'max_iter': 272, 'learning_rate_init': 0.0002471657759203286}. Best is trial 19 with value: 0.8022134047185783.\n",
      "[I 2025-03-19 20:03:48,538] Trial 29 finished with value: 0.7665762495502735 and parameters: {'num_layers': 5, 'hidden_layer_1': 257, 'hidden_layer_2': 297, 'hidden_layer_3': 250, 'hidden_layer_4': 113, 'hidden_layer_5': 6, 'activation': 'tanh', 'solver': 'sgd', 'alpha': 0.005900118288858391, 'max_iter': 242, 'learning_rate_init': 0.0001355425965222163}. Best is trial 19 with value: 0.8022134047185783.\n",
      "[I 2025-03-19 20:03:54,583] Trial 30 finished with value: 0.7919923630562969 and parameters: {'num_layers': 2, 'hidden_layer_1': 175, 'hidden_layer_2': 100, 'activation': 'tanh', 'solver': 'adam', 'alpha': 0.0002803229857257683, 'max_iter': 323, 'learning_rate_init': 0.0007816133962365443}. Best is trial 19 with value: 0.8022134047185783.\n",
      "[I 2025-03-19 20:03:58,998] Trial 31 finished with value: 0.7952564645092858 and parameters: {'num_layers': 1, 'hidden_layer_1': 153, 'activation': 'tanh', 'solver': 'adam', 'alpha': 0.0016508132805230333, 'max_iter': 187, 'learning_rate_init': 0.00014632365193055738}. Best is trial 19 with value: 0.8022134047185783.\n",
      "[I 2025-03-19 20:04:02,153] Trial 32 finished with value: 0.79894845643683 and parameters: {'num_layers': 1, 'hidden_layer_1': 129, 'activation': 'tanh', 'solver': 'adam', 'alpha': 0.0006938347549909898, 'max_iter': 222, 'learning_rate_init': 0.00028053355159113227}. Best is trial 19 with value: 0.8022134047185783.\n",
      "[I 2025-03-19 20:04:12,237] Trial 33 finished with value: 0.7932706510685649 and parameters: {'num_layers': 2, 'hidden_layer_1': 143, 'hidden_layer_2': 150, 'activation': 'tanh', 'solver': 'adam', 'alpha': 0.0011660171556379414, 'max_iter': 163, 'learning_rate_init': 0.00041582163823396007}. Best is trial 19 with value: 0.8022134047185783.\n",
      "[I 2025-03-19 20:04:44,892] Trial 34 finished with value: 0.7972453023384328 and parameters: {'num_layers': 3, 'hidden_layer_1': 177, 'hidden_layer_2': 248, 'hidden_layer_3': 129, 'activation': 'tanh', 'solver': 'adam', 'alpha': 0.0014654378553261296, 'max_iter': 113, 'learning_rate_init': 0.00011369942984491845}. Best is trial 19 with value: 0.8022134047185783.\n",
      "[I 2025-03-19 20:04:48,212] Trial 35 finished with value: 0.7993750766682465 and parameters: {'num_layers': 1, 'hidden_layer_1': 96, 'activation': 'tanh', 'solver': 'adam', 'alpha': 3.0195422611978e-05, 'max_iter': 252, 'learning_rate_init': 0.00016709051262373418}. Best is trial 19 with value: 0.8022134047185783.\n",
      "[I 2025-03-19 20:05:04,822] Trial 36 finished with value: 0.7593359241454349 and parameters: {'num_layers': 4, 'hidden_layer_1': 96, 'hidden_layer_2': 220, 'hidden_layer_3': 206, 'hidden_layer_4': 218, 'activation': 'tanh', 'solver': 'sgd', 'alpha': 2.5318676034934e-05, 'max_iter': 296, 'learning_rate_init': 0.00017591135970658134}. Best is trial 19 with value: 0.8022134047185783.\n",
      "[I 2025-03-19 20:05:21,078] Trial 37 finished with value: 0.7985226225464044 and parameters: {'num_layers': 2, 'hidden_layer_1': 107, 'hidden_layer_2': 169, 'activation': 'tanh', 'solver': 'adam', 'alpha': 2.0554719688080134e-05, 'max_iter': 368, 'learning_rate_init': 0.00013386455841024988}. Best is trial 19 with value: 0.8022134047185783.\n",
      "[I 2025-03-19 20:06:23,297] Trial 38 finished with value: 0.7988069755462468 and parameters: {'num_layers': 7, 'hidden_layer_1': 161, 'hidden_layer_2': 128, 'hidden_layer_3': 49, 'hidden_layer_4': 297, 'hidden_layer_5': 222, 'hidden_layer_6': 135, 'hidden_layer_7': 290, 'activation': 'logistic', 'solver': 'adam', 'alpha': 0.00012901767592594996, 'max_iter': 255, 'learning_rate_init': 0.0004654081169971044}. Best is trial 19 with value: 0.8022134047185783.\n",
      "[I 2025-03-19 20:13:51,793] Trial 39 finished with value: 0.7853172958483373 and parameters: {'num_layers': 6, 'hidden_layer_1': 90, 'hidden_layer_2': 272, 'hidden_layer_3': 119, 'hidden_layer_4': 7, 'hidden_layer_5': 299, 'hidden_layer_6': 15, 'activation': 'tanh', 'solver': 'lbfgs', 'alpha': 3.645824257838167e-05, 'max_iter': 299, 'learning_rate_init': 0.0008261856490286713}. Best is trial 19 with value: 0.8022134047185783.\n",
      "[I 2025-03-19 20:13:53,370] Trial 40 finished with value: 0.7574900189133155 and parameters: {'num_layers': 2, 'hidden_layer_1': 51, 'hidden_layer_2': 112, 'activation': 'tanh', 'solver': 'sgd', 'alpha': 9.730459471308847e-05, 'max_iter': 372, 'learning_rate_init': 0.00019736511915689032}. Best is trial 19 with value: 0.8022134047185783.\n",
      "[I 2025-03-19 20:13:56,509] Trial 41 finished with value: 0.7976708942777845 and parameters: {'num_layers': 1, 'hidden_layer_1': 123, 'activation': 'tanh', 'solver': 'adam', 'alpha': 0.002624415755303666, 'max_iter': 207, 'learning_rate_init': 0.00030031370054504165}. Best is trial 19 with value: 0.8022134047185783.\n",
      "[I 2025-03-19 20:14:02,563] Trial 42 finished with value: 0.7992330513877466 and parameters: {'num_layers': 1, 'hidden_layer_1': 139, 'activation': 'tanh', 'solver': 'adam', 'alpha': 0.004214559360393048, 'max_iter': 173, 'learning_rate_init': 0.00016533944230838805}. Best is trial 19 with value: 0.8022134047185783.\n",
      "[I 2025-03-19 20:14:18,027] Trial 43 finished with value: 0.7975288689972846 and parameters: {'num_layers': 2, 'hidden_layer_1': 74, 'hidden_layer_2': 203, 'activation': 'tanh', 'solver': 'adam', 'alpha': 0.009418601704651074, 'max_iter': 255, 'learning_rate_init': 0.00015524324961484553}. Best is trial 19 with value: 0.8022134047185783.\n",
      "[I 2025-03-19 20:14:19,587] Trial 44 finished with value: 0.7962519722036928 and parameters: {'num_layers': 1, 'hidden_layer_1': 112, 'activation': 'relu', 'solver': 'adam', 'alpha': 1.0344500184697452e-05, 'max_iter': 147, 'learning_rate_init': 0.00011670471488496148}. Best is trial 19 with value: 0.8022134047185783.\n",
      "[I 2025-03-19 20:14:30,318] Trial 45 finished with value: 0.7956833266917763 and parameters: {'num_layers': 3, 'hidden_layer_1': 186, 'hidden_layer_2': 6, 'hidden_layer_3': 7, 'activation': 'logistic', 'solver': 'adam', 'alpha': 5.104270060209911e-05, 'max_iter': 215, 'learning_rate_init': 0.0002486178720872415}. Best is trial 19 with value: 0.8022134047185783.\n",
      "[I 2025-03-19 20:16:13,842] Trial 46 finished with value: 0.7909974602395752 and parameters: {'num_layers': 1, 'hidden_layer_1': 143, 'activation': 'tanh', 'solver': 'lbfgs', 'alpha': 0.006093154004654532, 'max_iter': 245, 'learning_rate_init': 0.00016097704272767638}. Best is trial 19 with value: 0.8022134047185783.\n",
      "[I 2025-03-19 20:16:40,136] Trial 47 finished with value: 0.7969608283630535 and parameters: {'num_layers': 8, 'hidden_layer_1': 248, 'hidden_layer_2': 77, 'hidden_layer_3': 264, 'hidden_layer_4': 68, 'hidden_layer_5': 127, 'hidden_layer_6': 84, 'hidden_layer_7': 177, 'hidden_layer_8': 17, 'activation': 'relu', 'solver': 'adam', 'alpha': 0.004494193737253654, 'max_iter': 95, 'learning_rate_init': 0.00010104267770668596}. Best is trial 19 with value: 0.8022134047185783.\n",
      "[I 2025-03-19 20:16:53,806] Trial 48 finished with value: 0.7995169204854409 and parameters: {'num_layers': 2, 'hidden_layer_1': 273, 'hidden_layer_2': 32, 'activation': 'logistic', 'solver': 'adam', 'alpha': 0.002319766790390652, 'max_iter': 171, 'learning_rate_init': 0.00020543655066834762}. Best is trial 19 with value: 0.8022134047185783.\n",
      "[I 2025-03-19 20:23:09,488] Trial 49 finished with value: 0.7824787258469316 and parameters: {'num_layers': 4, 'hidden_layer_1': 282, 'hidden_layer_2': 26, 'hidden_layer_3': 193, 'hidden_layer_4': 129, 'activation': 'logistic', 'solver': 'lbfgs', 'alpha': 0.0008504293249402457, 'max_iter': 282, 'learning_rate_init': 0.0005449816104584554}. Best is trial 19 with value: 0.8022134047185783.\n",
      "Melhores hiperparâmetros: {'num_layers': 2, 'hidden_layer_1': 137, 'hidden_layer_2': 208, 'activation': 'tanh', 'solver': 'adam', 'alpha': 0.0035572553414692305, 'max_iter': 199, 'learning_rate_init': 0.00010571778558784807}\n"
     ]
    }
   ],
   "source": [
    "def objective_mlp(trial):\n",
    "    # Hiperparâmetros a serem otimizados\n",
    "    num_layers = trial.suggest_int(\"num_layers\", 1, 10)\n",
    "    hidden_layers = []\n",
    "    for i in range(num_layers):\n",
    "        hidden_layers.append(trial.suggest_int(f\"hidden_layer_{i+1}\", 1, 300))\n",
    "    \n",
    "    activation = trial.suggest_categorical(\"activation\", [\"relu\", \"tanh\", \"logistic\"])\n",
    "    solver = trial.suggest_categorical(\"solver\", [\"adam\", \"sgd\", \"lbfgs\"])\n",
    "    alpha = trial.suggest_float(\"alpha\", 1e-5, 1e-2, log=True)\n",
    "    max_iter = trial.suggest_int(\"max_iter\", 50, 500)\n",
    "    learning_rate_init = trial.suggest_float(\"learning_rate_init\", 1e-4, 1e-2, log=True)\n",
    "    \n",
    "    # Criar o modelo MLP com os parâmetros sugeridos\n",
    "    model = MLPClassifier(hidden_layer_sizes=tuple(hidden_layers),\n",
    "                          activation=activation,\n",
    "                          solver=solver,\n",
    "                          alpha=alpha,\n",
    "                          max_iter=max_iter,\n",
    "                          learning_rate_init=learning_rate_init,\n",
    "                          random_state=50)\n",
    "\n",
    "    # Avaliar usando validação cruzada\n",
    "    score = cross_val_score(model, df_data, df_target, cv=kf, scoring=\"accuracy\").mean()\n",
    "    # TODO: implementar scoring com suggest:[\"accuracy\", \"roc_auc\", \"precision\", \"recall\", \"f1\", \"ks\", \"matrizconfusao\"]\n",
    "    return score  # Maximizar a acurácia\n",
    "\n",
    "# Criar estudo e encontrar os melhores hiperparâmetros\n",
    "study_mlp = optuna.create_study(direction=\"maximize\")\n",
    "study_mlp.optimize(objective_mlp, n_trials=50, show_progress_bar=True)\n",
    "\n",
    "# Melhor conjunto de hiperparâmetros encontrados\n",
    "print(\"Melhores hiperparâmetros:\", study_mlp.best_params)\n",
    "\n",
    "# Melhores hiperparâmetros: {'num_layers': 2, 'hidden_layer_1': 137, 'hidden_layer_2': 208, 'activation': 'tanh', 'solver': 'adam', 'alpha': 0.0035572553414692305, 'max_iter': 199, 'learning_rate_init': 0.00010571778558784807}"
   ]
  },
  {
   "cell_type": "code",
   "execution_count": null,
   "metadata": {},
   "outputs": [
    {
     "name": "stdout",
     "output_type": "stream",
     "text": [
      "Modelo final treinado e salvo!\n"
     ]
    }
   ],
   "source": [
    "# Criar modelo com os melhores hiperparâmetros\n",
    "# melhores_params = study.best_params  # Pegamos os melhores parâmetros encontrados pelo Optuna\n",
    "best_params_mlp = {'num_layers': 2, 'hidden_layer_1': 137, 'hidden_layer_2': 208, 'activation': 'tanh', 'solver': 'adam', 'alpha': 0.0035572553414692305, 'max_iter': 199, 'learning_rate_init': 0.00010571778558784807}\n",
    "\n",
    "modelo_final_mlp = MLPClassifier(\n",
    "    hidden_layer_sizes=tuple(best_params_mlp[f\"hidden_layer_{i+1}\"] for i in range(best_params_mlp[\"num_layers\"])),\n",
    "    activation=best_params_mlp[\"activation\"],\n",
    "    solver=best_params_mlp[\"solver\"],\n",
    "    alpha=best_params_mlp[\"alpha\"],\n",
    "    max_iter=best_params_mlp[\"max_iter\"],\n",
    "    learning_rate_init=best_params_mlp[\"learning_rate_init\"],\n",
    "    random_state=50\n",
    ")\n",
    "\n",
    "# Treinar o modelo final com TODOS os dados (sem validação cruzada)\n",
    "modelo_final_mlp.fit(df_data, df_target)\n",
    "\n",
    "# Salvar o modelo treinado\n",
    "joblib.dump(modelo_final_mlp, \"modelo_final_mlp.pkl\")\n",
    "print(\"Modelo final treinado e salvo!\")"
   ]
  },
  {
   "cell_type": "markdown",
   "metadata": {},
   "source": [
    "### 4.2 Modelo Random Forest"
   ]
  },
  {
   "cell_type": "code",
   "execution_count": 21,
   "metadata": {},
   "outputs": [
    {
     "name": "stderr",
     "output_type": "stream",
     "text": [
      "[I 2025-03-20 13:10:44,041] A new study created in memory with name: no-name-2b259ad4-9766-4d04-8e4f-5561f378c59e\n",
      "Best trial: 0. Best value: 0.797103:   2%|▏         | 1/50 [00:04<03:25,  4.19s/it]"
     ]
    },
    {
     "name": "stdout",
     "output_type": "stream",
     "text": [
      "[I 2025-03-20 13:10:48,233] Trial 0 finished with value: 0.7971025512047106 and parameters: {'n_estimators': 297, 'max_depth': 5, 'min_samples_split': 11, 'min_samples_leaf': 1, 'max_features': None, 'criterion': 'gini'}. Best is trial 0 with value: 0.7971025512047106.\n"
     ]
    },
    {
     "name": "stderr",
     "output_type": "stream",
     "text": [
      "Best trial: 1. Best value: 0.801789:   4%|▍         | 2/50 [00:05<01:51,  2.32s/it]"
     ]
    },
    {
     "name": "stdout",
     "output_type": "stream",
     "text": [
      "[I 2025-03-20 13:10:49,249] Trial 1 finished with value: 0.8017886596079861 and parameters: {'n_estimators': 198, 'max_depth': 9, 'min_samples_split': 17, 'min_samples_leaf': 9, 'max_features': 'log2', 'criterion': 'gini'}. Best is trial 1 with value: 0.8017886596079861.\n"
     ]
    },
    {
     "name": "stderr",
     "output_type": "stream",
     "text": [
      "Best trial: 1. Best value: 0.801789:   6%|▌         | 3/50 [00:08<02:14,  2.87s/it]"
     ]
    },
    {
     "name": "stdout",
     "output_type": "stream",
     "text": [
      "[I 2025-03-20 13:10:52,771] Trial 2 finished with value: 0.7962510043993963 and parameters: {'n_estimators': 152, 'max_depth': 17, 'min_samples_split': 3, 'min_samples_leaf': 5, 'max_features': None, 'criterion': 'gini'}. Best is trial 1 with value: 0.8017886596079861.\n"
     ]
    },
    {
     "name": "stderr",
     "output_type": "stream",
     "text": [
      "Best trial: 1. Best value: 0.801789:   8%|▊         | 4/50 [00:13<02:42,  3.54s/it]"
     ]
    },
    {
     "name": "stdout",
     "output_type": "stream",
     "text": [
      "[I 2025-03-20 13:10:57,334] Trial 3 finished with value: 0.7983800528759878 and parameters: {'n_estimators': 282, 'max_depth': 6, 'min_samples_split': 3, 'min_samples_leaf': 10, 'max_features': None, 'criterion': 'gini'}. Best is trial 1 with value: 0.8017886596079861.\n"
     ]
    },
    {
     "name": "stderr",
     "output_type": "stream",
     "text": [
      "Best trial: 1. Best value: 0.801789:  10%|█         | 5/50 [00:13<01:51,  2.47s/it]"
     ]
    },
    {
     "name": "stdout",
     "output_type": "stream",
     "text": [
      "[I 2025-03-20 13:10:57,913] Trial 4 finished with value: 0.7885848451041321 and parameters: {'n_estimators': 152, 'max_depth': 4, 'min_samples_split': 4, 'min_samples_leaf': 9, 'max_features': 'log2', 'criterion': 'entropy'}. Best is trial 1 with value: 0.8017886596079861.\n"
     ]
    },
    {
     "name": "stderr",
     "output_type": "stream",
     "text": [
      "Best trial: 1. Best value: 0.801789:  12%|█▏        | 6/50 [00:14<01:28,  2.00s/it]"
     ]
    },
    {
     "name": "stdout",
     "output_type": "stream",
     "text": [
      "[I 2025-03-20 13:10:59,004] Trial 5 finished with value: 0.7990910865950153 and parameters: {'n_estimators': 198, 'max_depth': 7, 'min_samples_split': 14, 'min_samples_leaf': 5, 'max_features': 'sqrt', 'criterion': 'entropy'}. Best is trial 1 with value: 0.8017886596079861.\n"
     ]
    },
    {
     "name": "stderr",
     "output_type": "stream",
     "text": [
      "Best trial: 6. Best value: 0.802499:  14%|█▍        | 7/50 [00:17<01:35,  2.22s/it]"
     ]
    },
    {
     "name": "stdout",
     "output_type": "stream",
     "text": [
      "[I 2025-03-20 13:11:01,685] Trial 6 finished with value: 0.8024986650349485 and parameters: {'n_estimators': 354, 'max_depth': 30, 'min_samples_split': 8, 'min_samples_leaf': 2, 'max_features': 'sqrt', 'criterion': 'entropy'}. Best is trial 6 with value: 0.8024986650349485.\n"
     ]
    },
    {
     "name": "stderr",
     "output_type": "stream",
     "text": [
      "Best trial: 6. Best value: 0.802499:  16%|█▌        | 8/50 [00:20<01:40,  2.39s/it]"
     ]
    },
    {
     "name": "stdout",
     "output_type": "stream",
     "text": [
      "[I 2025-03-20 13:11:04,445] Trial 7 finished with value: 0.7962512463504705 and parameters: {'n_estimators': 352, 'max_depth': 24, 'min_samples_split': 4, 'min_samples_leaf': 1, 'max_features': 'log2', 'criterion': 'entropy'}. Best is trial 6 with value: 0.8024986650349485.\n"
     ]
    },
    {
     "name": "stderr",
     "output_type": "stream",
     "text": [
      "Best trial: 6. Best value: 0.802499:  18%|█▊        | 9/50 [00:21<01:20,  1.97s/it]"
     ]
    },
    {
     "name": "stdout",
     "output_type": "stream",
     "text": [
      "[I 2025-03-20 13:11:05,487] Trial 8 finished with value: 0.8017884176569119 and parameters: {'n_estimators': 185, 'max_depth': 20, 'min_samples_split': 14, 'min_samples_leaf': 8, 'max_features': 'log2', 'criterion': 'gini'}. Best is trial 6 with value: 0.8024986650349485.\n"
     ]
    },
    {
     "name": "stderr",
     "output_type": "stream",
     "text": [
      "Best trial: 6. Best value: 0.802499:  20%|██        | 10/50 [00:22<01:04,  1.62s/it]"
     ]
    },
    {
     "name": "stdout",
     "output_type": "stream",
     "text": [
      "[I 2025-03-20 13:11:06,320] Trial 9 finished with value: 0.7944056435571937 and parameters: {'n_estimators': 200, 'max_depth': 5, 'min_samples_split': 5, 'min_samples_leaf': 1, 'max_features': 'log2', 'criterion': 'entropy'}. Best is trial 6 with value: 0.8024986650349485.\n"
     ]
    },
    {
     "name": "stderr",
     "output_type": "stream",
     "text": [
      "Best trial: 6. Best value: 0.802499:  22%|██▏       | 11/50 [00:25<01:23,  2.15s/it]"
     ]
    },
    {
     "name": "stdout",
     "output_type": "stream",
     "text": [
      "[I 2025-03-20 13:11:09,666] Trial 10 finished with value: 0.802214070084032 and parameters: {'n_estimators': 456, 'max_depth': 30, 'min_samples_split': 9, 'min_samples_leaf': 3, 'max_features': 'sqrt', 'criterion': 'entropy'}. Best is trial 6 with value: 0.8024986650349485.\n"
     ]
    },
    {
     "name": "stderr",
     "output_type": "stream",
     "text": [
      "Best trial: 6. Best value: 0.802499:  24%|██▍       | 12/50 [00:29<01:38,  2.60s/it]"
     ]
    },
    {
     "name": "stdout",
     "output_type": "stream",
     "text": [
      "[I 2025-03-20 13:11:13,299] Trial 11 finished with value: 0.8016460294498008 and parameters: {'n_estimators': 497, 'max_depth': 30, 'min_samples_split': 9, 'min_samples_leaf': 3, 'max_features': 'sqrt', 'criterion': 'entropy'}. Best is trial 6 with value: 0.8024986650349485.\n"
     ]
    },
    {
     "name": "stderr",
     "output_type": "stream",
     "text": [
      "Best trial: 6. Best value: 0.802499:  26%|██▌       | 13/50 [00:32<01:44,  2.82s/it]"
     ]
    },
    {
     "name": "stdout",
     "output_type": "stream",
     "text": [
      "[I 2025-03-20 13:11:16,637] Trial 12 finished with value: 0.8017881757058377 and parameters: {'n_estimators': 437, 'max_depth': 30, 'min_samples_split': 8, 'min_samples_leaf': 3, 'max_features': 'sqrt', 'criterion': 'entropy'}. Best is trial 6 with value: 0.8024986650349485.\n"
     ]
    },
    {
     "name": "stderr",
     "output_type": "stream",
     "text": [
      "Best trial: 6. Best value: 0.802499:  28%|██▊       | 14/50 [00:35<01:42,  2.86s/it]"
     ]
    },
    {
     "name": "stdout",
     "output_type": "stream",
     "text": [
      "[I 2025-03-20 13:11:19,579] Trial 13 finished with value: 0.8009363264616809 and parameters: {'n_estimators': 393, 'max_depth': 25, 'min_samples_split': 7, 'min_samples_leaf': 3, 'max_features': 'sqrt', 'criterion': 'entropy'}. Best is trial 6 with value: 0.8024986650349485.\n"
     ]
    },
    {
     "name": "stderr",
     "output_type": "stream",
     "text": [
      "Best trial: 14. Best value: 0.803634:  30%|███       | 15/50 [00:39<01:47,  3.07s/it]"
     ]
    },
    {
     "name": "stdout",
     "output_type": "stream",
     "text": [
      "[I 2025-03-20 13:11:23,135] Trial 14 finished with value: 0.8036338389868831 and parameters: {'n_estimators': 497, 'max_depth': 25, 'min_samples_split': 11, 'min_samples_leaf': 4, 'max_features': 'sqrt', 'criterion': 'entropy'}. Best is trial 14 with value: 0.8036338389868831.\n"
     ]
    },
    {
     "name": "stderr",
     "output_type": "stream",
     "text": [
      "Best trial: 14. Best value: 0.803634:  32%|███▏      | 16/50 [00:41<01:37,  2.87s/it]"
     ]
    },
    {
     "name": "stdout",
     "output_type": "stream",
     "text": [
      "[I 2025-03-20 13:11:25,552] Trial 15 finished with value: 0.802356216340069 and parameters: {'n_estimators': 349, 'max_depth': 24, 'min_samples_split': 12, 'min_samples_leaf': 6, 'max_features': 'sqrt', 'criterion': 'entropy'}. Best is trial 14 with value: 0.8036338389868831.\n"
     ]
    },
    {
     "name": "stderr",
     "output_type": "stream",
     "text": [
      "Best trial: 14. Best value: 0.803634:  34%|███▍      | 17/50 [00:42<01:12,  2.21s/it]"
     ]
    },
    {
     "name": "stdout",
     "output_type": "stream",
     "text": [
      "[I 2025-03-20 13:11:26,217] Trial 16 finished with value: 0.8022141910595691 and parameters: {'n_estimators': 96, 'max_depth': 12, 'min_samples_split': 18, 'min_samples_leaf': 6, 'max_features': 'sqrt', 'criterion': 'entropy'}. Best is trial 14 with value: 0.8036338389868831.\n"
     ]
    },
    {
     "name": "stderr",
     "output_type": "stream",
     "text": [
      "Best trial: 17. Best value: 0.804202:  36%|███▌      | 18/50 [00:45<01:17,  2.42s/it]"
     ]
    },
    {
     "name": "stdout",
     "output_type": "stream",
     "text": [
      "[I 2025-03-20 13:11:29,123] Trial 17 finished with value: 0.8042018796211142 and parameters: {'n_estimators': 408, 'max_depth': 26, 'min_samples_split': 20, 'min_samples_leaf': 4, 'max_features': 'sqrt', 'criterion': 'entropy'}. Best is trial 17 with value: 0.8042018796211142.\n"
     ]
    },
    {
     "name": "stderr",
     "output_type": "stream",
     "text": [
      "Best trial: 18. Best value: 0.804486:  38%|███▊      | 19/50 [00:48<01:25,  2.76s/it]"
     ]
    },
    {
     "name": "stdout",
     "output_type": "stream",
     "text": [
      "[I 2025-03-20 13:11:32,690] Trial 18 finished with value: 0.8044858696943455 and parameters: {'n_estimators': 500, 'max_depth': 20, 'min_samples_split': 20, 'min_samples_leaf': 4, 'max_features': 'sqrt', 'criterion': 'entropy'}. Best is trial 18 with value: 0.8044858696943455.\n"
     ]
    },
    {
     "name": "stderr",
     "output_type": "stream",
     "text": [
      "Best trial: 18. Best value: 0.804486:  40%|████      | 20/50 [00:51<01:24,  2.81s/it]"
     ]
    },
    {
     "name": "stdout",
     "output_type": "stream",
     "text": [
      "[I 2025-03-20 13:11:35,618] Trial 19 finished with value: 0.803066161279263 and parameters: {'n_estimators': 425, 'max_depth': 19, 'min_samples_split': 20, 'min_samples_leaf': 7, 'max_features': 'sqrt', 'criterion': 'entropy'}. Best is trial 18 with value: 0.8044858696943455.\n"
     ]
    },
    {
     "name": "stderr",
     "output_type": "stream",
     "text": [
      "Best trial: 18. Best value: 0.804486:  42%|████▏     | 21/50 [01:01<02:24,  4.99s/it]"
     ]
    },
    {
     "name": "stdout",
     "output_type": "stream",
     "text": [
      "[I 2025-03-20 13:11:45,692] Trial 20 finished with value: 0.7949733212648137 and parameters: {'n_estimators': 405, 'max_depth': 13, 'min_samples_split': 20, 'min_samples_leaf': 4, 'max_features': None, 'criterion': 'entropy'}. Best is trial 18 with value: 0.8044858696943455.\n"
     ]
    },
    {
     "name": "stderr",
     "output_type": "stream",
     "text": [
      "Best trial: 18. Best value: 0.804486:  44%|████▍     | 22/50 [01:05<02:06,  4.53s/it]"
     ]
    },
    {
     "name": "stdout",
     "output_type": "stream",
     "text": [
      "[I 2025-03-20 13:11:49,140] Trial 21 finished with value: 0.8039180105234202 and parameters: {'n_estimators': 495, 'max_depth': 22, 'min_samples_split': 17, 'min_samples_leaf': 4, 'max_features': 'sqrt', 'criterion': 'entropy'}. Best is trial 18 with value: 0.8044858696943455.\n"
     ]
    },
    {
     "name": "stderr",
     "output_type": "stream",
     "text": [
      "Best trial: 18. Best value: 0.804486:  46%|████▌     | 23/50 [01:08<01:52,  4.18s/it]"
     ]
    },
    {
     "name": "stdout",
     "output_type": "stream",
     "text": [
      "[I 2025-03-20 13:11:52,503] Trial 22 finished with value: 0.8020721657790691 and parameters: {'n_estimators': 465, 'max_depth': 22, 'min_samples_split': 18, 'min_samples_leaf': 4, 'max_features': 'sqrt', 'criterion': 'entropy'}. Best is trial 18 with value: 0.8044858696943455.\n"
     ]
    },
    {
     "name": "stderr",
     "output_type": "stream",
     "text": [
      "Best trial: 18. Best value: 0.804486:  48%|████▊     | 24/50 [01:11<01:41,  3.92s/it]"
     ]
    },
    {
     "name": "stdout",
     "output_type": "stream",
     "text": [
      "[I 2025-03-20 13:11:55,828] Trial 23 finished with value: 0.8040602172672257 and parameters: {'n_estimators': 481, 'max_depth': 27, 'min_samples_split': 16, 'min_samples_leaf': 5, 'max_features': 'sqrt', 'criterion': 'entropy'}. Best is trial 18 with value: 0.8044858696943455.\n"
     ]
    },
    {
     "name": "stderr",
     "output_type": "stream",
     "text": [
      "Best trial: 18. Best value: 0.804486:  50%|█████     | 25/50 [01:14<01:27,  3.52s/it]"
     ]
    },
    {
     "name": "stdout",
     "output_type": "stream",
     "text": [
      "[I 2025-03-20 13:11:58,404] Trial 24 finished with value: 0.8036338994746516 and parameters: {'n_estimators': 391, 'max_depth': 27, 'min_samples_split': 20, 'min_samples_leaf': 7, 'max_features': 'sqrt', 'criterion': 'entropy'}. Best is trial 18 with value: 0.8044858696943455.\n"
     ]
    },
    {
     "name": "stderr",
     "output_type": "stream",
     "text": [
      "Best trial: 18. Best value: 0.804486:  52%|█████▏    | 26/50 [01:17<01:22,  3.42s/it]"
     ]
    },
    {
     "name": "stdout",
     "output_type": "stream",
     "text": [
      "[I 2025-03-20 13:12:01,585] Trial 25 finished with value: 0.8024983021083374 and parameters: {'n_estimators': 456, 'max_depth': 17, 'min_samples_split': 15, 'min_samples_leaf': 5, 'max_features': 'sqrt', 'criterion': 'entropy'}. Best is trial 18 with value: 0.8044858696943455.\n"
     ]
    },
    {
     "name": "stderr",
     "output_type": "stream",
     "text": [
      "Best trial: 18. Best value: 0.804486:  54%|█████▍    | 27/50 [01:20<01:13,  3.21s/it]"
     ]
    },
    {
     "name": "stdout",
     "output_type": "stream",
     "text": [
      "[I 2025-03-20 13:12:04,310] Trial 26 finished with value: 0.8036341414257256 and parameters: {'n_estimators': 424, 'max_depth': 27, 'min_samples_split': 16, 'min_samples_leaf': 6, 'max_features': 'sqrt', 'criterion': 'gini'}. Best is trial 18 with value: 0.8044858696943455.\n"
     ]
    },
    {
     "name": "stderr",
     "output_type": "stream",
     "text": [
      "Best trial: 27. Best value: 0.805338:  56%|█████▌    | 28/50 [01:22<01:03,  2.90s/it]"
     ]
    },
    {
     "name": "stdout",
     "output_type": "stream",
     "text": [
      "[I 2025-03-20 13:12:06,503] Trial 27 finished with value: 0.8053380213773451 and parameters: {'n_estimators': 305, 'max_depth': 27, 'min_samples_split': 19, 'min_samples_leaf': 2, 'max_features': 'sqrt', 'criterion': 'entropy'}. Best is trial 27 with value: 0.8053380213773451.\n"
     ]
    },
    {
     "name": "stderr",
     "output_type": "stream",
     "text": [
      "Best trial: 27. Best value: 0.805338:  58%|█████▊    | 29/50 [01:29<01:24,  4.04s/it]"
     ]
    },
    {
     "name": "stdout",
     "output_type": "stream",
     "text": [
      "[I 2025-03-20 13:12:13,199] Trial 28 finished with value: 0.7939795677156939 and parameters: {'n_estimators': 244, 'max_depth': 21, 'min_samples_split': 18, 'min_samples_leaf': 2, 'max_features': None, 'criterion': 'entropy'}. Best is trial 27 with value: 0.8053380213773451.\n"
     ]
    },
    {
     "name": "stderr",
     "output_type": "stream",
     "text": [
      "Best trial: 27. Best value: 0.805338:  60%|██████    | 30/50 [01:30<01:02,  3.15s/it]"
     ]
    },
    {
     "name": "stdout",
     "output_type": "stream",
     "text": [
      "[I 2025-03-20 13:12:14,256] Trial 29 finished with value: 0.7474094903373208 and parameters: {'n_estimators': 317, 'max_depth': 2, 'min_samples_split': 19, 'min_samples_leaf': 2, 'max_features': 'sqrt', 'criterion': 'gini'}. Best is trial 27 with value: 0.8053380213773451.\n"
     ]
    },
    {
     "name": "stderr",
     "output_type": "stream",
     "text": [
      "Best trial: 27. Best value: 0.805338:  62%|██████▏   | 31/50 [01:37<01:20,  4.25s/it]"
     ]
    },
    {
     "name": "stdout",
     "output_type": "stream",
     "text": [
      "[I 2025-03-20 13:12:21,092] Trial 30 finished with value: 0.7918500958247229 and parameters: {'n_estimators': 243, 'max_depth': 15, 'min_samples_split': 13, 'min_samples_leaf': 2, 'max_features': None, 'criterion': 'entropy'}. Best is trial 27 with value: 0.8053380213773451.\n"
     ]
    },
    {
     "name": "stderr",
     "output_type": "stream",
     "text": [
      "Best trial: 27. Best value: 0.805338:  64%|██████▍   | 32/50 [01:39<01:08,  3.80s/it]"
     ]
    },
    {
     "name": "stdout",
     "output_type": "stream",
     "text": [
      "[I 2025-03-20 13:12:23,824] Trial 31 finished with value: 0.8027819292549577 and parameters: {'n_estimators': 375, 'max_depth': 27, 'min_samples_split': 19, 'min_samples_leaf': 5, 'max_features': 'sqrt', 'criterion': 'entropy'}. Best is trial 27 with value: 0.8053380213773451.\n"
     ]
    },
    {
     "name": "stderr",
     "output_type": "stream",
     "text": [
      "Best trial: 27. Best value: 0.805338:  66%|██████▌   | 33/50 [01:42<00:56,  3.35s/it]"
     ]
    },
    {
     "name": "stdout",
     "output_type": "stream",
     "text": [
      "[I 2025-03-20 13:12:26,135] Trial 32 finished with value: 0.8037760457306886 and parameters: {'n_estimators': 310, 'max_depth': 28, 'min_samples_split': 16, 'min_samples_leaf': 4, 'max_features': 'sqrt', 'criterion': 'entropy'}. Best is trial 27 with value: 0.8053380213773451.\n"
     ]
    },
    {
     "name": "stderr",
     "output_type": "stream",
     "text": [
      "Best trial: 27. Best value: 0.805338:  68%|██████▊   | 34/50 [01:45<00:54,  3.38s/it]"
     ]
    },
    {
     "name": "stdout",
     "output_type": "stream",
     "text": [
      "[I 2025-03-20 13:12:29,597] Trial 33 finished with value: 0.8030661007914945 and parameters: {'n_estimators': 468, 'max_depth': 23, 'min_samples_split': 17, 'min_samples_leaf': 3, 'max_features': 'sqrt', 'criterion': 'entropy'}. Best is trial 27 with value: 0.8053380213773451.\n"
     ]
    },
    {
     "name": "stderr",
     "output_type": "stream",
     "text": [
      "Best trial: 27. Best value: 0.805338:  70%|███████   | 35/50 [01:48<00:49,  3.32s/it]"
     ]
    },
    {
     "name": "stdout",
     "output_type": "stream",
     "text": [
      "[I 2025-03-20 13:12:32,766] Trial 34 finished with value: 0.8036341414257256 and parameters: {'n_estimators': 474, 'max_depth': 26, 'min_samples_split': 19, 'min_samples_leaf': 5, 'max_features': 'sqrt', 'criterion': 'gini'}. Best is trial 27 with value: 0.8053380213773451.\n"
     ]
    },
    {
     "name": "stderr",
     "output_type": "stream",
     "text": [
      "Best trial: 27. Best value: 0.805338:  72%|███████▏  | 36/50 [01:51<00:43,  3.11s/it]"
     ]
    },
    {
     "name": "stdout",
     "output_type": "stream",
     "text": [
      "[I 2025-03-20 13:12:35,374] Trial 35 finished with value: 0.8016464528641806 and parameters: {'n_estimators': 422, 'max_depth': 19, 'min_samples_split': 16, 'min_samples_leaf': 7, 'max_features': 'log2', 'criterion': 'entropy'}. Best is trial 27 with value: 0.8053380213773451.\n"
     ]
    },
    {
     "name": "stderr",
     "output_type": "stream",
     "text": [
      "Best trial: 27. Best value: 0.805338:  74%|███████▍  | 37/50 [01:58<00:54,  4.20s/it]"
     ]
    },
    {
     "name": "stdout",
     "output_type": "stream",
     "text": [
      "[I 2025-03-20 13:12:42,131] Trial 36 finished with value: 0.7948315984231565 and parameters: {'n_estimators': 271, 'max_depth': 28, 'min_samples_split': 20, 'min_samples_leaf': 1, 'max_features': None, 'criterion': 'gini'}. Best is trial 27 with value: 0.8053380213773451.\n"
     ]
    },
    {
     "name": "stderr",
     "output_type": "stream",
     "text": [
      "Best trial: 27. Best value: 0.805338:  76%|███████▌  | 38/50 [02:00<00:43,  3.65s/it]"
     ]
    },
    {
     "name": "stdout",
     "output_type": "stream",
     "text": [
      "[I 2025-03-20 13:12:44,505] Trial 37 finished with value: 0.80377598524292 and parameters: {'n_estimators': 334, 'max_depth': 17, 'min_samples_split': 18, 'min_samples_leaf': 5, 'max_features': 'sqrt', 'criterion': 'entropy'}. Best is trial 27 with value: 0.8053380213773451.\n"
     ]
    },
    {
     "name": "stderr",
     "output_type": "stream",
     "text": [
      "Best trial: 27. Best value: 0.805338:  78%|███████▊  | 39/50 [02:03<00:37,  3.38s/it]"
     ]
    },
    {
     "name": "stdout",
     "output_type": "stream",
     "text": [
      "[I 2025-03-20 13:12:47,264] Trial 38 finished with value: 0.8040597938528458 and parameters: {'n_estimators': 374, 'max_depth': 24, 'min_samples_split': 15, 'min_samples_leaf': 4, 'max_features': 'sqrt', 'criterion': 'entropy'}. Best is trial 27 with value: 0.8053380213773451.\n"
     ]
    },
    {
     "name": "stderr",
     "output_type": "stream",
     "text": [
      "Best trial: 27. Best value: 0.805338:  80%|████████  | 40/50 [02:03<00:25,  2.53s/it]"
     ]
    },
    {
     "name": "stdout",
     "output_type": "stream",
     "text": [
      "[I 2025-03-20 13:12:47,790] Trial 39 finished with value: 0.8026407508032172 and parameters: {'n_estimators': 80, 'max_depth': 28, 'min_samples_split': 19, 'min_samples_leaf': 2, 'max_features': 'log2', 'criterion': 'gini'}. Best is trial 27 with value: 0.8053380213773451.\n"
     ]
    },
    {
     "name": "stderr",
     "output_type": "stream",
     "text": [
      "Best trial: 27. Best value: 0.805338:  82%|████████▏ | 41/50 [02:05<00:21,  2.34s/it]"
     ]
    },
    {
     "name": "stdout",
     "output_type": "stream",
     "text": [
      "[I 2025-03-20 13:12:49,702] Trial 40 finished with value: 0.800652396876218 and parameters: {'n_estimators': 283, 'max_depth': 20, 'min_samples_split': 17, 'min_samples_leaf': 10, 'max_features': 'sqrt', 'criterion': 'entropy'}. Best is trial 27 with value: 0.8053380213773451.\n"
     ]
    },
    {
     "name": "stderr",
     "output_type": "stream",
     "text": [
      "Best trial: 27. Best value: 0.805338:  84%|████████▍ | 42/50 [02:08<00:19,  2.49s/it]"
     ]
    },
    {
     "name": "stdout",
     "output_type": "stream",
     "text": [
      "[I 2025-03-20 13:12:52,533] Trial 41 finished with value: 0.8040597938528458 and parameters: {'n_estimators': 383, 'max_depth': 24, 'min_samples_split': 15, 'min_samples_leaf': 4, 'max_features': 'sqrt', 'criterion': 'entropy'}. Best is trial 27 with value: 0.8053380213773451.\n"
     ]
    },
    {
     "name": "stderr",
     "output_type": "stream",
     "text": [
      "Best trial: 27. Best value: 0.805338:  86%|████████▌ | 43/50 [02:11<00:17,  2.54s/it]"
     ]
    },
    {
     "name": "stdout",
     "output_type": "stream",
     "text": [
      "[I 2025-03-20 13:12:55,194] Trial 42 finished with value: 0.803350211840263 and parameters: {'n_estimators': 371, 'max_depth': 25, 'min_samples_split': 14, 'min_samples_leaf': 6, 'max_features': 'sqrt', 'criterion': 'entropy'}. Best is trial 27 with value: 0.8053380213773451.\n"
     ]
    },
    {
     "name": "stderr",
     "output_type": "stream",
     "text": [
      "Best trial: 27. Best value: 0.805338:  88%|████████▊ | 44/50 [02:14<00:16,  2.78s/it]"
     ]
    },
    {
     "name": "stdout",
     "output_type": "stream",
     "text": [
      "[I 2025-03-20 13:12:58,537] Trial 43 finished with value: 0.8034921161452259 and parameters: {'n_estimators': 446, 'max_depth': 23, 'min_samples_split': 15, 'min_samples_leaf': 3, 'max_features': 'sqrt', 'criterion': 'entropy'}. Best is trial 27 with value: 0.8053380213773451.\n"
     ]
    },
    {
     "name": "stderr",
     "output_type": "stream",
     "text": [
      "Best trial: 27. Best value: 0.805338:  90%|█████████ | 45/50 [02:18<00:15,  3.03s/it]"
     ]
    },
    {
     "name": "stdout",
     "output_type": "stream",
     "text": [
      "[I 2025-03-20 13:13:02,149] Trial 44 finished with value: 0.8033499698891888 and parameters: {'n_estimators': 480, 'max_depth': 26, 'min_samples_split': 19, 'min_samples_leaf': 5, 'max_features': 'sqrt', 'criterion': 'entropy'}. Best is trial 27 with value: 0.8053380213773451.\n"
     ]
    },
    {
     "name": "stderr",
     "output_type": "stream",
     "text": [
      "Best trial: 27. Best value: 0.805338:  92%|█████████▏| 46/50 [02:20<00:11,  2.96s/it]"
     ]
    },
    {
     "name": "stdout",
     "output_type": "stream",
     "text": [
      "[I 2025-03-20 13:13:04,940] Trial 45 finished with value: 0.8017882966813749 and parameters: {'n_estimators': 408, 'max_depth': 29, 'min_samples_split': 13, 'min_samples_leaf': 4, 'max_features': 'log2', 'criterion': 'entropy'}. Best is trial 27 with value: 0.8053380213773451.\n"
     ]
    },
    {
     "name": "stderr",
     "output_type": "stream",
     "text": [
      "Best trial: 27. Best value: 0.805338:  94%|█████████▍| 47/50 [02:23<00:08,  2.80s/it]"
     ]
    },
    {
     "name": "stdout",
     "output_type": "stream",
     "text": [
      "[I 2025-03-20 13:13:07,364] Trial 46 finished with value: 0.8036340204501887 and parameters: {'n_estimators': 338, 'max_depth': 22, 'min_samples_split': 18, 'min_samples_leaf': 3, 'max_features': 'sqrt', 'criterion': 'entropy'}. Best is trial 27 with value: 0.8053380213773451.\n"
     ]
    },
    {
     "name": "stderr",
     "output_type": "stream",
     "text": [
      "Best trial: 27. Best value: 0.805338:  96%|█████████▌| 48/50 [02:25<00:05,  2.70s/it]"
     ]
    },
    {
     "name": "stdout",
     "output_type": "stream",
     "text": [
      "[I 2025-03-20 13:13:09,819] Trial 47 finished with value: 0.8027819897427261 and parameters: {'n_estimators': 366, 'max_depth': 26, 'min_samples_split': 2, 'min_samples_leaf': 9, 'max_features': 'sqrt', 'criterion': 'entropy'}. Best is trial 27 with value: 0.8053380213773451.\n"
     ]
    },
    {
     "name": "stderr",
     "output_type": "stream",
     "text": [
      "Best trial: 27. Best value: 0.805338:  98%|█████████▊| 49/50 [02:37<00:05,  5.44s/it]"
     ]
    },
    {
     "name": "stdout",
     "output_type": "stream",
     "text": [
      "[I 2025-03-20 13:13:21,675] Trial 48 finished with value: 0.7907138330929548 and parameters: {'n_estimators': 434, 'max_depth': 29, 'min_samples_split': 16, 'min_samples_leaf': 1, 'max_features': None, 'criterion': 'entropy'}. Best is trial 27 with value: 0.8053380213773451.\n"
     ]
    },
    {
     "name": "stderr",
     "output_type": "stream",
     "text": [
      "Best trial: 27. Best value: 0.805338: 100%|██████████| 50/50 [02:39<00:00,  3.20s/it]"
     ]
    },
    {
     "name": "stdout",
     "output_type": "stream",
     "text": [
      "[I 2025-03-20 13:13:23,914] Trial 49 finished with value: 0.8032082470475315 and parameters: {'n_estimators': 319, 'max_depth': 20, 'min_samples_split': 17, 'min_samples_leaf': 5, 'max_features': 'sqrt', 'criterion': 'entropy'}. Best is trial 27 with value: 0.8053380213773451.\n",
      "Melhores hiperparâmetros: {'n_estimators': 305, 'max_depth': 27, 'min_samples_split': 19, 'min_samples_leaf': 2, 'max_features': 'sqrt', 'criterion': 'entropy'}\n"
     ]
    },
    {
     "name": "stderr",
     "output_type": "stream",
     "text": [
      "\n"
     ]
    }
   ],
   "source": [
    "def objective_rf(trial):\n",
    "    # Definir os hiperparâmetros a serem otimizados para RandomForestClassifier\n",
    "    n_estimators = trial.suggest_int(\"n_estimators\", 50, 500)\n",
    "    max_depth = trial.suggest_int(\"max_depth\", 2, 30)\n",
    "    min_samples_split = trial.suggest_int(\"min_samples_split\", 2, 20)\n",
    "    min_samples_leaf = trial.suggest_int(\"min_samples_leaf\", 1, 10)\n",
    "    max_features = trial.suggest_categorical(\"max_features\", [\"sqrt\", \"log2\", None])\n",
    "    criterion = trial.suggest_categorical(\"criterion\", [\"gini\", \"entropy\"])\n",
    "    \n",
    "    # Criar o modelo RandomForest com os parâmetros sugeridos\n",
    "    model = RandomForestClassifier(n_estimators=n_estimators,\n",
    "                                   max_depth=max_depth,\n",
    "                                   min_samples_split=min_samples_split,\n",
    "                                   min_samples_leaf=min_samples_leaf,\n",
    "                                   max_features=max_features,\n",
    "                                   criterion=criterion,\n",
    "                                   random_state=50)\n",
    "    \n",
    "    # Avaliar usando validação cruzada\n",
    "    score = cross_val_score(model, df_data, df_target, cv=kf, scoring=\"accuracy\").mean()\n",
    "    # TODO: implementar scoring com suggest:[\"accuracy\", \"roc_auc\", \"precision\", \"recall\", \"f1\", \"ks\", \"matrizconfusao\"]\n",
    "    return score  # Buscamos maximizar a acurácia\n",
    "\n",
    "# Criar estudo e encontrar os melhores hiperparâmetros\n",
    "study_rf = optuna.create_study(direction=\"maximize\")\n",
    "study_rf.optimize(objective_rf, n_trials=50, show_progress_bar=True)\n",
    "\n",
    "# Exibir os melhores hiperparâmetros encontrados\n",
    "print(\"Melhores hiperparâmetros:\", study_rf.best_params)"
   ]
  },
  {
   "cell_type": "code",
   "execution_count": 22,
   "metadata": {},
   "outputs": [
    {
     "name": "stdout",
     "output_type": "stream",
     "text": [
      "Modelo final treinado e salvo!\n"
     ]
    }
   ],
   "source": [
    "# Criar modelo com os melhores hiperparâmetros\n",
    "# melhores_params = study.best_params  # Pegamos os melhores parâmetros encontrados pelo Optuna\n",
    "best_params_rf = study_rf.best_params\n",
    "\n",
    "modelo_final_rf = RandomForestClassifier(n_estimators=best_params_rf[\"n_estimators\"],\n",
    "                                      max_depth=best_params_rf[\"max_depth\"],\n",
    "                                      min_samples_split=best_params_rf[\"min_samples_split\"],\n",
    "                                      min_samples_leaf=best_params_rf[\"min_samples_leaf\"],\n",
    "                                      max_features=best_params_rf[\"max_features\"],\n",
    "                                      criterion=best_params_rf[\"criterion\"],\n",
    "                                      random_state=50)\n",
    "\n",
    "# Se desejar, você pode dividir em treino/teste; aqui usamos TODOS os dados para o treinamento final\n",
    "modelo_final_rf.fit(df_data, df_target)\n",
    "\n",
    "# Salvar o modelo treinado\n",
    "joblib.dump(modelo_final_rf, \"modelo_final_rf.pkl\")\n",
    "print(\"Modelo final treinado e salvo!\")"
   ]
  },
  {
   "cell_type": "markdown",
   "metadata": {},
   "source": [
    "### 4.3 Modelo Gradient Boosting"
   ]
  },
  {
   "cell_type": "code",
   "execution_count": 26,
   "metadata": {},
   "outputs": [
    {
     "name": "stderr",
     "output_type": "stream",
     "text": [
      "[I 2025-03-20 13:23:28,869] A new study created in memory with name: no-name-6834928a-13f2-4548-9ba6-e7eac89055f2\n",
      "Best trial: 0. Best value: 0.777082:   2%|▏         | 1/50 [00:02<02:17,  2.80s/it]"
     ]
    },
    {
     "name": "stdout",
     "output_type": "stream",
     "text": [
      "[I 2025-03-20 13:23:31,667] Trial 0 finished with value: 0.7770821886023139 and parameters: {'n_estimators': 332, 'learning_rate': 0.17035422840574124, 'max_depth': 6, 'min_samples_split': 3, 'min_samples_leaf': 1, 'subsample': 0.8708306422688086, 'max_features': 'sqrt'}. Best is trial 0 with value: 0.7770821886023139.\n"
     ]
    },
    {
     "name": "stderr",
     "output_type": "stream",
     "text": [
      "Best trial: 0. Best value: 0.777082:   4%|▍         | 2/50 [00:04<01:34,  1.96s/it]"
     ]
    },
    {
     "name": "stdout",
     "output_type": "stream",
     "text": [
      "[I 2025-03-20 13:23:33,046] Trial 1 finished with value: 0.7346301185052165 and parameters: {'n_estimators': 207, 'learning_rate': 0.0014344938510132727, 'max_depth': 5, 'min_samples_split': 19, 'min_samples_leaf': 9, 'subsample': 0.915144405974927, 'max_features': 'sqrt'}. Best is trial 0 with value: 0.7770821886023139.\n"
     ]
    },
    {
     "name": "stderr",
     "output_type": "stream",
     "text": [
      "Best trial: 2. Best value: 0.804628:   6%|▌         | 3/50 [00:04<01:01,  1.31s/it]"
     ]
    },
    {
     "name": "stdout",
     "output_type": "stream",
     "text": [
      "[I 2025-03-20 13:23:33,579] Trial 2 finished with value: 0.8046281974136882 and parameters: {'n_estimators': 136, 'learning_rate': 0.12568612976380436, 'max_depth': 3, 'min_samples_split': 16, 'min_samples_leaf': 1, 'subsample': 0.6087517557736888, 'max_features': 'sqrt'}. Best is trial 2 with value: 0.8046281974136882.\n"
     ]
    },
    {
     "name": "stderr",
     "output_type": "stream",
     "text": [
      "Best trial: 2. Best value: 0.804628:   8%|▊         | 4/50 [00:08<01:40,  2.18s/it]"
     ]
    },
    {
     "name": "stdout",
     "output_type": "stream",
     "text": [
      "[I 2025-03-20 13:23:37,105] Trial 3 finished with value: 0.8022146749617173 and parameters: {'n_estimators': 346, 'learning_rate': 0.006009904128244403, 'max_depth': 7, 'min_samples_split': 12, 'min_samples_leaf': 8, 'subsample': 0.9981168572749539, 'max_features': 'log2'}. Best is trial 2 with value: 0.8046281974136882.\n"
     ]
    },
    {
     "name": "stderr",
     "output_type": "stream",
     "text": [
      "Best trial: 2. Best value: 0.804628:  10%|█         | 5/50 [00:14<02:48,  3.75s/it]"
     ]
    },
    {
     "name": "stdout",
     "output_type": "stream",
     "text": [
      "[I 2025-03-20 13:23:43,639] Trial 4 finished with value: 0.7346301185052165 and parameters: {'n_estimators': 171, 'learning_rate': 0.0013852640833816874, 'max_depth': 10, 'min_samples_split': 18, 'min_samples_leaf': 1, 'subsample': 0.7385815090060381, 'max_features': None}. Best is trial 2 with value: 0.8046281974136882.\n"
     ]
    },
    {
     "name": "stderr",
     "output_type": "stream",
     "text": [
      "Best trial: 2. Best value: 0.804628:  12%|█▏        | 6/50 [00:19<03:01,  4.14s/it]"
     ]
    },
    {
     "name": "stdout",
     "output_type": "stream",
     "text": [
      "[I 2025-03-20 13:23:48,516] Trial 5 finished with value: 0.7951151045942395 and parameters: {'n_estimators': 402, 'learning_rate': 0.003109919635701285, 'max_depth': 6, 'min_samples_split': 12, 'min_samples_leaf': 8, 'subsample': 0.3284989273514726, 'max_features': None}. Best is trial 2 with value: 0.8046281974136882.\n"
     ]
    },
    {
     "name": "stderr",
     "output_type": "stream",
     "text": [
      "Best trial: 2. Best value: 0.804628:  14%|█▍        | 7/50 [00:22<02:36,  3.64s/it]"
     ]
    },
    {
     "name": "stdout",
     "output_type": "stream",
     "text": [
      "[I 2025-03-20 13:23:51,136] Trial 6 finished with value: 0.7827627764079313 and parameters: {'n_estimators': 202, 'learning_rate': 0.004376856427377686, 'max_depth': 10, 'min_samples_split': 4, 'min_samples_leaf': 6, 'subsample': 0.4036982509914478, 'max_features': 'log2'}. Best is trial 2 with value: 0.8046281974136882.\n"
     ]
    },
    {
     "name": "stderr",
     "output_type": "stream",
     "text": [
      "Best trial: 2. Best value: 0.804628:  16%|█▌        | 8/50 [00:25<02:32,  3.63s/it]"
     ]
    },
    {
     "name": "stdout",
     "output_type": "stream",
     "text": [
      "[I 2025-03-20 13:23:54,756] Trial 7 finished with value: 0.8026405693399115 and parameters: {'n_estimators': 306, 'learning_rate': 0.024681113733554996, 'max_depth': 4, 'min_samples_split': 20, 'min_samples_leaf': 6, 'subsample': 0.5986929859862322, 'max_features': None}. Best is trial 2 with value: 0.8046281974136882.\n"
     ]
    },
    {
     "name": "stderr",
     "output_type": "stream",
     "text": [
      "Best trial: 2. Best value: 0.804628:  18%|█▊        | 9/50 [00:26<01:54,  2.79s/it]"
     ]
    },
    {
     "name": "stdout",
     "output_type": "stream",
     "text": [
      "[I 2025-03-20 13:23:55,676] Trial 8 finished with value: 0.7346301185052165 and parameters: {'n_estimators': 401, 'learning_rate': 0.0021376829323919927, 'max_depth': 1, 'min_samples_split': 17, 'min_samples_leaf': 10, 'subsample': 0.5036742967423103, 'max_features': 'log2'}. Best is trial 2 with value: 0.8046281974136882.\n"
     ]
    },
    {
     "name": "stderr",
     "output_type": "stream",
     "text": [
      "Best trial: 2. Best value: 0.804628:  22%|██▏       | 11/50 [00:28<01:06,  1.70s/it]"
     ]
    },
    {
     "name": "stdout",
     "output_type": "stream",
     "text": [
      "[I 2025-03-20 13:23:57,106] Trial 9 finished with value: 0.7346301185052165 and parameters: {'n_estimators': 338, 'learning_rate': 0.0017409513806396688, 'max_depth': 4, 'min_samples_split': 16, 'min_samples_leaf': 10, 'subsample': 0.4138013931231439, 'max_features': 'log2'}. Best is trial 2 with value: 0.8046281974136882.\n",
      "[I 2025-03-20 13:23:57,288] Trial 10 finished with value: 0.8002266839613293 and parameters: {'n_estimators': 63, 'learning_rate': 0.2375775915098841, 'max_depth': 1, 'min_samples_split': 6, 'min_samples_leaf': 3, 'subsample': 0.674944924757559, 'max_features': 'sqrt'}. Best is trial 2 with value: 0.8046281974136882.\n"
     ]
    },
    {
     "name": "stderr",
     "output_type": "stream",
     "text": [
      "Best trial: 2. Best value: 0.804628:  24%|██▍       | 12/50 [00:29<00:52,  1.39s/it]"
     ]
    },
    {
     "name": "stdout",
     "output_type": "stream",
     "text": [
      "[I 2025-03-20 13:23:57,962] Trial 11 finished with value: 0.8013620998643379 and parameters: {'n_estimators': 58, 'learning_rate': 0.04769148086667553, 'max_depth': 4, 'min_samples_split': 20, 'min_samples_leaf': 5, 'subsample': 0.5505882442840113, 'max_features': None}. Best is trial 2 with value: 0.8046281974136882.\n"
     ]
    },
    {
     "name": "stderr",
     "output_type": "stream",
     "text": [
      "Best trial: 2. Best value: 0.804628:  26%|██▌       | 13/50 [00:31<01:03,  1.71s/it]"
     ]
    },
    {
     "name": "stdout",
     "output_type": "stream",
     "text": [
      "[I 2025-03-20 13:24:00,426] Trial 12 finished with value: 0.8036341414257256 and parameters: {'n_estimators': 266, 'learning_rate': 0.029617378660056252, 'max_depth': 3, 'min_samples_split': 15, 'min_samples_leaf': 5, 'subsample': 0.5949720438434483, 'max_features': None}. Best is trial 2 with value: 0.8046281974136882.\n"
     ]
    },
    {
     "name": "stderr",
     "output_type": "stream",
     "text": [
      "Best trial: 2. Best value: 0.804628:  28%|██▊       | 14/50 [00:33<01:00,  1.69s/it]"
     ]
    },
    {
     "name": "stdout",
     "output_type": "stream",
     "text": [
      "[I 2025-03-20 13:24:02,074] Trial 13 finished with value: 0.8022144330106432 and parameters: {'n_estimators': 499, 'learning_rate': 0.06635391899110248, 'max_depth': 2, 'min_samples_split': 15, 'min_samples_leaf': 3, 'subsample': 0.7353543387565117, 'max_features': 'sqrt'}. Best is trial 2 with value: 0.8046281974136882.\n"
     ]
    },
    {
     "name": "stderr",
     "output_type": "stream",
     "text": [
      "Best trial: 2. Best value: 0.804628:  30%|███       | 15/50 [00:34<00:57,  1.63s/it]"
     ]
    },
    {
     "name": "stdout",
     "output_type": "stream",
     "text": [
      "[I 2025-03-20 13:24:03,565] Trial 14 finished with value: 0.7912822366537973 and parameters: {'n_estimators': 143, 'learning_rate': 0.011631299419160024, 'max_depth': 3, 'min_samples_split': 14, 'min_samples_leaf': 3, 'subsample': 0.6663551287148433, 'max_features': None}. Best is trial 2 with value: 0.8046281974136882.\n"
     ]
    },
    {
     "name": "stderr",
     "output_type": "stream",
     "text": [
      "Best trial: 2. Best value: 0.804628:  32%|███▏      | 16/50 [00:37<01:06,  1.96s/it]"
     ]
    },
    {
     "name": "stdout",
     "output_type": "stream",
     "text": [
      "[I 2025-03-20 13:24:06,286] Trial 15 finished with value: 0.7793555004068408 and parameters: {'n_estimators': 249, 'learning_rate': 0.0942158011267658, 'max_depth': 8, 'min_samples_split': 9, 'min_samples_leaf': 4, 'subsample': 0.48003203413133233, 'max_features': 'sqrt'}. Best is trial 2 with value: 0.8046281974136882.\n"
     ]
    },
    {
     "name": "stderr",
     "output_type": "stream",
     "text": [
      "Best trial: 2. Best value: 0.804628:  34%|███▍      | 17/50 [00:38<00:54,  1.65s/it]"
     ]
    },
    {
     "name": "stdout",
     "output_type": "stream",
     "text": [
      "[I 2025-03-20 13:24:07,231] Trial 16 finished with value: 0.7934114665936942 and parameters: {'n_estimators': 117, 'learning_rate': 0.026906583983230717, 'max_depth': 2, 'min_samples_split': 10, 'min_samples_leaf': 2, 'subsample': 0.7474845373922204, 'max_features': None}. Best is trial 2 with value: 0.8046281974136882.\n"
     ]
    },
    {
     "name": "stderr",
     "output_type": "stream",
     "text": [
      "Best trial: 2. Best value: 0.804628:  36%|███▌      | 18/50 [00:39<00:46,  1.46s/it]"
     ]
    },
    {
     "name": "stdout",
     "output_type": "stream",
     "text": [
      "[I 2025-03-20 13:24:08,228] Trial 17 finished with value: 0.7968192869847016 and parameters: {'n_estimators': 261, 'learning_rate': 0.1163005005741432, 'max_depth': 3, 'min_samples_split': 14, 'min_samples_leaf': 7, 'subsample': 0.5928278324822431, 'max_features': 'sqrt'}. Best is trial 2 with value: 0.8046281974136882.\n"
     ]
    },
    {
     "name": "stderr",
     "output_type": "stream",
     "text": [
      "Best trial: 2. Best value: 0.804628:  38%|███▊      | 19/50 [00:40<00:43,  1.41s/it]"
     ]
    },
    {
     "name": "stdout",
     "output_type": "stream",
     "text": [
      "[I 2025-03-20 13:24:09,514] Trial 18 finished with value: 0.7878741138239472 and parameters: {'n_estimators': 104, 'learning_rate': 0.015727607481217667, 'max_depth': 3, 'min_samples_split': 8, 'min_samples_leaf': 5, 'subsample': 0.8535044827688081, 'max_features': None}. Best is trial 2 with value: 0.8046281974136882.\n"
     ]
    },
    {
     "name": "stderr",
     "output_type": "stream",
     "text": [
      "Best trial: 2. Best value: 0.804628:  40%|████      | 20/50 [00:41<00:41,  1.38s/it]"
     ]
    },
    {
     "name": "stdout",
     "output_type": "stream",
     "text": [
      "[I 2025-03-20 13:24:10,822] Trial 19 finished with value: 0.7986647083146728 and parameters: {'n_estimators': 233, 'learning_rate': 0.049967480041326694, 'max_depth': 5, 'min_samples_split': 13, 'min_samples_leaf': 4, 'subsample': 0.47268252302470515, 'max_features': 'sqrt'}. Best is trial 2 with value: 0.8046281974136882.\n"
     ]
    },
    {
     "name": "stderr",
     "output_type": "stream",
     "text": [
      "Best trial: 2. Best value: 0.804628:  42%|████▏     | 21/50 [00:43<00:38,  1.33s/it]"
     ]
    },
    {
     "name": "stdout",
     "output_type": "stream",
     "text": [
      "[I 2025-03-20 13:24:12,048] Trial 20 finished with value: 0.7955414223868135 and parameters: {'n_estimators': 174, 'learning_rate': 0.29193138013562064, 'max_depth': 2, 'min_samples_split': 17, 'min_samples_leaf': 2, 'subsample': 0.6004618220874761, 'max_features': None}. Best is trial 2 with value: 0.8046281974136882.\n"
     ]
    },
    {
     "name": "stderr",
     "output_type": "stream",
     "text": [
      "Best trial: 2. Best value: 0.804628:  44%|████▍     | 22/50 [00:46<00:56,  2.01s/it]"
     ]
    },
    {
     "name": "stdout",
     "output_type": "stream",
     "text": [
      "[I 2025-03-20 13:24:15,624] Trial 21 finished with value: 0.8020724077301432 and parameters: {'n_estimators': 297, 'learning_rate': 0.022372615894472772, 'max_depth': 4, 'min_samples_split': 20, 'min_samples_leaf': 6, 'subsample': 0.5912051493272535, 'max_features': None}. Best is trial 2 with value: 0.8046281974136882.\n"
     ]
    },
    {
     "name": "stderr",
     "output_type": "stream",
     "text": [
      "Best trial: 2. Best value: 0.804628:  46%|████▌     | 23/50 [00:51<01:19,  2.94s/it]"
     ]
    },
    {
     "name": "stdout",
     "output_type": "stream",
     "text": [
      "[I 2025-03-20 13:24:20,751] Trial 22 finished with value: 0.8037761062184572 and parameters: {'n_estimators': 397, 'learning_rate': 0.009046880517023032, 'max_depth': 4, 'min_samples_split': 16, 'min_samples_leaf': 7, 'subsample': 0.6658296484780878, 'max_features': None}. Best is trial 2 with value: 0.8046281974136882.\n"
     ]
    },
    {
     "name": "stderr",
     "output_type": "stream",
     "text": [
      "Best trial: 2. Best value: 0.804628:  48%|████▊     | 24/50 [00:57<01:37,  3.75s/it]"
     ]
    },
    {
     "name": "stdout",
     "output_type": "stream",
     "text": [
      "[I 2025-03-20 13:24:26,393] Trial 23 finished with value: 0.8037764691450683 and parameters: {'n_estimators': 496, 'learning_rate': 0.009369276582431568, 'max_depth': 3, 'min_samples_split': 16, 'min_samples_leaf': 7, 'subsample': 0.7913358235758151, 'max_features': None}. Best is trial 2 with value: 0.8046281974136882.\n"
     ]
    },
    {
     "name": "stderr",
     "output_type": "stream",
     "text": [
      "Best trial: 2. Best value: 0.804628:  50%|█████     | 25/50 [01:06<02:09,  5.20s/it]"
     ]
    },
    {
     "name": "stdout",
     "output_type": "stream",
     "text": [
      "[I 2025-03-20 13:24:34,960] Trial 24 finished with value: 0.8040599148283829 and parameters: {'n_estimators': 473, 'learning_rate': 0.011369379976942168, 'max_depth': 5, 'min_samples_split': 17, 'min_samples_leaf': 7, 'subsample': 0.7832032769974686, 'max_features': None}. Best is trial 2 with value: 0.8046281974136882.\n"
     ]
    },
    {
     "name": "stderr",
     "output_type": "stream",
     "text": [
      "Best trial: 25. Best value: 0.805196:  52%|█████▏    | 26/50 [01:10<02:02,  5.08s/it]"
     ]
    },
    {
     "name": "stdout",
     "output_type": "stream",
     "text": [
      "[I 2025-03-20 13:24:39,781] Trial 25 finished with value: 0.8051960565846139 and parameters: {'n_estimators': 481, 'learning_rate': 0.007082918136090272, 'max_depth': 7, 'min_samples_split': 18, 'min_samples_leaf': 8, 'subsample': 0.8015857617301785, 'max_features': 'sqrt'}. Best is trial 25 with value: 0.8051960565846139.\n"
     ]
    },
    {
     "name": "stderr",
     "output_type": "stream",
     "text": [
      "Best trial: 25. Best value: 0.805196:  54%|█████▍    | 27/50 [01:16<02:03,  5.37s/it]"
     ]
    },
    {
     "name": "stdout",
     "output_type": "stream",
     "text": [
      "[I 2025-03-20 13:24:45,823] Trial 26 finished with value: 0.8003693746072832 and parameters: {'n_estimators': 454, 'learning_rate': 0.003840570318441234, 'max_depth': 8, 'min_samples_split': 19, 'min_samples_leaf': 8, 'subsample': 0.8181459905260285, 'max_features': 'sqrt'}. Best is trial 25 with value: 0.8051960565846139.\n"
     ]
    },
    {
     "name": "stderr",
     "output_type": "stream",
     "text": [
      "Best trial: 25. Best value: 0.805196:  56%|█████▌    | 28/50 [01:21<01:55,  5.24s/it]"
     ]
    },
    {
     "name": "stdout",
     "output_type": "stream",
     "text": [
      "[I 2025-03-20 13:24:50,762] Trial 27 finished with value: 0.8047702831819565 and parameters: {'n_estimators': 450, 'learning_rate': 0.006106552080767701, 'max_depth': 7, 'min_samples_split': 18, 'min_samples_leaf': 8, 'subsample': 0.9202933561698604, 'max_features': 'sqrt'}. Best is trial 25 with value: 0.8051960565846139.\n"
     ]
    },
    {
     "name": "stderr",
     "output_type": "stream",
     "text": [
      "Best trial: 28. Best value: 0.80619:  58%|█████▊    | 29/50 [01:27<01:53,  5.42s/it] "
     ]
    },
    {
     "name": "stdout",
     "output_type": "stream",
     "text": [
      "[I 2025-03-20 13:24:56,588] Trial 28 finished with value: 0.8061901125725762 and parameters: {'n_estimators': 429, 'learning_rate': 0.005695585324779956, 'max_depth': 8, 'min_samples_split': 18, 'min_samples_leaf': 9, 'subsample': 0.9214799466730439, 'max_features': 'sqrt'}. Best is trial 28 with value: 0.8061901125725762.\n"
     ]
    },
    {
     "name": "stderr",
     "output_type": "stream",
     "text": [
      "Best trial: 28. Best value: 0.80619:  60%|██████    | 30/50 [01:33<01:50,  5.54s/it]"
     ]
    },
    {
     "name": "stdout",
     "output_type": "stream",
     "text": [
      "[I 2025-03-20 13:25:02,423] Trial 29 finished with value: 0.8050542127674195 and parameters: {'n_estimators': 439, 'learning_rate': 0.006451655793247282, 'max_depth': 8, 'min_samples_split': 2, 'min_samples_leaf': 9, 'subsample': 0.9353152703877914, 'max_features': 'sqrt'}. Best is trial 28 with value: 0.8061901125725762.\n"
     ]
    },
    {
     "name": "stderr",
     "output_type": "stream",
     "text": [
      "Best trial: 28. Best value: 0.80619:  62%|██████▏   | 31/50 [01:41<01:56,  6.11s/it]"
     ]
    },
    {
     "name": "stdout",
     "output_type": "stream",
     "text": [
      "[I 2025-03-20 13:25:09,872] Trial 30 finished with value: 0.7894356055684556 and parameters: {'n_estimators': 425, 'learning_rate': 0.0025905645584389184, 'max_depth': 9, 'min_samples_split': 3, 'min_samples_leaf': 9, 'subsample': 0.9914154388273804, 'max_features': 'sqrt'}. Best is trial 28 with value: 0.8061901125725762.\n"
     ]
    },
    {
     "name": "stderr",
     "output_type": "stream",
     "text": [
      "Best trial: 28. Best value: 0.80619:  64%|██████▍   | 32/50 [01:45<01:42,  5.69s/it]"
     ]
    },
    {
     "name": "stdout",
     "output_type": "stream",
     "text": [
      "[I 2025-03-20 13:25:14,561] Trial 31 finished with value: 0.8060479058287707 and parameters: {'n_estimators': 442, 'learning_rate': 0.006109247412939357, 'max_depth': 7, 'min_samples_split': 2, 'min_samples_leaf': 9, 'subsample': 0.9099088544027663, 'max_features': 'sqrt'}. Best is trial 28 with value: 0.8061901125725762.\n"
     ]
    },
    {
     "name": "stderr",
     "output_type": "stream",
     "text": [
      "Best trial: 28. Best value: 0.80619:  66%|██████▌   | 33/50 [01:49<01:27,  5.16s/it]"
     ]
    },
    {
     "name": "stdout",
     "output_type": "stream",
     "text": [
      "[I 2025-03-20 13:25:18,478] Trial 32 finished with value: 0.8022147959372544 and parameters: {'n_estimators': 361, 'learning_rate': 0.0052175731884937905, 'max_depth': 7, 'min_samples_split': 5, 'min_samples_leaf': 9, 'subsample': 0.9323188530667652, 'max_features': 'sqrt'}. Best is trial 28 with value: 0.8061901125725762.\n"
     ]
    },
    {
     "name": "stderr",
     "output_type": "stream",
     "text": [
      "Best trial: 28. Best value: 0.80619:  68%|██████▊   | 34/50 [01:55<01:26,  5.40s/it]"
     ]
    },
    {
     "name": "stdout",
     "output_type": "stream",
     "text": [
      "[I 2025-03-20 13:25:24,451] Trial 33 finished with value: 0.7346301185052165 and parameters: {'n_estimators': 444, 'learning_rate': 0.0010495140437413158, 'max_depth': 8, 'min_samples_split': 2, 'min_samples_leaf': 9, 'subsample': 0.8773779857256279, 'max_features': 'sqrt'}. Best is trial 28 with value: 0.8061901125725762.\n"
     ]
    },
    {
     "name": "stderr",
     "output_type": "stream",
     "text": [
      "Best trial: 28. Best value: 0.80619:  70%|███████   | 35/50 [02:01<01:23,  5.57s/it]"
     ]
    },
    {
     "name": "stdout",
     "output_type": "stream",
     "text": [
      "[I 2025-03-20 13:25:30,414] Trial 34 finished with value: 0.803350211840263 and parameters: {'n_estimators': 377, 'learning_rate': 0.006885315989405633, 'max_depth': 9, 'min_samples_split': 7, 'min_samples_leaf': 10, 'subsample': 0.9515477674301731, 'max_features': 'sqrt'}. Best is trial 28 with value: 0.8061901125725762.\n"
     ]
    },
    {
     "name": "stderr",
     "output_type": "stream",
     "text": [
      "Best trial: 28. Best value: 0.80619:  72%|███████▏  | 36/50 [02:05<01:12,  5.18s/it]"
     ]
    },
    {
     "name": "stdout",
     "output_type": "stream",
     "text": [
      "[I 2025-03-20 13:25:34,682] Trial 35 finished with value: 0.7998007895831352 and parameters: {'n_estimators': 425, 'learning_rate': 0.014833594600487996, 'max_depth': 7, 'min_samples_split': 2, 'min_samples_leaf': 9, 'subsample': 0.8712962321525204, 'max_features': 'sqrt'}. Best is trial 28 with value: 0.8061901125725762.\n"
     ]
    },
    {
     "name": "stderr",
     "output_type": "stream",
     "text": [
      "Best trial: 28. Best value: 0.80619:  74%|███████▍  | 37/50 [02:09<01:03,  4.87s/it]"
     ]
    },
    {
     "name": "stdout",
     "output_type": "stream",
     "text": [
      "[I 2025-03-20 13:25:38,823] Trial 36 finished with value: 0.7944058250204993 and parameters: {'n_estimators': 474, 'learning_rate': 0.003135489571331933, 'max_depth': 6, 'min_samples_split': 4, 'min_samples_leaf': 10, 'subsample': 0.9726428404165955, 'max_features': 'sqrt'}. Best is trial 28 with value: 0.8061901125725762.\n"
     ]
    },
    {
     "name": "stderr",
     "output_type": "stream",
     "text": [
      "Best trial: 28. Best value: 0.80619:  76%|███████▌  | 38/50 [02:16<01:04,  5.39s/it]"
     ]
    },
    {
     "name": "stdout",
     "output_type": "stream",
     "text": [
      "[I 2025-03-20 13:25:45,430] Trial 37 finished with value: 0.8000842352664498 and parameters: {'n_estimators': 428, 'learning_rate': 0.007564246774813022, 'max_depth': 9, 'min_samples_split': 4, 'min_samples_leaf': 9, 'subsample': 0.8885595220012584, 'max_features': 'sqrt'}. Best is trial 28 with value: 0.8061901125725762.\n"
     ]
    },
    {
     "name": "stderr",
     "output_type": "stream",
     "text": [
      "Best trial: 28. Best value: 0.80619:  78%|███████▊  | 39/50 [02:19<00:51,  4.71s/it]"
     ]
    },
    {
     "name": "stdout",
     "output_type": "stream",
     "text": [
      "[I 2025-03-20 13:25:48,550] Trial 38 finished with value: 0.8013628862053288 and parameters: {'n_estimators': 373, 'learning_rate': 0.005091636357881767, 'max_depth': 6, 'min_samples_split': 6, 'min_samples_leaf': 8, 'subsample': 0.8436024299882973, 'max_features': 'sqrt'}. Best is trial 28 with value: 0.8061901125725762.\n"
     ]
    },
    {
     "name": "stderr",
     "output_type": "stream",
     "text": [
      "Best trial: 28. Best value: 0.80619:  80%|████████  | 40/50 [02:26<00:52,  5.23s/it]"
     ]
    },
    {
     "name": "stdout",
     "output_type": "stream",
     "text": [
      "[I 2025-03-20 13:25:55,012] Trial 39 finished with value: 0.802214856425023 and parameters: {'n_estimators': 477, 'learning_rate': 0.004097755895600759, 'max_depth': 8, 'min_samples_split': 12, 'min_samples_leaf': 9, 'subsample': 0.9026677846399417, 'max_features': 'sqrt'}. Best is trial 28 with value: 0.8061901125725762.\n"
     ]
    },
    {
     "name": "stderr",
     "output_type": "stream",
     "text": [
      "Best trial: 28. Best value: 0.80619:  82%|████████▏ | 41/50 [02:29<00:41,  4.62s/it]"
     ]
    },
    {
     "name": "stdout",
     "output_type": "stream",
     "text": [
      "[I 2025-03-20 13:25:58,188] Trial 40 finished with value: 0.7773675094064529 and parameters: {'n_estimators': 307, 'learning_rate': 0.0029183912559652735, 'max_depth': 7, 'min_samples_split': 3, 'min_samples_leaf': 10, 'subsample': 0.9491076521687147, 'max_features': 'log2'}. Best is trial 28 with value: 0.8061901125725762.\n"
     ]
    },
    {
     "name": "stderr",
     "output_type": "stream",
     "text": [
      "Best trial: 28. Best value: 0.80619:  84%|████████▍ | 42/50 [02:34<00:37,  4.68s/it]"
     ]
    },
    {
     "name": "stdout",
     "output_type": "stream",
     "text": [
      "[I 2025-03-20 13:26:03,021] Trial 41 finished with value: 0.8042021820599569 and parameters: {'n_estimators': 448, 'learning_rate': 0.0069874510726434655, 'max_depth': 7, 'min_samples_split': 18, 'min_samples_leaf': 8, 'subsample': 0.9041941964741061, 'max_features': 'sqrt'}. Best is trial 28 with value: 0.8061901125725762.\n"
     ]
    },
    {
     "name": "stderr",
     "output_type": "stream",
     "text": [
      "Best trial: 28. Best value: 0.80619:  86%|████████▌ | 43/50 [02:37<00:30,  4.35s/it]"
     ]
    },
    {
     "name": "stdout",
     "output_type": "stream",
     "text": [
      "[I 2025-03-20 13:26:06,585] Trial 42 finished with value: 0.804628741803605 and parameters: {'n_estimators': 407, 'learning_rate': 0.006120926469275312, 'max_depth': 6, 'min_samples_split': 18, 'min_samples_leaf': 8, 'subsample': 0.9301716172945687, 'max_features': 'sqrt'}. Best is trial 28 with value: 0.8061901125725762.\n"
     ]
    },
    {
     "name": "stderr",
     "output_type": "stream",
     "text": [
      "Best trial: 28. Best value: 0.80619:  88%|████████▊ | 44/50 [02:43<00:29,  4.84s/it]"
     ]
    },
    {
     "name": "stdout",
     "output_type": "stream",
     "text": [
      "[I 2025-03-20 13:26:12,590] Trial 43 finished with value: 0.8010781702788753 and parameters: {'n_estimators': 456, 'learning_rate': 0.011766306039157626, 'max_depth': 8, 'min_samples_split': 19, 'min_samples_leaf': 8, 'subsample': 0.9959792520388832, 'max_features': 'sqrt'}. Best is trial 28 with value: 0.8061901125725762.\n"
     ]
    },
    {
     "name": "stderr",
     "output_type": "stream",
     "text": [
      "Best trial: 28. Best value: 0.80619:  90%|█████████ | 45/50 [02:51<00:28,  5.73s/it]"
     ]
    },
    {
     "name": "stdout",
     "output_type": "stream",
     "text": [
      "[I 2025-03-20 13:26:20,386] Trial 44 finished with value: 0.7804908558220808 and parameters: {'n_estimators': 480, 'learning_rate': 0.0017621138833627899, 'max_depth': 9, 'min_samples_split': 11, 'min_samples_leaf': 9, 'subsample': 0.826430495182785, 'max_features': 'sqrt'}. Best is trial 28 with value: 0.8061901125725762.\n"
     ]
    },
    {
     "name": "stderr",
     "output_type": "stream",
     "text": [
      "Best trial: 28. Best value: 0.80619:  92%|█████████▏| 46/50 [02:58<00:23,  5.99s/it]"
     ]
    },
    {
     "name": "stdout",
     "output_type": "stream",
     "text": [
      "[I 2025-03-20 13:26:26,967] Trial 45 finished with value: 0.7972453023384328 and parameters: {'n_estimators': 390, 'learning_rate': 0.0037399068781385214, 'max_depth': 10, 'min_samples_split': 19, 'min_samples_leaf': 10, 'subsample': 0.9149394928672796, 'max_features': 'log2'}. Best is trial 28 with value: 0.8061901125725762.\n"
     ]
    },
    {
     "name": "stderr",
     "output_type": "stream",
     "text": [
      "Best trial: 28. Best value: 0.80619:  94%|█████████▍| 47/50 [03:02<00:16,  5.40s/it]"
     ]
    },
    {
     "name": "stdout",
     "output_type": "stream",
     "text": [
      "[I 2025-03-20 13:26:30,997] Trial 46 finished with value: 0.8033500908647259 and parameters: {'n_estimators': 414, 'learning_rate': 0.00879748099758605, 'max_depth': 7, 'min_samples_split': 18, 'min_samples_leaf': 7, 'subsample': 0.7111165306137024, 'max_features': 'sqrt'}. Best is trial 28 with value: 0.8061901125725762.\n"
     ]
    },
    {
     "name": "stderr",
     "output_type": "stream",
     "text": [
      "Best trial: 28. Best value: 0.80619:  96%|█████████▌| 48/50 [03:05<00:09,  4.90s/it]"
     ]
    },
    {
     "name": "stdout",
     "output_type": "stream",
     "text": [
      "[I 2025-03-20 13:26:34,738] Trial 47 finished with value: 0.8003689511929034 and parameters: {'n_estimators': 350, 'learning_rate': 0.005058108889883341, 'max_depth': 7, 'min_samples_split': 15, 'min_samples_leaf': 9, 'subsample': 0.8001451238081576, 'max_features': 'sqrt'}. Best is trial 28 with value: 0.8061901125725762.\n"
     ]
    },
    {
     "name": "stderr",
     "output_type": "stream",
     "text": [
      "Best trial: 28. Best value: 0.80619:  98%|█████████▊| 49/50 [03:11<00:05,  5.02s/it]"
     ]
    },
    {
     "name": "stdout",
     "output_type": "stream",
     "text": [
      "[I 2025-03-20 13:26:40,037] Trial 48 finished with value: 0.7941213510451197 and parameters: {'n_estimators': 437, 'learning_rate': 0.019936229715370755, 'max_depth': 8, 'min_samples_split': 17, 'min_samples_leaf': 8, 'subsample': 0.7599255795348283, 'max_features': 'sqrt'}. Best is trial 28 with value: 0.8061901125725762.\n"
     ]
    },
    {
     "name": "stderr",
     "output_type": "stream",
     "text": [
      "Best trial: 28. Best value: 0.80619: 100%|██████████| 50/50 [03:14<00:00,  3.90s/it]"
     ]
    },
    {
     "name": "stdout",
     "output_type": "stream",
     "text": [
      "[I 2025-03-20 13:26:43,839] Trial 49 finished with value: 0.7746702993200932 and parameters: {'n_estimators': 459, 'learning_rate': 0.001974485047565134, 'max_depth': 6, 'min_samples_split': 5, 'min_samples_leaf': 10, 'subsample': 0.9635808716070401, 'max_features': 'log2'}. Best is trial 28 with value: 0.8061901125725762.\n",
      "Melhores hiperparâmetros: {'n_estimators': 429, 'learning_rate': 0.005695585324779956, 'max_depth': 8, 'min_samples_split': 18, 'min_samples_leaf': 9, 'subsample': 0.9214799466730439, 'max_features': 'sqrt'}\n"
     ]
    },
    {
     "name": "stderr",
     "output_type": "stream",
     "text": [
      "\n"
     ]
    }
   ],
   "source": [
    "def objective_gb(trial):\n",
    "    # Hiperparâmetros a serem otimizados para o GradientBoostingClassifier\n",
    "    n_estimators = trial.suggest_int(\"n_estimators\", 50, 500)\n",
    "    learning_rate = trial.suggest_float(\"learning_rate\", 1e-3, 0.3, log=True)\n",
    "    max_depth = trial.suggest_int(\"max_depth\", 1, 10)\n",
    "    min_samples_split = trial.suggest_int(\"min_samples_split\", 2, 20)\n",
    "    min_samples_leaf = trial.suggest_int(\"min_samples_leaf\", 1, 10)\n",
    "    subsample = trial.suggest_float(\"subsample\", 0.3, 1.0)\n",
    "    max_features = trial.suggest_categorical(\"max_features\", [\"sqrt\", \"log2\", None])\n",
    "    \n",
    "    # Criar o modelo com os hiperparâmetros sugeridos\n",
    "    model = GradientBoostingClassifier(\n",
    "        n_estimators=n_estimators,\n",
    "        learning_rate=learning_rate,\n",
    "        max_depth=max_depth,\n",
    "        min_samples_split=min_samples_split,\n",
    "        min_samples_leaf=min_samples_leaf,\n",
    "        subsample=subsample,\n",
    "        max_features=max_features,\n",
    "        random_state=50\n",
    "    )\n",
    "    \n",
    "    # Avaliar o modelo usando validação cruzada com a métrica de acurácia\n",
    "    score = cross_val_score(model, df_data, df_target, cv=kf, scoring=\"accuracy\").mean()\n",
    "    return score  # Queremos maximizar a acurácia\n",
    "\n",
    "# Criar o estudo do Optuna e otimizar\n",
    "study_gb = optuna.create_study(direction=\"maximize\")\n",
    "study_gb.optimize(objective_gb, n_trials=50, show_progress_bar=True)\n",
    "\n",
    "# Exibir os melhores hiperparâmetros encontrados\n",
    "print(\"Melhores hiperparâmetros:\", study_gb.best_params)"
   ]
  },
  {
   "cell_type": "code",
   "execution_count": 29,
   "metadata": {},
   "outputs": [
    {
     "name": "stdout",
     "output_type": "stream",
     "text": [
      "Modelo final treinado e salvo!\n"
     ]
    }
   ],
   "source": [
    "# Treinar o modelo final usando todos os dados com os melhores hiperparâmetros\n",
    "best_params_gb = study_gb.best_params\n",
    "modelo_final_gb = GradientBoostingClassifier(\n",
    "    n_estimators=best_params_gb[\"n_estimators\"],\n",
    "    learning_rate=best_params_gb[\"learning_rate\"],\n",
    "    max_depth=best_params_gb[\"max_depth\"],\n",
    "    min_samples_split=best_params_gb[\"min_samples_split\"],\n",
    "    min_samples_leaf=best_params_gb[\"min_samples_leaf\"],\n",
    "    subsample=best_params_gb[\"subsample\"],\n",
    "    max_features=best_params_gb[\"max_features\"],\n",
    "    random_state=50\n",
    ")\n",
    "\n",
    "modelo_final_gb.fit(df_data, df_target)\n",
    "\n",
    "# Salvar o modelo treinado\n",
    "joblib.dump(modelo_final_gb, \"modelo_final_gb.pkl\")\n",
    "print(\"Modelo final treinado e salvo!\")"
   ]
  },
  {
   "cell_type": "markdown",
   "metadata": {},
   "source": [
    "### 4.4 Modelo KANs"
   ]
  },
  {
   "cell_type": "code",
   "execution_count": 20,
   "metadata": {},
   "outputs": [
    {
     "name": "stderr",
     "output_type": "stream",
     "text": [
      "[I 2025-03-21 12:56:35,668] A new study created in memory with name: no-name-8103a138-eeec-4672-8c88-cf3370a205f9\n",
      "  0%|          | 0/50 [00:00<?, ?it/s]"
     ]
    },
    {
     "name": "stdout",
     "output_type": "stream",
     "text": [
      "[W 2025-03-21 12:56:35,676] Trial 0 failed with parameters: {'num_layers': 4, 'hidden_layer_1': 55, 'hidden_layer_2': 217, 'hidden_layer_3': 265, 'hidden_layer_4': 145, 'regularize_activation': 0.41402764135495407, 'regularize_entropy': 0.1459033588633497, 'regularize_ridge': 0.8898958682751483, 'learning_rate': 0.1638172745039103} because of the following error: AttributeError(\"'KANClassifier' object has no attribute 'hidden_layer_size'\").\n",
      "Traceback (most recent call last):\n",
      "  File \"/home/ph/googleDrive/STUDYING/UFPE/IF702 RN/Projeto-IF702/.venv/lib/python3.12/site-packages/optuna/study/_optimize.py\", line 197, in _run_trial\n",
      "    value_or_values = func(trial)\n",
      "                      ^^^^^^^^^^^\n",
      "  File \"/tmp/ipykernel_7004/1769283947.py\", line 24, in objective_kan\n",
      "    score = cross_val_score(model, df_data, df_target, cv=kf, scoring=\"accuracy\").mean()\n",
      "            ^^^^^^^^^^^^^^^^^^^^^^^^^^^^^^^^^^^^^^^^^^^^^^^^^^^^^^^^^^^^^^^^^^^^^\n",
      "  File \"/home/ph/googleDrive/STUDYING/UFPE/IF702 RN/Projeto-IF702/.venv/lib/python3.12/site-packages/sklearn/utils/_param_validation.py\", line 216, in wrapper\n",
      "    return func(*args, **kwargs)\n",
      "           ^^^^^^^^^^^^^^^^^^^^^\n",
      "  File \"/home/ph/googleDrive/STUDYING/UFPE/IF702 RN/Projeto-IF702/.venv/lib/python3.12/site-packages/sklearn/model_selection/_validation.py\", line 684, in cross_val_score\n",
      "    cv_results = cross_validate(\n",
      "                 ^^^^^^^^^^^^^^^\n",
      "  File \"/home/ph/googleDrive/STUDYING/UFPE/IF702 RN/Projeto-IF702/.venv/lib/python3.12/site-packages/sklearn/utils/_param_validation.py\", line 216, in wrapper\n",
      "    return func(*args, **kwargs)\n",
      "           ^^^^^^^^^^^^^^^^^^^^^\n",
      "  File \"/home/ph/googleDrive/STUDYING/UFPE/IF702 RN/Projeto-IF702/.venv/lib/python3.12/site-packages/sklearn/model_selection/_validation.py\", line 411, in cross_validate\n",
      "    results = parallel(\n",
      "              ^^^^^^^^^\n",
      "  File \"/home/ph/googleDrive/STUDYING/UFPE/IF702 RN/Projeto-IF702/.venv/lib/python3.12/site-packages/sklearn/utils/parallel.py\", line 77, in __call__\n",
      "    return super().__call__(iterable_with_config)\n",
      "           ^^^^^^^^^^^^^^^^^^^^^^^^^^^^^^^^^^^^^^\n",
      "  File \"/home/ph/googleDrive/STUDYING/UFPE/IF702 RN/Projeto-IF702/.venv/lib/python3.12/site-packages/joblib/parallel.py\", line 1918, in __call__\n",
      "    return output if self.return_generator else list(output)\n",
      "                                                ^^^^^^^^^^^^\n",
      "  File \"/home/ph/googleDrive/STUDYING/UFPE/IF702 RN/Projeto-IF702/.venv/lib/python3.12/site-packages/joblib/parallel.py\", line 1844, in _get_sequential_output\n",
      "    for func, args, kwargs in iterable:\n",
      "  File \"/home/ph/googleDrive/STUDYING/UFPE/IF702 RN/Projeto-IF702/.venv/lib/python3.12/site-packages/sklearn/utils/parallel.py\", line 73, in <genexpr>\n",
      "    iterable_with_config = (\n",
      "                           ^\n",
      "  File \"/home/ph/googleDrive/STUDYING/UFPE/IF702 RN/Projeto-IF702/.venv/lib/python3.12/site-packages/sklearn/model_selection/_validation.py\", line 413, in <genexpr>\n",
      "    clone(estimator),\n",
      "    ^^^^^^^^^^^^^^^^\n",
      "  File \"/home/ph/googleDrive/STUDYING/UFPE/IF702 RN/Projeto-IF702/.venv/lib/python3.12/site-packages/sklearn/base.py\", line 94, in clone\n",
      "    return estimator.__sklearn_clone__()\n",
      "           ^^^^^^^^^^^^^^^^^^^^^^^^^^^^^\n",
      "  File \"/home/ph/googleDrive/STUDYING/UFPE/IF702 RN/Projeto-IF702/.venv/lib/python3.12/site-packages/sklearn/base.py\", line 300, in __sklearn_clone__\n",
      "    return _clone_parametrized(self)\n",
      "           ^^^^^^^^^^^^^^^^^^^^^^^^^\n",
      "  File \"/home/ph/googleDrive/STUDYING/UFPE/IF702 RN/Projeto-IF702/.venv/lib/python3.12/site-packages/sklearn/base.py\", line 125, in _clone_parametrized\n",
      "    new_object_params = estimator.get_params(deep=False)\n",
      "                        ^^^^^^^^^^^^^^^^^^^^^^^^^^^^^^^^\n",
      "  File \"/home/ph/googleDrive/STUDYING/UFPE/IF702 RN/Projeto-IF702/.venv/lib/python3.12/site-packages/sklearn/base.py\", line 248, in get_params\n",
      "    value = getattr(self, key)\n",
      "            ^^^^^^^^^^^^^^^^^^\n",
      "AttributeError: 'KANClassifier' object has no attribute 'hidden_layer_size'. Did you mean: 'hidden_layer_sizes'?\n",
      "[W 2025-03-21 12:56:35,680] Trial 0 failed with value None.\n"
     ]
    },
    {
     "name": "stderr",
     "output_type": "stream",
     "text": [
      "\n"
     ]
    },
    {
     "ename": "AttributeError",
     "evalue": "'KANClassifier' object has no attribute 'hidden_layer_size'",
     "output_type": "error",
     "traceback": [
      "\u001b[31m---------------------------------------------------------------------------\u001b[39m",
      "\u001b[31mAttributeError\u001b[39m                            Traceback (most recent call last)",
      "\u001b[36mCell\u001b[39m\u001b[36m \u001b[39m\u001b[32mIn[20]\u001b[39m\u001b[32m, line 29\u001b[39m\n\u001b[32m     27\u001b[39m \u001b[38;5;66;03m# Criar o estudo do Optuna e otimizar\u001b[39;00m\n\u001b[32m     28\u001b[39m study_kan = optuna.create_study(direction=\u001b[33m\"\u001b[39m\u001b[33mmaximize\u001b[39m\u001b[33m\"\u001b[39m)\n\u001b[32m---> \u001b[39m\u001b[32m29\u001b[39m \u001b[43mstudy_kan\u001b[49m\u001b[43m.\u001b[49m\u001b[43moptimize\u001b[49m\u001b[43m(\u001b[49m\u001b[43mobjective_kan\u001b[49m\u001b[43m,\u001b[49m\u001b[43m \u001b[49m\u001b[43mn_trials\u001b[49m\u001b[43m=\u001b[49m\u001b[32;43m50\u001b[39;49m\u001b[43m,\u001b[49m\u001b[43m \u001b[49m\u001b[43mshow_progress_bar\u001b[49m\u001b[43m=\u001b[49m\u001b[38;5;28;43;01mTrue\u001b[39;49;00m\u001b[43m)\u001b[49m\n\u001b[32m     31\u001b[39m \u001b[38;5;66;03m# Exibir os melhores hiperparâmetros encontrados\u001b[39;00m\n\u001b[32m     32\u001b[39m \u001b[38;5;28mprint\u001b[39m(\u001b[33m\"\u001b[39m\u001b[33mMelhores hiperparâmetros:\u001b[39m\u001b[33m\"\u001b[39m, study_kan.best_params)\n",
      "\u001b[36mFile \u001b[39m\u001b[32m~/googleDrive/STUDYING/UFPE/IF702 RN/Projeto-IF702/.venv/lib/python3.12/site-packages/optuna/study/study.py:475\u001b[39m, in \u001b[36mStudy.optimize\u001b[39m\u001b[34m(self, func, n_trials, timeout, n_jobs, catch, callbacks, gc_after_trial, show_progress_bar)\u001b[39m\n\u001b[32m    373\u001b[39m \u001b[38;5;28;01mdef\u001b[39;00m\u001b[38;5;250m \u001b[39m\u001b[34moptimize\u001b[39m(\n\u001b[32m    374\u001b[39m     \u001b[38;5;28mself\u001b[39m,\n\u001b[32m    375\u001b[39m     func: ObjectiveFuncType,\n\u001b[32m   (...)\u001b[39m\u001b[32m    382\u001b[39m     show_progress_bar: \u001b[38;5;28mbool\u001b[39m = \u001b[38;5;28;01mFalse\u001b[39;00m,\n\u001b[32m    383\u001b[39m ) -> \u001b[38;5;28;01mNone\u001b[39;00m:\n\u001b[32m    384\u001b[39m \u001b[38;5;250m    \u001b[39m\u001b[33;03m\"\"\"Optimize an objective function.\u001b[39;00m\n\u001b[32m    385\u001b[39m \n\u001b[32m    386\u001b[39m \u001b[33;03m    Optimization is done by choosing a suitable set of hyperparameter values from a given\u001b[39;00m\n\u001b[32m   (...)\u001b[39m\u001b[32m    473\u001b[39m \u001b[33;03m            If nested invocation of this method occurs.\u001b[39;00m\n\u001b[32m    474\u001b[39m \u001b[33;03m    \"\"\"\u001b[39;00m\n\u001b[32m--> \u001b[39m\u001b[32m475\u001b[39m     \u001b[43m_optimize\u001b[49m\u001b[43m(\u001b[49m\n\u001b[32m    476\u001b[39m \u001b[43m        \u001b[49m\u001b[43mstudy\u001b[49m\u001b[43m=\u001b[49m\u001b[38;5;28;43mself\u001b[39;49m\u001b[43m,\u001b[49m\n\u001b[32m    477\u001b[39m \u001b[43m        \u001b[49m\u001b[43mfunc\u001b[49m\u001b[43m=\u001b[49m\u001b[43mfunc\u001b[49m\u001b[43m,\u001b[49m\n\u001b[32m    478\u001b[39m \u001b[43m        \u001b[49m\u001b[43mn_trials\u001b[49m\u001b[43m=\u001b[49m\u001b[43mn_trials\u001b[49m\u001b[43m,\u001b[49m\n\u001b[32m    479\u001b[39m \u001b[43m        \u001b[49m\u001b[43mtimeout\u001b[49m\u001b[43m=\u001b[49m\u001b[43mtimeout\u001b[49m\u001b[43m,\u001b[49m\n\u001b[32m    480\u001b[39m \u001b[43m        \u001b[49m\u001b[43mn_jobs\u001b[49m\u001b[43m=\u001b[49m\u001b[43mn_jobs\u001b[49m\u001b[43m,\u001b[49m\n\u001b[32m    481\u001b[39m \u001b[43m        \u001b[49m\u001b[43mcatch\u001b[49m\u001b[43m=\u001b[49m\u001b[38;5;28;43mtuple\u001b[39;49m\u001b[43m(\u001b[49m\u001b[43mcatch\u001b[49m\u001b[43m)\u001b[49m\u001b[43m \u001b[49m\u001b[38;5;28;43;01mif\u001b[39;49;00m\u001b[43m \u001b[49m\u001b[38;5;28;43misinstance\u001b[39;49m\u001b[43m(\u001b[49m\u001b[43mcatch\u001b[49m\u001b[43m,\u001b[49m\u001b[43m \u001b[49m\u001b[43mIterable\u001b[49m\u001b[43m)\u001b[49m\u001b[43m \u001b[49m\u001b[38;5;28;43;01melse\u001b[39;49;00m\u001b[43m \u001b[49m\u001b[43m(\u001b[49m\u001b[43mcatch\u001b[49m\u001b[43m,\u001b[49m\u001b[43m)\u001b[49m\u001b[43m,\u001b[49m\n\u001b[32m    482\u001b[39m \u001b[43m        \u001b[49m\u001b[43mcallbacks\u001b[49m\u001b[43m=\u001b[49m\u001b[43mcallbacks\u001b[49m\u001b[43m,\u001b[49m\n\u001b[32m    483\u001b[39m \u001b[43m        \u001b[49m\u001b[43mgc_after_trial\u001b[49m\u001b[43m=\u001b[49m\u001b[43mgc_after_trial\u001b[49m\u001b[43m,\u001b[49m\n\u001b[32m    484\u001b[39m \u001b[43m        \u001b[49m\u001b[43mshow_progress_bar\u001b[49m\u001b[43m=\u001b[49m\u001b[43mshow_progress_bar\u001b[49m\u001b[43m,\u001b[49m\n\u001b[32m    485\u001b[39m \u001b[43m    \u001b[49m\u001b[43m)\u001b[49m\n",
      "\u001b[36mFile \u001b[39m\u001b[32m~/googleDrive/STUDYING/UFPE/IF702 RN/Projeto-IF702/.venv/lib/python3.12/site-packages/optuna/study/_optimize.py:63\u001b[39m, in \u001b[36m_optimize\u001b[39m\u001b[34m(study, func, n_trials, timeout, n_jobs, catch, callbacks, gc_after_trial, show_progress_bar)\u001b[39m\n\u001b[32m     61\u001b[39m \u001b[38;5;28;01mtry\u001b[39;00m:\n\u001b[32m     62\u001b[39m     \u001b[38;5;28;01mif\u001b[39;00m n_jobs == \u001b[32m1\u001b[39m:\n\u001b[32m---> \u001b[39m\u001b[32m63\u001b[39m         \u001b[43m_optimize_sequential\u001b[49m\u001b[43m(\u001b[49m\n\u001b[32m     64\u001b[39m \u001b[43m            \u001b[49m\u001b[43mstudy\u001b[49m\u001b[43m,\u001b[49m\n\u001b[32m     65\u001b[39m \u001b[43m            \u001b[49m\u001b[43mfunc\u001b[49m\u001b[43m,\u001b[49m\n\u001b[32m     66\u001b[39m \u001b[43m            \u001b[49m\u001b[43mn_trials\u001b[49m\u001b[43m,\u001b[49m\n\u001b[32m     67\u001b[39m \u001b[43m            \u001b[49m\u001b[43mtimeout\u001b[49m\u001b[43m,\u001b[49m\n\u001b[32m     68\u001b[39m \u001b[43m            \u001b[49m\u001b[43mcatch\u001b[49m\u001b[43m,\u001b[49m\n\u001b[32m     69\u001b[39m \u001b[43m            \u001b[49m\u001b[43mcallbacks\u001b[49m\u001b[43m,\u001b[49m\n\u001b[32m     70\u001b[39m \u001b[43m            \u001b[49m\u001b[43mgc_after_trial\u001b[49m\u001b[43m,\u001b[49m\n\u001b[32m     71\u001b[39m \u001b[43m            \u001b[49m\u001b[43mreseed_sampler_rng\u001b[49m\u001b[43m=\u001b[49m\u001b[38;5;28;43;01mFalse\u001b[39;49;00m\u001b[43m,\u001b[49m\n\u001b[32m     72\u001b[39m \u001b[43m            \u001b[49m\u001b[43mtime_start\u001b[49m\u001b[43m=\u001b[49m\u001b[38;5;28;43;01mNone\u001b[39;49;00m\u001b[43m,\u001b[49m\n\u001b[32m     73\u001b[39m \u001b[43m            \u001b[49m\u001b[43mprogress_bar\u001b[49m\u001b[43m=\u001b[49m\u001b[43mprogress_bar\u001b[49m\u001b[43m,\u001b[49m\n\u001b[32m     74\u001b[39m \u001b[43m        \u001b[49m\u001b[43m)\u001b[49m\n\u001b[32m     75\u001b[39m     \u001b[38;5;28;01melse\u001b[39;00m:\n\u001b[32m     76\u001b[39m         \u001b[38;5;28;01mif\u001b[39;00m n_jobs == -\u001b[32m1\u001b[39m:\n",
      "\u001b[36mFile \u001b[39m\u001b[32m~/googleDrive/STUDYING/UFPE/IF702 RN/Projeto-IF702/.venv/lib/python3.12/site-packages/optuna/study/_optimize.py:160\u001b[39m, in \u001b[36m_optimize_sequential\u001b[39m\u001b[34m(study, func, n_trials, timeout, catch, callbacks, gc_after_trial, reseed_sampler_rng, time_start, progress_bar)\u001b[39m\n\u001b[32m    157\u001b[39m         \u001b[38;5;28;01mbreak\u001b[39;00m\n\u001b[32m    159\u001b[39m \u001b[38;5;28;01mtry\u001b[39;00m:\n\u001b[32m--> \u001b[39m\u001b[32m160\u001b[39m     frozen_trial = \u001b[43m_run_trial\u001b[49m\u001b[43m(\u001b[49m\u001b[43mstudy\u001b[49m\u001b[43m,\u001b[49m\u001b[43m \u001b[49m\u001b[43mfunc\u001b[49m\u001b[43m,\u001b[49m\u001b[43m \u001b[49m\u001b[43mcatch\u001b[49m\u001b[43m)\u001b[49m\n\u001b[32m    161\u001b[39m \u001b[38;5;28;01mfinally\u001b[39;00m:\n\u001b[32m    162\u001b[39m     \u001b[38;5;66;03m# The following line mitigates memory problems that can be occurred in some\u001b[39;00m\n\u001b[32m    163\u001b[39m     \u001b[38;5;66;03m# environments (e.g., services that use computing containers such as GitHub Actions).\u001b[39;00m\n\u001b[32m    164\u001b[39m     \u001b[38;5;66;03m# Please refer to the following PR for further details:\u001b[39;00m\n\u001b[32m    165\u001b[39m     \u001b[38;5;66;03m# https://github.com/optuna/optuna/pull/325.\u001b[39;00m\n\u001b[32m    166\u001b[39m     \u001b[38;5;28;01mif\u001b[39;00m gc_after_trial:\n",
      "\u001b[36mFile \u001b[39m\u001b[32m~/googleDrive/STUDYING/UFPE/IF702 RN/Projeto-IF702/.venv/lib/python3.12/site-packages/optuna/study/_optimize.py:248\u001b[39m, in \u001b[36m_run_trial\u001b[39m\u001b[34m(study, func, catch)\u001b[39m\n\u001b[32m    241\u001b[39m         \u001b[38;5;28;01massert\u001b[39;00m \u001b[38;5;28;01mFalse\u001b[39;00m, \u001b[33m\"\u001b[39m\u001b[33mShould not reach.\u001b[39m\u001b[33m\"\u001b[39m\n\u001b[32m    243\u001b[39m \u001b[38;5;28;01mif\u001b[39;00m (\n\u001b[32m    244\u001b[39m     frozen_trial.state == TrialState.FAIL\n\u001b[32m    245\u001b[39m     \u001b[38;5;129;01mand\u001b[39;00m func_err \u001b[38;5;129;01mis\u001b[39;00m \u001b[38;5;129;01mnot\u001b[39;00m \u001b[38;5;28;01mNone\u001b[39;00m\n\u001b[32m    246\u001b[39m     \u001b[38;5;129;01mand\u001b[39;00m \u001b[38;5;129;01mnot\u001b[39;00m \u001b[38;5;28misinstance\u001b[39m(func_err, catch)\n\u001b[32m    247\u001b[39m ):\n\u001b[32m--> \u001b[39m\u001b[32m248\u001b[39m     \u001b[38;5;28;01mraise\u001b[39;00m func_err\n\u001b[32m    249\u001b[39m \u001b[38;5;28;01mreturn\u001b[39;00m frozen_trial\n",
      "\u001b[36mFile \u001b[39m\u001b[32m~/googleDrive/STUDYING/UFPE/IF702 RN/Projeto-IF702/.venv/lib/python3.12/site-packages/optuna/study/_optimize.py:197\u001b[39m, in \u001b[36m_run_trial\u001b[39m\u001b[34m(study, func, catch)\u001b[39m\n\u001b[32m    195\u001b[39m \u001b[38;5;28;01mwith\u001b[39;00m get_heartbeat_thread(trial._trial_id, study._storage):\n\u001b[32m    196\u001b[39m     \u001b[38;5;28;01mtry\u001b[39;00m:\n\u001b[32m--> \u001b[39m\u001b[32m197\u001b[39m         value_or_values = \u001b[43mfunc\u001b[49m\u001b[43m(\u001b[49m\u001b[43mtrial\u001b[49m\u001b[43m)\u001b[49m\n\u001b[32m    198\u001b[39m     \u001b[38;5;28;01mexcept\u001b[39;00m exceptions.TrialPruned \u001b[38;5;28;01mas\u001b[39;00m e:\n\u001b[32m    199\u001b[39m         \u001b[38;5;66;03m# TODO(mamu): Handle multi-objective cases.\u001b[39;00m\n\u001b[32m    200\u001b[39m         state = TrialState.PRUNED\n",
      "\u001b[36mCell\u001b[39m\u001b[36m \u001b[39m\u001b[32mIn[20]\u001b[39m\u001b[32m, line 24\u001b[39m, in \u001b[36mobjective_kan\u001b[39m\u001b[34m(trial)\u001b[39m\n\u001b[32m     14\u001b[39m model = KANClassifier(\n\u001b[32m     15\u001b[39m     regularize_activation=regularize_activation,\n\u001b[32m     16\u001b[39m     regularize_entropy=regularize_entropy,\n\u001b[32m   (...)\u001b[39m\u001b[32m     20\u001b[39m     random_state=\u001b[32m50\u001b[39m\n\u001b[32m     21\u001b[39m )\n\u001b[32m     23\u001b[39m \u001b[38;5;66;03m# Avaliar o modelo usando validação cruzada com a métrica de acurácia\u001b[39;00m\n\u001b[32m---> \u001b[39m\u001b[32m24\u001b[39m score = \u001b[43mcross_val_score\u001b[49m\u001b[43m(\u001b[49m\u001b[43mmodel\u001b[49m\u001b[43m,\u001b[49m\u001b[43m \u001b[49m\u001b[43mdf_data\u001b[49m\u001b[43m,\u001b[49m\u001b[43m \u001b[49m\u001b[43mdf_target\u001b[49m\u001b[43m,\u001b[49m\u001b[43m \u001b[49m\u001b[43mcv\u001b[49m\u001b[43m=\u001b[49m\u001b[43mkf\u001b[49m\u001b[43m,\u001b[49m\u001b[43m \u001b[49m\u001b[43mscoring\u001b[49m\u001b[43m=\u001b[49m\u001b[33;43m\"\u001b[39;49m\u001b[33;43maccuracy\u001b[39;49m\u001b[33;43m\"\u001b[39;49m\u001b[43m)\u001b[49m.mean()\n\u001b[32m     25\u001b[39m \u001b[38;5;28;01mreturn\u001b[39;00m score\n",
      "\u001b[36mFile \u001b[39m\u001b[32m~/googleDrive/STUDYING/UFPE/IF702 RN/Projeto-IF702/.venv/lib/python3.12/site-packages/sklearn/utils/_param_validation.py:216\u001b[39m, in \u001b[36mvalidate_params.<locals>.decorator.<locals>.wrapper\u001b[39m\u001b[34m(*args, **kwargs)\u001b[39m\n\u001b[32m    210\u001b[39m \u001b[38;5;28;01mtry\u001b[39;00m:\n\u001b[32m    211\u001b[39m     \u001b[38;5;28;01mwith\u001b[39;00m config_context(\n\u001b[32m    212\u001b[39m         skip_parameter_validation=(\n\u001b[32m    213\u001b[39m             prefer_skip_nested_validation \u001b[38;5;129;01mor\u001b[39;00m global_skip_validation\n\u001b[32m    214\u001b[39m         )\n\u001b[32m    215\u001b[39m     ):\n\u001b[32m--> \u001b[39m\u001b[32m216\u001b[39m         \u001b[38;5;28;01mreturn\u001b[39;00m \u001b[43mfunc\u001b[49m\u001b[43m(\u001b[49m\u001b[43m*\u001b[49m\u001b[43margs\u001b[49m\u001b[43m,\u001b[49m\u001b[43m \u001b[49m\u001b[43m*\u001b[49m\u001b[43m*\u001b[49m\u001b[43mkwargs\u001b[49m\u001b[43m)\u001b[49m\n\u001b[32m    217\u001b[39m \u001b[38;5;28;01mexcept\u001b[39;00m InvalidParameterError \u001b[38;5;28;01mas\u001b[39;00m e:\n\u001b[32m    218\u001b[39m     \u001b[38;5;66;03m# When the function is just a wrapper around an estimator, we allow\u001b[39;00m\n\u001b[32m    219\u001b[39m     \u001b[38;5;66;03m# the function to delegate validation to the estimator, but we replace\u001b[39;00m\n\u001b[32m    220\u001b[39m     \u001b[38;5;66;03m# the name of the estimator by the name of the function in the error\u001b[39;00m\n\u001b[32m    221\u001b[39m     \u001b[38;5;66;03m# message to avoid confusion.\u001b[39;00m\n\u001b[32m    222\u001b[39m     msg = re.sub(\n\u001b[32m    223\u001b[39m         \u001b[33mr\u001b[39m\u001b[33m\"\u001b[39m\u001b[33mparameter of \u001b[39m\u001b[33m\\\u001b[39m\u001b[33mw+ must be\u001b[39m\u001b[33m\"\u001b[39m,\n\u001b[32m    224\u001b[39m         \u001b[33mf\u001b[39m\u001b[33m\"\u001b[39m\u001b[33mparameter of \u001b[39m\u001b[38;5;132;01m{\u001b[39;00mfunc.\u001b[34m__qualname__\u001b[39m\u001b[38;5;132;01m}\u001b[39;00m\u001b[33m must be\u001b[39m\u001b[33m\"\u001b[39m,\n\u001b[32m    225\u001b[39m         \u001b[38;5;28mstr\u001b[39m(e),\n\u001b[32m    226\u001b[39m     )\n",
      "\u001b[36mFile \u001b[39m\u001b[32m~/googleDrive/STUDYING/UFPE/IF702 RN/Projeto-IF702/.venv/lib/python3.12/site-packages/sklearn/model_selection/_validation.py:684\u001b[39m, in \u001b[36mcross_val_score\u001b[39m\u001b[34m(estimator, X, y, groups, scoring, cv, n_jobs, verbose, params, pre_dispatch, error_score)\u001b[39m\n\u001b[32m    681\u001b[39m \u001b[38;5;66;03m# To ensure multimetric format is not supported\u001b[39;00m\n\u001b[32m    682\u001b[39m scorer = check_scoring(estimator, scoring=scoring)\n\u001b[32m--> \u001b[39m\u001b[32m684\u001b[39m cv_results = \u001b[43mcross_validate\u001b[49m\u001b[43m(\u001b[49m\n\u001b[32m    685\u001b[39m \u001b[43m    \u001b[49m\u001b[43mestimator\u001b[49m\u001b[43m=\u001b[49m\u001b[43mestimator\u001b[49m\u001b[43m,\u001b[49m\n\u001b[32m    686\u001b[39m \u001b[43m    \u001b[49m\u001b[43mX\u001b[49m\u001b[43m=\u001b[49m\u001b[43mX\u001b[49m\u001b[43m,\u001b[49m\n\u001b[32m    687\u001b[39m \u001b[43m    \u001b[49m\u001b[43my\u001b[49m\u001b[43m=\u001b[49m\u001b[43my\u001b[49m\u001b[43m,\u001b[49m\n\u001b[32m    688\u001b[39m \u001b[43m    \u001b[49m\u001b[43mgroups\u001b[49m\u001b[43m=\u001b[49m\u001b[43mgroups\u001b[49m\u001b[43m,\u001b[49m\n\u001b[32m    689\u001b[39m \u001b[43m    \u001b[49m\u001b[43mscoring\u001b[49m\u001b[43m=\u001b[49m\u001b[43m{\u001b[49m\u001b[33;43m\"\u001b[39;49m\u001b[33;43mscore\u001b[39;49m\u001b[33;43m\"\u001b[39;49m\u001b[43m:\u001b[49m\u001b[43m \u001b[49m\u001b[43mscorer\u001b[49m\u001b[43m}\u001b[49m\u001b[43m,\u001b[49m\n\u001b[32m    690\u001b[39m \u001b[43m    \u001b[49m\u001b[43mcv\u001b[49m\u001b[43m=\u001b[49m\u001b[43mcv\u001b[49m\u001b[43m,\u001b[49m\n\u001b[32m    691\u001b[39m \u001b[43m    \u001b[49m\u001b[43mn_jobs\u001b[49m\u001b[43m=\u001b[49m\u001b[43mn_jobs\u001b[49m\u001b[43m,\u001b[49m\n\u001b[32m    692\u001b[39m \u001b[43m    \u001b[49m\u001b[43mverbose\u001b[49m\u001b[43m=\u001b[49m\u001b[43mverbose\u001b[49m\u001b[43m,\u001b[49m\n\u001b[32m    693\u001b[39m \u001b[43m    \u001b[49m\u001b[43mparams\u001b[49m\u001b[43m=\u001b[49m\u001b[43mparams\u001b[49m\u001b[43m,\u001b[49m\n\u001b[32m    694\u001b[39m \u001b[43m    \u001b[49m\u001b[43mpre_dispatch\u001b[49m\u001b[43m=\u001b[49m\u001b[43mpre_dispatch\u001b[49m\u001b[43m,\u001b[49m\n\u001b[32m    695\u001b[39m \u001b[43m    \u001b[49m\u001b[43merror_score\u001b[49m\u001b[43m=\u001b[49m\u001b[43merror_score\u001b[49m\u001b[43m,\u001b[49m\n\u001b[32m    696\u001b[39m \u001b[43m\u001b[49m\u001b[43m)\u001b[49m\n\u001b[32m    697\u001b[39m \u001b[38;5;28;01mreturn\u001b[39;00m cv_results[\u001b[33m\"\u001b[39m\u001b[33mtest_score\u001b[39m\u001b[33m\"\u001b[39m]\n",
      "\u001b[36mFile \u001b[39m\u001b[32m~/googleDrive/STUDYING/UFPE/IF702 RN/Projeto-IF702/.venv/lib/python3.12/site-packages/sklearn/utils/_param_validation.py:216\u001b[39m, in \u001b[36mvalidate_params.<locals>.decorator.<locals>.wrapper\u001b[39m\u001b[34m(*args, **kwargs)\u001b[39m\n\u001b[32m    210\u001b[39m \u001b[38;5;28;01mtry\u001b[39;00m:\n\u001b[32m    211\u001b[39m     \u001b[38;5;28;01mwith\u001b[39;00m config_context(\n\u001b[32m    212\u001b[39m         skip_parameter_validation=(\n\u001b[32m    213\u001b[39m             prefer_skip_nested_validation \u001b[38;5;129;01mor\u001b[39;00m global_skip_validation\n\u001b[32m    214\u001b[39m         )\n\u001b[32m    215\u001b[39m     ):\n\u001b[32m--> \u001b[39m\u001b[32m216\u001b[39m         \u001b[38;5;28;01mreturn\u001b[39;00m \u001b[43mfunc\u001b[49m\u001b[43m(\u001b[49m\u001b[43m*\u001b[49m\u001b[43margs\u001b[49m\u001b[43m,\u001b[49m\u001b[43m \u001b[49m\u001b[43m*\u001b[49m\u001b[43m*\u001b[49m\u001b[43mkwargs\u001b[49m\u001b[43m)\u001b[49m\n\u001b[32m    217\u001b[39m \u001b[38;5;28;01mexcept\u001b[39;00m InvalidParameterError \u001b[38;5;28;01mas\u001b[39;00m e:\n\u001b[32m    218\u001b[39m     \u001b[38;5;66;03m# When the function is just a wrapper around an estimator, we allow\u001b[39;00m\n\u001b[32m    219\u001b[39m     \u001b[38;5;66;03m# the function to delegate validation to the estimator, but we replace\u001b[39;00m\n\u001b[32m    220\u001b[39m     \u001b[38;5;66;03m# the name of the estimator by the name of the function in the error\u001b[39;00m\n\u001b[32m    221\u001b[39m     \u001b[38;5;66;03m# message to avoid confusion.\u001b[39;00m\n\u001b[32m    222\u001b[39m     msg = re.sub(\n\u001b[32m    223\u001b[39m         \u001b[33mr\u001b[39m\u001b[33m\"\u001b[39m\u001b[33mparameter of \u001b[39m\u001b[33m\\\u001b[39m\u001b[33mw+ must be\u001b[39m\u001b[33m\"\u001b[39m,\n\u001b[32m    224\u001b[39m         \u001b[33mf\u001b[39m\u001b[33m\"\u001b[39m\u001b[33mparameter of \u001b[39m\u001b[38;5;132;01m{\u001b[39;00mfunc.\u001b[34m__qualname__\u001b[39m\u001b[38;5;132;01m}\u001b[39;00m\u001b[33m must be\u001b[39m\u001b[33m\"\u001b[39m,\n\u001b[32m    225\u001b[39m         \u001b[38;5;28mstr\u001b[39m(e),\n\u001b[32m    226\u001b[39m     )\n",
      "\u001b[36mFile \u001b[39m\u001b[32m~/googleDrive/STUDYING/UFPE/IF702 RN/Projeto-IF702/.venv/lib/python3.12/site-packages/sklearn/model_selection/_validation.py:411\u001b[39m, in \u001b[36mcross_validate\u001b[39m\u001b[34m(estimator, X, y, groups, scoring, cv, n_jobs, verbose, params, pre_dispatch, return_train_score, return_estimator, return_indices, error_score)\u001b[39m\n\u001b[32m    408\u001b[39m \u001b[38;5;66;03m# We clone the estimator to make sure that all the folds are\u001b[39;00m\n\u001b[32m    409\u001b[39m \u001b[38;5;66;03m# independent, and that it is pickle-able.\u001b[39;00m\n\u001b[32m    410\u001b[39m parallel = Parallel(n_jobs=n_jobs, verbose=verbose, pre_dispatch=pre_dispatch)\n\u001b[32m--> \u001b[39m\u001b[32m411\u001b[39m results = \u001b[43mparallel\u001b[49m\u001b[43m(\u001b[49m\n\u001b[32m    412\u001b[39m \u001b[43m    \u001b[49m\u001b[43mdelayed\u001b[49m\u001b[43m(\u001b[49m\u001b[43m_fit_and_score\u001b[49m\u001b[43m)\u001b[49m\u001b[43m(\u001b[49m\n\u001b[32m    413\u001b[39m \u001b[43m        \u001b[49m\u001b[43mclone\u001b[49m\u001b[43m(\u001b[49m\u001b[43mestimator\u001b[49m\u001b[43m)\u001b[49m\u001b[43m,\u001b[49m\n\u001b[32m    414\u001b[39m \u001b[43m        \u001b[49m\u001b[43mX\u001b[49m\u001b[43m,\u001b[49m\n\u001b[32m    415\u001b[39m \u001b[43m        \u001b[49m\u001b[43my\u001b[49m\u001b[43m,\u001b[49m\n\u001b[32m    416\u001b[39m \u001b[43m        \u001b[49m\u001b[43mscorer\u001b[49m\u001b[43m=\u001b[49m\u001b[43mscorers\u001b[49m\u001b[43m,\u001b[49m\n\u001b[32m    417\u001b[39m \u001b[43m        \u001b[49m\u001b[43mtrain\u001b[49m\u001b[43m=\u001b[49m\u001b[43mtrain\u001b[49m\u001b[43m,\u001b[49m\n\u001b[32m    418\u001b[39m \u001b[43m        \u001b[49m\u001b[43mtest\u001b[49m\u001b[43m=\u001b[49m\u001b[43mtest\u001b[49m\u001b[43m,\u001b[49m\n\u001b[32m    419\u001b[39m \u001b[43m        \u001b[49m\u001b[43mverbose\u001b[49m\u001b[43m=\u001b[49m\u001b[43mverbose\u001b[49m\u001b[43m,\u001b[49m\n\u001b[32m    420\u001b[39m \u001b[43m        \u001b[49m\u001b[43mparameters\u001b[49m\u001b[43m=\u001b[49m\u001b[38;5;28;43;01mNone\u001b[39;49;00m\u001b[43m,\u001b[49m\n\u001b[32m    421\u001b[39m \u001b[43m        \u001b[49m\u001b[43mfit_params\u001b[49m\u001b[43m=\u001b[49m\u001b[43mrouted_params\u001b[49m\u001b[43m.\u001b[49m\u001b[43mestimator\u001b[49m\u001b[43m.\u001b[49m\u001b[43mfit\u001b[49m\u001b[43m,\u001b[49m\n\u001b[32m    422\u001b[39m \u001b[43m        \u001b[49m\u001b[43mscore_params\u001b[49m\u001b[43m=\u001b[49m\u001b[43mrouted_params\u001b[49m\u001b[43m.\u001b[49m\u001b[43mscorer\u001b[49m\u001b[43m.\u001b[49m\u001b[43mscore\u001b[49m\u001b[43m,\u001b[49m\n\u001b[32m    423\u001b[39m \u001b[43m        \u001b[49m\u001b[43mreturn_train_score\u001b[49m\u001b[43m=\u001b[49m\u001b[43mreturn_train_score\u001b[49m\u001b[43m,\u001b[49m\n\u001b[32m    424\u001b[39m \u001b[43m        \u001b[49m\u001b[43mreturn_times\u001b[49m\u001b[43m=\u001b[49m\u001b[38;5;28;43;01mTrue\u001b[39;49;00m\u001b[43m,\u001b[49m\n\u001b[32m    425\u001b[39m \u001b[43m        \u001b[49m\u001b[43mreturn_estimator\u001b[49m\u001b[43m=\u001b[49m\u001b[43mreturn_estimator\u001b[49m\u001b[43m,\u001b[49m\n\u001b[32m    426\u001b[39m \u001b[43m        \u001b[49m\u001b[43merror_score\u001b[49m\u001b[43m=\u001b[49m\u001b[43merror_score\u001b[49m\u001b[43m,\u001b[49m\n\u001b[32m    427\u001b[39m \u001b[43m    \u001b[49m\u001b[43m)\u001b[49m\n\u001b[32m    428\u001b[39m \u001b[43m    \u001b[49m\u001b[38;5;28;43;01mfor\u001b[39;49;00m\u001b[43m \u001b[49m\u001b[43mtrain\u001b[49m\u001b[43m,\u001b[49m\u001b[43m \u001b[49m\u001b[43mtest\u001b[49m\u001b[43m \u001b[49m\u001b[38;5;129;43;01min\u001b[39;49;00m\u001b[43m \u001b[49m\u001b[43mindices\u001b[49m\n\u001b[32m    429\u001b[39m \u001b[43m\u001b[49m\u001b[43m)\u001b[49m\n\u001b[32m    431\u001b[39m _warn_or_raise_about_fit_failures(results, error_score)\n\u001b[32m    433\u001b[39m \u001b[38;5;66;03m# For callable scoring, the return type is only know after calling. If the\u001b[39;00m\n\u001b[32m    434\u001b[39m \u001b[38;5;66;03m# return type is a dictionary, the error scores can now be inserted with\u001b[39;00m\n\u001b[32m    435\u001b[39m \u001b[38;5;66;03m# the correct key.\u001b[39;00m\n",
      "\u001b[36mFile \u001b[39m\u001b[32m~/googleDrive/STUDYING/UFPE/IF702 RN/Projeto-IF702/.venv/lib/python3.12/site-packages/sklearn/utils/parallel.py:77\u001b[39m, in \u001b[36mParallel.__call__\u001b[39m\u001b[34m(self, iterable)\u001b[39m\n\u001b[32m     72\u001b[39m config = get_config()\n\u001b[32m     73\u001b[39m iterable_with_config = (\n\u001b[32m     74\u001b[39m     (_with_config(delayed_func, config), args, kwargs)\n\u001b[32m     75\u001b[39m     \u001b[38;5;28;01mfor\u001b[39;00m delayed_func, args, kwargs \u001b[38;5;129;01min\u001b[39;00m iterable\n\u001b[32m     76\u001b[39m )\n\u001b[32m---> \u001b[39m\u001b[32m77\u001b[39m \u001b[38;5;28;01mreturn\u001b[39;00m \u001b[38;5;28;43msuper\u001b[39;49m\u001b[43m(\u001b[49m\u001b[43m)\u001b[49m\u001b[43m.\u001b[49m\u001b[34;43m__call__\u001b[39;49m\u001b[43m(\u001b[49m\u001b[43miterable_with_config\u001b[49m\u001b[43m)\u001b[49m\n",
      "\u001b[36mFile \u001b[39m\u001b[32m~/googleDrive/STUDYING/UFPE/IF702 RN/Projeto-IF702/.venv/lib/python3.12/site-packages/joblib/parallel.py:1918\u001b[39m, in \u001b[36mParallel.__call__\u001b[39m\u001b[34m(self, iterable)\u001b[39m\n\u001b[32m   1916\u001b[39m     output = \u001b[38;5;28mself\u001b[39m._get_sequential_output(iterable)\n\u001b[32m   1917\u001b[39m     \u001b[38;5;28mnext\u001b[39m(output)\n\u001b[32m-> \u001b[39m\u001b[32m1918\u001b[39m     \u001b[38;5;28;01mreturn\u001b[39;00m output \u001b[38;5;28;01mif\u001b[39;00m \u001b[38;5;28mself\u001b[39m.return_generator \u001b[38;5;28;01melse\u001b[39;00m \u001b[38;5;28;43mlist\u001b[39;49m\u001b[43m(\u001b[49m\u001b[43moutput\u001b[49m\u001b[43m)\u001b[49m\n\u001b[32m   1920\u001b[39m \u001b[38;5;66;03m# Let's create an ID that uniquely identifies the current call. If the\u001b[39;00m\n\u001b[32m   1921\u001b[39m \u001b[38;5;66;03m# call is interrupted early and that the same instance is immediately\u001b[39;00m\n\u001b[32m   1922\u001b[39m \u001b[38;5;66;03m# re-used, this id will be used to prevent workers that were\u001b[39;00m\n\u001b[32m   1923\u001b[39m \u001b[38;5;66;03m# concurrently finalizing a task from the previous call to run the\u001b[39;00m\n\u001b[32m   1924\u001b[39m \u001b[38;5;66;03m# callback.\u001b[39;00m\n\u001b[32m   1925\u001b[39m \u001b[38;5;28;01mwith\u001b[39;00m \u001b[38;5;28mself\u001b[39m._lock:\n",
      "\u001b[36mFile \u001b[39m\u001b[32m~/googleDrive/STUDYING/UFPE/IF702 RN/Projeto-IF702/.venv/lib/python3.12/site-packages/joblib/parallel.py:1844\u001b[39m, in \u001b[36mParallel._get_sequential_output\u001b[39m\u001b[34m(self, iterable)\u001b[39m\n\u001b[32m   1841\u001b[39m \u001b[38;5;28;01myield\u001b[39;00m \u001b[38;5;28;01mNone\u001b[39;00m\n\u001b[32m   1843\u001b[39m \u001b[38;5;66;03m# Sequentially call the tasks and yield the results.\u001b[39;00m\n\u001b[32m-> \u001b[39m\u001b[32m1844\u001b[39m \u001b[43m\u001b[49m\u001b[38;5;28;43;01mfor\u001b[39;49;00m\u001b[43m \u001b[49m\u001b[43mfunc\u001b[49m\u001b[43m,\u001b[49m\u001b[43m \u001b[49m\u001b[43margs\u001b[49m\u001b[43m,\u001b[49m\u001b[43m \u001b[49m\u001b[43mkwargs\u001b[49m\u001b[43m \u001b[49m\u001b[38;5;129;43;01min\u001b[39;49;00m\u001b[43m \u001b[49m\u001b[43miterable\u001b[49m\u001b[43m:\u001b[49m\n\u001b[32m   1845\u001b[39m \u001b[43m    \u001b[49m\u001b[38;5;28;43mself\u001b[39;49m\u001b[43m.\u001b[49m\u001b[43mn_dispatched_batches\u001b[49m\u001b[43m \u001b[49m\u001b[43m+\u001b[49m\u001b[43m=\u001b[49m\u001b[43m \u001b[49m\u001b[32;43m1\u001b[39;49m\n\u001b[32m   1846\u001b[39m \u001b[43m    \u001b[49m\u001b[38;5;28;43mself\u001b[39;49m\u001b[43m.\u001b[49m\u001b[43mn_dispatched_tasks\u001b[49m\u001b[43m \u001b[49m\u001b[43m+\u001b[49m\u001b[43m=\u001b[49m\u001b[43m \u001b[49m\u001b[32;43m1\u001b[39;49m\n",
      "\u001b[36mFile \u001b[39m\u001b[32m~/googleDrive/STUDYING/UFPE/IF702 RN/Projeto-IF702/.venv/lib/python3.12/site-packages/sklearn/utils/parallel.py:73\u001b[39m, in \u001b[36m<genexpr>\u001b[39m\u001b[34m(.0)\u001b[39m\n\u001b[32m     68\u001b[39m \u001b[38;5;66;03m# Capture the thread-local scikit-learn configuration at the time\u001b[39;00m\n\u001b[32m     69\u001b[39m \u001b[38;5;66;03m# Parallel.__call__ is issued since the tasks can be dispatched\u001b[39;00m\n\u001b[32m     70\u001b[39m \u001b[38;5;66;03m# in a different thread depending on the backend and on the value of\u001b[39;00m\n\u001b[32m     71\u001b[39m \u001b[38;5;66;03m# pre_dispatch and n_jobs.\u001b[39;00m\n\u001b[32m     72\u001b[39m config = get_config()\n\u001b[32m---> \u001b[39m\u001b[32m73\u001b[39m iterable_with_config = \u001b[43m(\u001b[49m\n\u001b[32m     74\u001b[39m \u001b[43m    \u001b[49m\u001b[43m(\u001b[49m\u001b[43m_with_config\u001b[49m\u001b[43m(\u001b[49m\u001b[43mdelayed_func\u001b[49m\u001b[43m,\u001b[49m\u001b[43m \u001b[49m\u001b[43mconfig\u001b[49m\u001b[43m)\u001b[49m\u001b[43m,\u001b[49m\u001b[43m \u001b[49m\u001b[43margs\u001b[49m\u001b[43m,\u001b[49m\u001b[43m \u001b[49m\u001b[43mkwargs\u001b[49m\u001b[43m)\u001b[49m\n\u001b[32m     75\u001b[39m \u001b[43m    \u001b[49m\u001b[38;5;28;43;01mfor\u001b[39;49;00m\u001b[43m \u001b[49m\u001b[43mdelayed_func\u001b[49m\u001b[43m,\u001b[49m\u001b[43m \u001b[49m\u001b[43margs\u001b[49m\u001b[43m,\u001b[49m\u001b[43m \u001b[49m\u001b[43mkwargs\u001b[49m\u001b[43m \u001b[49m\u001b[38;5;129;43;01min\u001b[39;49;00m\u001b[43m \u001b[49m\u001b[43miterable\u001b[49m\n\u001b[32m     76\u001b[39m \u001b[43m\u001b[49m\u001b[43m)\u001b[49m\n\u001b[32m     77\u001b[39m \u001b[38;5;28;01mreturn\u001b[39;00m \u001b[38;5;28msuper\u001b[39m().\u001b[34m__call__\u001b[39m(iterable_with_config)\n",
      "\u001b[36mFile \u001b[39m\u001b[32m~/googleDrive/STUDYING/UFPE/IF702 RN/Projeto-IF702/.venv/lib/python3.12/site-packages/sklearn/model_selection/_validation.py:413\u001b[39m, in \u001b[36m<genexpr>\u001b[39m\u001b[34m(.0)\u001b[39m\n\u001b[32m    408\u001b[39m \u001b[38;5;66;03m# We clone the estimator to make sure that all the folds are\u001b[39;00m\n\u001b[32m    409\u001b[39m \u001b[38;5;66;03m# independent, and that it is pickle-able.\u001b[39;00m\n\u001b[32m    410\u001b[39m parallel = Parallel(n_jobs=n_jobs, verbose=verbose, pre_dispatch=pre_dispatch)\n\u001b[32m    411\u001b[39m results = parallel(\n\u001b[32m    412\u001b[39m     delayed(_fit_and_score)(\n\u001b[32m--> \u001b[39m\u001b[32m413\u001b[39m         \u001b[43mclone\u001b[49m\u001b[43m(\u001b[49m\u001b[43mestimator\u001b[49m\u001b[43m)\u001b[49m,\n\u001b[32m    414\u001b[39m         X,\n\u001b[32m    415\u001b[39m         y,\n\u001b[32m    416\u001b[39m         scorer=scorers,\n\u001b[32m    417\u001b[39m         train=train,\n\u001b[32m    418\u001b[39m         test=test,\n\u001b[32m    419\u001b[39m         verbose=verbose,\n\u001b[32m    420\u001b[39m         parameters=\u001b[38;5;28;01mNone\u001b[39;00m,\n\u001b[32m    421\u001b[39m         fit_params=routed_params.estimator.fit,\n\u001b[32m    422\u001b[39m         score_params=routed_params.scorer.score,\n\u001b[32m    423\u001b[39m         return_train_score=return_train_score,\n\u001b[32m    424\u001b[39m         return_times=\u001b[38;5;28;01mTrue\u001b[39;00m,\n\u001b[32m    425\u001b[39m         return_estimator=return_estimator,\n\u001b[32m    426\u001b[39m         error_score=error_score,\n\u001b[32m    427\u001b[39m     )\n\u001b[32m    428\u001b[39m     \u001b[38;5;28;01mfor\u001b[39;00m train, test \u001b[38;5;129;01min\u001b[39;00m indices\n\u001b[32m    429\u001b[39m )\n\u001b[32m    431\u001b[39m _warn_or_raise_about_fit_failures(results, error_score)\n\u001b[32m    433\u001b[39m \u001b[38;5;66;03m# For callable scoring, the return type is only know after calling. If the\u001b[39;00m\n\u001b[32m    434\u001b[39m \u001b[38;5;66;03m# return type is a dictionary, the error scores can now be inserted with\u001b[39;00m\n\u001b[32m    435\u001b[39m \u001b[38;5;66;03m# the correct key.\u001b[39;00m\n",
      "\u001b[36mFile \u001b[39m\u001b[32m~/googleDrive/STUDYING/UFPE/IF702 RN/Projeto-IF702/.venv/lib/python3.12/site-packages/sklearn/base.py:94\u001b[39m, in \u001b[36mclone\u001b[39m\u001b[34m(estimator, safe)\u001b[39m\n\u001b[32m     45\u001b[39m \u001b[38;5;250m\u001b[39m\u001b[33;03m\"\"\"Construct a new unfitted estimator with the same parameters.\u001b[39;00m\n\u001b[32m     46\u001b[39m \n\u001b[32m     47\u001b[39m \u001b[33;03mClone does a deep copy of the model in an estimator\u001b[39;00m\n\u001b[32m   (...)\u001b[39m\u001b[32m     91\u001b[39m \u001b[33;03mFalse\u001b[39;00m\n\u001b[32m     92\u001b[39m \u001b[33;03m\"\"\"\u001b[39;00m\n\u001b[32m     93\u001b[39m \u001b[38;5;28;01mif\u001b[39;00m \u001b[38;5;28mhasattr\u001b[39m(estimator, \u001b[33m\"\u001b[39m\u001b[33m__sklearn_clone__\u001b[39m\u001b[33m\"\u001b[39m) \u001b[38;5;129;01mand\u001b[39;00m \u001b[38;5;129;01mnot\u001b[39;00m inspect.isclass(estimator):\n\u001b[32m---> \u001b[39m\u001b[32m94\u001b[39m     \u001b[38;5;28;01mreturn\u001b[39;00m \u001b[43mestimator\u001b[49m\u001b[43m.\u001b[49m\u001b[43m__sklearn_clone__\u001b[49m\u001b[43m(\u001b[49m\u001b[43m)\u001b[49m\n\u001b[32m     95\u001b[39m \u001b[38;5;28;01mreturn\u001b[39;00m _clone_parametrized(estimator, safe=safe)\n",
      "\u001b[36mFile \u001b[39m\u001b[32m~/googleDrive/STUDYING/UFPE/IF702 RN/Projeto-IF702/.venv/lib/python3.12/site-packages/sklearn/base.py:300\u001b[39m, in \u001b[36mBaseEstimator.__sklearn_clone__\u001b[39m\u001b[34m(self)\u001b[39m\n\u001b[32m    299\u001b[39m \u001b[38;5;28;01mdef\u001b[39;00m\u001b[38;5;250m \u001b[39m\u001b[34m__sklearn_clone__\u001b[39m(\u001b[38;5;28mself\u001b[39m):\n\u001b[32m--> \u001b[39m\u001b[32m300\u001b[39m     \u001b[38;5;28;01mreturn\u001b[39;00m \u001b[43m_clone_parametrized\u001b[49m\u001b[43m(\u001b[49m\u001b[38;5;28;43mself\u001b[39;49m\u001b[43m)\u001b[49m\n",
      "\u001b[36mFile \u001b[39m\u001b[32m~/googleDrive/STUDYING/UFPE/IF702 RN/Projeto-IF702/.venv/lib/python3.12/site-packages/sklearn/base.py:125\u001b[39m, in \u001b[36m_clone_parametrized\u001b[39m\u001b[34m(estimator, safe)\u001b[39m\n\u001b[32m    117\u001b[39m             \u001b[38;5;28;01mraise\u001b[39;00m \u001b[38;5;167;01mTypeError\u001b[39;00m(\n\u001b[32m    118\u001b[39m                 \u001b[33m\"\u001b[39m\u001b[33mCannot clone object \u001b[39m\u001b[33m'\u001b[39m\u001b[38;5;132;01m%s\u001b[39;00m\u001b[33m'\u001b[39m\u001b[33m (type \u001b[39m\u001b[38;5;132;01m%s\u001b[39;00m\u001b[33m): \u001b[39m\u001b[33m\"\u001b[39m\n\u001b[32m    119\u001b[39m                 \u001b[33m\"\u001b[39m\u001b[33mit does not seem to be a scikit-learn \u001b[39m\u001b[33m\"\u001b[39m\n\u001b[32m    120\u001b[39m                 \u001b[33m\"\u001b[39m\u001b[33mestimator as it does not implement a \u001b[39m\u001b[33m\"\u001b[39m\n\u001b[32m    121\u001b[39m                 \u001b[33m\"\u001b[39m\u001b[33m'\u001b[39m\u001b[33mget_params\u001b[39m\u001b[33m'\u001b[39m\u001b[33m method.\u001b[39m\u001b[33m\"\u001b[39m % (\u001b[38;5;28mrepr\u001b[39m(estimator), \u001b[38;5;28mtype\u001b[39m(estimator))\n\u001b[32m    122\u001b[39m             )\n\u001b[32m    124\u001b[39m klass = estimator.\u001b[34m__class__\u001b[39m\n\u001b[32m--> \u001b[39m\u001b[32m125\u001b[39m new_object_params = \u001b[43mestimator\u001b[49m\u001b[43m.\u001b[49m\u001b[43mget_params\u001b[49m\u001b[43m(\u001b[49m\u001b[43mdeep\u001b[49m\u001b[43m=\u001b[49m\u001b[38;5;28;43;01mFalse\u001b[39;49;00m\u001b[43m)\u001b[49m\n\u001b[32m    126\u001b[39m \u001b[38;5;28;01mfor\u001b[39;00m name, param \u001b[38;5;129;01min\u001b[39;00m new_object_params.items():\n\u001b[32m    127\u001b[39m     new_object_params[name] = clone(param, safe=\u001b[38;5;28;01mFalse\u001b[39;00m)\n",
      "\u001b[36mFile \u001b[39m\u001b[32m~/googleDrive/STUDYING/UFPE/IF702 RN/Projeto-IF702/.venv/lib/python3.12/site-packages/sklearn/base.py:248\u001b[39m, in \u001b[36mBaseEstimator.get_params\u001b[39m\u001b[34m(self, deep)\u001b[39m\n\u001b[32m    246\u001b[39m out = \u001b[38;5;28mdict\u001b[39m()\n\u001b[32m    247\u001b[39m \u001b[38;5;28;01mfor\u001b[39;00m key \u001b[38;5;129;01min\u001b[39;00m \u001b[38;5;28mself\u001b[39m._get_param_names():\n\u001b[32m--> \u001b[39m\u001b[32m248\u001b[39m     value = \u001b[38;5;28;43mgetattr\u001b[39;49m\u001b[43m(\u001b[49m\u001b[38;5;28;43mself\u001b[39;49m\u001b[43m,\u001b[49m\u001b[43m \u001b[49m\u001b[43mkey\u001b[49m\u001b[43m)\u001b[49m\n\u001b[32m    249\u001b[39m     \u001b[38;5;28;01mif\u001b[39;00m deep \u001b[38;5;129;01mand\u001b[39;00m \u001b[38;5;28mhasattr\u001b[39m(value, \u001b[33m\"\u001b[39m\u001b[33mget_params\u001b[39m\u001b[33m\"\u001b[39m) \u001b[38;5;129;01mand\u001b[39;00m \u001b[38;5;129;01mnot\u001b[39;00m \u001b[38;5;28misinstance\u001b[39m(value, \u001b[38;5;28mtype\u001b[39m):\n\u001b[32m    250\u001b[39m         deep_items = value.get_params().items()\n",
      "\u001b[31mAttributeError\u001b[39m: 'KANClassifier' object has no attribute 'hidden_layer_size'"
     ]
    }
   ],
   "source": [
    "def objective_kan(trial):\n",
    "    # Hiperparâmetros a serem otimizados para o KAN\n",
    "    num_layers = trial.suggest_int(\"num_layers\", 1, 10)\n",
    "    hidden_layers = []\n",
    "    for i in range(num_layers):\n",
    "        hidden_layers.append(trial.suggest_int(f\"hidden_layer_{i+1}\", 1, 300))\n",
    "        \n",
    "    regularize_activation = trial.suggest_float(\"regularize_activation\", 0.1, 1.0)\n",
    "    regularize_entropy = trial.suggest_float(\"regularize_entropy\", 0.1, 1.0)\n",
    "    regularize_ridge = trial.suggest_float(\"regularize_ridge\", 0.1, 1.0)\n",
    "    learning_rate = trial.suggest_float(\"learning_rate\", 1e-3, 0.3, log=True)\n",
    "    \n",
    "    # Criar o modelo com os hiperparâmetros sugeridos\n",
    "    model = KANClassifier(\n",
    "        regularize_activation=regularize_activation,\n",
    "        regularize_entropy=regularize_entropy,\n",
    "        regularize_ridge=regularize_ridge,\n",
    "        device='cuda',\n",
    "        learning_rate=learning_rate,\n",
    "        random_state=50\n",
    "    )\n",
    "    \n",
    "    # Avaliar o modelo usando validação cruzada com a métrica de acurácia\n",
    "    score = cross_val_score(model, df_data, df_target, cv=kf, scoring=\"accuracy\").mean()\n",
    "    return score  # Queremos maximizar a acurácia\n",
    "\n",
    "# Criar o estudo do Optuna e otimizar\n",
    "study_kan = optuna.create_study(direction=\"maximize\")\n",
    "study_kan.optimize(objective_kan, n_trials=50, show_progress_bar=True)\n",
    "\n",
    "# Exibir os melhores hiperparâmetros encontrados\n",
    "print(\"Melhores hiperparâmetros:\", study_kan.best_params)"
   ]
  },
  {
   "cell_type": "code",
   "execution_count": null,
   "metadata": {},
   "outputs": [
    {
     "name": "stdout",
     "output_type": "stream",
     "text": [
      "Modelo final treinado e salvo!\n"
     ]
    }
   ],
   "source": [
    "# Treinar o modelo final usando todos os dados com os melhores hiperparâmetros\n",
    "best_params_gb = study_gb.best_params\n",
    "modelo_final_gb = GradientBoostingClassifier(\n",
    "    n_estimators=best_params_gb[\"n_estimators\"],\n",
    "    learning_rate=best_params_gb[\"learning_rate\"],\n",
    "    max_depth=best_params_gb[\"max_depth\"],\n",
    "    min_samples_split=best_params_gb[\"min_samples_split\"],\n",
    "    min_samples_leaf=best_params_gb[\"min_samples_leaf\"],\n",
    "    subsample=best_params_gb[\"subsample\"],\n",
    "    max_features=best_params_gb[\"max_features\"],\n",
    "    random_state=50\n",
    ")\n",
    "\n",
    "modelo_final_gb.fit(df_data, df_target)\n",
    "\n",
    "# Salvar o modelo treinado\n",
    "joblib.dump(modelo_final_gb, \"modelo_final_gb.pkl\")\n",
    "print(\"Modelo final treinado e salvo!\")"
   ]
  },
  {
   "cell_type": "markdown",
   "metadata": {},
   "source": [
    "# 5. Previsões"
   ]
  },
  {
   "cell_type": "code",
   "execution_count": null,
   "metadata": {},
   "outputs": [],
   "source": [
    "# TODO: O QUE É ISSO ?\n"
   ]
  },
  {
   "cell_type": "code",
   "execution_count": null,
   "metadata": {},
   "outputs": [],
   "source": [
    "def get_score(model, X_train, X_test, y_train, y_test):\n",
    "    model.fit(X_train, y_train)\n",
    "    return model.score(X_test, y_test)"
   ]
  },
  {
   "cell_type": "code",
   "execution_count": null,
   "metadata": {},
   "outputs": [],
   "source": []
  },
  {
   "cell_type": "code",
   "execution_count": null,
   "metadata": {},
   "outputs": [],
   "source": []
  },
  {
   "cell_type": "code",
   "execution_count": null,
   "metadata": {},
   "outputs": [],
   "source": []
  },
  {
   "cell_type": "code",
   "execution_count": 33,
   "metadata": {},
   "outputs": [
    {
     "name": "stderr",
     "output_type": "stream",
     "text": [
      "/tmp/ipykernel_4417/1775762302.py:1: FutureWarning: Downcasting behavior in `replace` is deprecated and will be removed in a future version. To retain the old behavior, explicitly call `result.infer_objects(copy=False)`. To opt-in to the future behavior, set `pd.set_option('future.no_silent_downcasting', True)`\n",
      "  df[['Partner', 'Dependents', 'PhoneService', 'PaperlessBilling', 'Churn']] = df[['Partner', 'Dependents', 'PhoneService', 'PaperlessBilling', 'Churn']].replace({'Yes': 1, 'No': 0})\n",
      "/tmp/ipykernel_4417/1775762302.py:2: FutureWarning: Downcasting behavior in `replace` is deprecated and will be removed in a future version. To retain the old behavior, explicitly call `result.infer_objects(copy=False)`. To opt-in to the future behavior, set `pd.set_option('future.no_silent_downcasting', True)`\n",
      "  df[['MultipleLines', 'OnlineSecurity', 'OnlineBackup', 'DeviceProtection', 'TechSupport', 'StreamingTV', 'StreamingMovies']] = df[['MultipleLines', 'OnlineSecurity', 'OnlineBackup', 'DeviceProtection', 'TechSupport', 'StreamingTV', 'StreamingMovies']].replace({'Yes': 1, 'No': 0, 'No internet service': 0})\n",
      "/tmp/ipykernel_4417/1775762302.py:3: FutureWarning: Downcasting behavior in `replace` is deprecated and will be removed in a future version. To retain the old behavior, explicitly call `result.infer_objects(copy=False)`. To opt-in to the future behavior, set `pd.set_option('future.no_silent_downcasting', True)`\n",
      "  df['gender'] = df['gender'].replace({'Female':1, 'Male':0})\n",
      "/tmp/ipykernel_4417/1775762302.py:5: FutureWarning: Downcasting behavior in `replace` is deprecated and will be removed in a future version. To retain the old behavior, explicitly call `result.infer_objects(copy=False)`. To opt-in to the future behavior, set `pd.set_option('future.no_silent_downcasting', True)`\n",
      "  df['MultipleLines'] =  df['MultipleLines'].replace({'No phone service': -1})\n"
     ]
    },
    {
     "data": {
      "text/html": [
       "<div>\n",
       "<style scoped>\n",
       "    .dataframe tbody tr th:only-of-type {\n",
       "        vertical-align: middle;\n",
       "    }\n",
       "\n",
       "    .dataframe tbody tr th {\n",
       "        vertical-align: top;\n",
       "    }\n",
       "\n",
       "    .dataframe thead th {\n",
       "        text-align: right;\n",
       "    }\n",
       "</style>\n",
       "<table border=\"1\" class=\"dataframe\">\n",
       "  <thead>\n",
       "    <tr style=\"text-align: right;\">\n",
       "      <th></th>\n",
       "      <th>gender</th>\n",
       "      <th>SeniorCitizen</th>\n",
       "      <th>Partner</th>\n",
       "      <th>Dependents</th>\n",
       "      <th>tenure</th>\n",
       "      <th>PhoneService</th>\n",
       "      <th>MultipleLines</th>\n",
       "      <th>InternetService</th>\n",
       "      <th>OnlineSecurity</th>\n",
       "      <th>OnlineBackup</th>\n",
       "      <th>DeviceProtection</th>\n",
       "      <th>TechSupport</th>\n",
       "      <th>StreamingTV</th>\n",
       "      <th>StreamingMovies</th>\n",
       "      <th>Contract</th>\n",
       "      <th>PaperlessBilling</th>\n",
       "      <th>PaymentMethod</th>\n",
       "      <th>MonthlyCharges</th>\n",
       "      <th>TotalCharges</th>\n",
       "      <th>Churn</th>\n",
       "    </tr>\n",
       "  </thead>\n",
       "  <tbody>\n",
       "    <tr>\n",
       "      <th>0</th>\n",
       "      <td>1</td>\n",
       "      <td>0</td>\n",
       "      <td>1</td>\n",
       "      <td>0</td>\n",
       "      <td>1</td>\n",
       "      <td>0</td>\n",
       "      <td>-1</td>\n",
       "      <td>DSL</td>\n",
       "      <td>0</td>\n",
       "      <td>1</td>\n",
       "      <td>0</td>\n",
       "      <td>0</td>\n",
       "      <td>0</td>\n",
       "      <td>0</td>\n",
       "      <td>Month-to-month</td>\n",
       "      <td>1</td>\n",
       "      <td>Electronic check</td>\n",
       "      <td>29.85</td>\n",
       "      <td>29.85</td>\n",
       "      <td>0</td>\n",
       "    </tr>\n",
       "    <tr>\n",
       "      <th>1</th>\n",
       "      <td>0</td>\n",
       "      <td>0</td>\n",
       "      <td>0</td>\n",
       "      <td>0</td>\n",
       "      <td>34</td>\n",
       "      <td>1</td>\n",
       "      <td>0</td>\n",
       "      <td>DSL</td>\n",
       "      <td>1</td>\n",
       "      <td>0</td>\n",
       "      <td>1</td>\n",
       "      <td>0</td>\n",
       "      <td>0</td>\n",
       "      <td>0</td>\n",
       "      <td>One year</td>\n",
       "      <td>0</td>\n",
       "      <td>Mailed check</td>\n",
       "      <td>56.95</td>\n",
       "      <td>1889.50</td>\n",
       "      <td>0</td>\n",
       "    </tr>\n",
       "    <tr>\n",
       "      <th>2</th>\n",
       "      <td>0</td>\n",
       "      <td>0</td>\n",
       "      <td>0</td>\n",
       "      <td>0</td>\n",
       "      <td>2</td>\n",
       "      <td>1</td>\n",
       "      <td>0</td>\n",
       "      <td>DSL</td>\n",
       "      <td>1</td>\n",
       "      <td>1</td>\n",
       "      <td>0</td>\n",
       "      <td>0</td>\n",
       "      <td>0</td>\n",
       "      <td>0</td>\n",
       "      <td>Month-to-month</td>\n",
       "      <td>1</td>\n",
       "      <td>Mailed check</td>\n",
       "      <td>53.85</td>\n",
       "      <td>108.15</td>\n",
       "      <td>1</td>\n",
       "    </tr>\n",
       "    <tr>\n",
       "      <th>3</th>\n",
       "      <td>0</td>\n",
       "      <td>0</td>\n",
       "      <td>0</td>\n",
       "      <td>0</td>\n",
       "      <td>45</td>\n",
       "      <td>0</td>\n",
       "      <td>-1</td>\n",
       "      <td>DSL</td>\n",
       "      <td>1</td>\n",
       "      <td>0</td>\n",
       "      <td>1</td>\n",
       "      <td>1</td>\n",
       "      <td>0</td>\n",
       "      <td>0</td>\n",
       "      <td>One year</td>\n",
       "      <td>0</td>\n",
       "      <td>Bank transfer (automatic)</td>\n",
       "      <td>42.30</td>\n",
       "      <td>1840.75</td>\n",
       "      <td>0</td>\n",
       "    </tr>\n",
       "    <tr>\n",
       "      <th>4</th>\n",
       "      <td>1</td>\n",
       "      <td>0</td>\n",
       "      <td>0</td>\n",
       "      <td>0</td>\n",
       "      <td>2</td>\n",
       "      <td>1</td>\n",
       "      <td>0</td>\n",
       "      <td>Fiber optic</td>\n",
       "      <td>0</td>\n",
       "      <td>0</td>\n",
       "      <td>0</td>\n",
       "      <td>0</td>\n",
       "      <td>0</td>\n",
       "      <td>0</td>\n",
       "      <td>Month-to-month</td>\n",
       "      <td>1</td>\n",
       "      <td>Electronic check</td>\n",
       "      <td>70.70</td>\n",
       "      <td>151.65</td>\n",
       "      <td>1</td>\n",
       "    </tr>\n",
       "  </tbody>\n",
       "</table>\n",
       "</div>"
      ],
      "text/plain": [
       "   gender  SeniorCitizen  Partner  Dependents  tenure  PhoneService  \\\n",
       "0       1              0        1           0       1             0   \n",
       "1       0              0        0           0      34             1   \n",
       "2       0              0        0           0       2             1   \n",
       "3       0              0        0           0      45             0   \n",
       "4       1              0        0           0       2             1   \n",
       "\n",
       "   MultipleLines InternetService  OnlineSecurity  OnlineBackup  \\\n",
       "0             -1             DSL               0             1   \n",
       "1              0             DSL               1             0   \n",
       "2              0             DSL               1             1   \n",
       "3             -1             DSL               1             0   \n",
       "4              0     Fiber optic               0             0   \n",
       "\n",
       "   DeviceProtection  TechSupport  StreamingTV  StreamingMovies  \\\n",
       "0                 0            0            0                0   \n",
       "1                 1            0            0                0   \n",
       "2                 0            0            0                0   \n",
       "3                 1            1            0                0   \n",
       "4                 0            0            0                0   \n",
       "\n",
       "         Contract  PaperlessBilling              PaymentMethod  \\\n",
       "0  Month-to-month                 1           Electronic check   \n",
       "1        One year                 0               Mailed check   \n",
       "2  Month-to-month                 1               Mailed check   \n",
       "3        One year                 0  Bank transfer (automatic)   \n",
       "4  Month-to-month                 1           Electronic check   \n",
       "\n",
       "   MonthlyCharges  TotalCharges  Churn  \n",
       "0           29.85         29.85      0  \n",
       "1           56.95       1889.50      0  \n",
       "2           53.85        108.15      1  \n",
       "3           42.30       1840.75      0  \n",
       "4           70.70        151.65      1  "
      ]
     },
     "execution_count": 33,
     "metadata": {},
     "output_type": "execute_result"
    }
   ],
   "source": [
    "df[['Partner', 'Dependents', 'PhoneService', 'PaperlessBilling', 'Churn']] = df[['Partner', 'Dependents', 'PhoneService', 'PaperlessBilling', 'Churn']].replace({'Yes': 1, 'No': 0})\n",
    "df[['MultipleLines', 'OnlineSecurity', 'OnlineBackup', 'DeviceProtection', 'TechSupport', 'StreamingTV', 'StreamingMovies']] = df[['MultipleLines', 'OnlineSecurity', 'OnlineBackup', 'DeviceProtection', 'TechSupport', 'StreamingTV', 'StreamingMovies']].replace({'Yes': 1, 'No': 0, 'No internet service': 0})\n",
    "df['gender'] = df['gender'].replace({'Female':1, 'Male':0})\n",
    "#df['InternetService'] = df['InternetService'].replace({'Fiber optic': 2, 'DSL': 1 , 'No': 0})\n",
    "df['MultipleLines'] =  df['MultipleLines'].replace({'No phone service': -1})\n",
    "df.head()"
   ]
  },
  {
   "cell_type": "code",
   "execution_count": null,
   "metadata": {},
   "outputs": [
    {
     "data": {
      "text/plain": [
       "0       0\n",
       "1       0\n",
       "2       1\n",
       "3       0\n",
       "4       1\n",
       "       ..\n",
       "7038    0\n",
       "7039    0\n",
       "7040    0\n",
       "7041    1\n",
       "7042    0\n",
       "Name: Churn, Length: 7043, dtype: int64"
      ]
     },
     "execution_count": 39,
     "metadata": {},
     "output_type": "execute_result"
    }
   ],
   "source": [
    "colunas = ['PaymentMethod', 'Contract', 'InternetService']\n",
    "ohe = OneHotEncoder(dtype=int)\n",
    "\n",
    "colunas_ohe = ohe.fit_transform(df[colunas]).toarray()\n",
    "dados = pd.concat([df, pd.DataFrame(colunas_ohe, columns=ohe.get_feature_names_out(colunas))], axis=1)\n",
    "\n",
    "dados2 = dados.drop(colunas, axis=1)\n",
    "dados2"
   ]
  },
  {
   "cell_type": "code",
   "execution_count": 32,
   "metadata": {},
   "outputs": [
    {
     "data": {
      "text/plain": [
       "array([0, 1])"
      ]
     },
     "execution_count": 32,
     "metadata": {},
     "output_type": "execute_result"
    }
   ],
   "source": [
    "df['PhoneService'].unique()"
   ]
  },
  {
   "cell_type": "code",
   "execution_count": 33,
   "metadata": {},
   "outputs": [
    {
     "ename": "KeyError",
     "evalue": "\"['Contract', 'PaymentMethod'] not found in axis\"",
     "output_type": "error",
     "traceback": [
      "\u001b[0;31m---------------------------------------------------------------------------\u001b[0m",
      "\u001b[0;31mKeyError\u001b[0m                                  Traceback (most recent call last)",
      "Cell \u001b[0;32mIn[33], line 1\u001b[0m\n\u001b[0;32m----> 1\u001b[0m \u001b[43mdf\u001b[49m\u001b[38;5;241;43m.\u001b[39;49m\u001b[43mdrop\u001b[49m\u001b[43m(\u001b[49m\u001b[43mcolumns\u001b[49m\u001b[38;5;241;43m=\u001b[39;49m\u001b[43m[\u001b[49m\u001b[38;5;124;43m'\u001b[39;49m\u001b[38;5;124;43mContract\u001b[39;49m\u001b[38;5;124;43m'\u001b[39;49m\u001b[43m,\u001b[49m\u001b[43m \u001b[49m\u001b[38;5;124;43m'\u001b[39;49m\u001b[38;5;124;43mPaymentMethod\u001b[39;49m\u001b[38;5;124;43m'\u001b[39;49m\u001b[43m]\u001b[49m\u001b[43m,\u001b[49m\u001b[43m \u001b[49m\u001b[43minplace\u001b[49m\u001b[38;5;241;43m=\u001b[39;49m\u001b[38;5;28;43;01mTrue\u001b[39;49;00m\u001b[43m)\u001b[49m\n",
      "File \u001b[0;32m~/anaconda3/envs/tensorflow-gpu/lib/python3.9/site-packages/pandas/core/frame.py:5581\u001b[0m, in \u001b[0;36mDataFrame.drop\u001b[0;34m(self, labels, axis, index, columns, level, inplace, errors)\u001b[0m\n\u001b[1;32m   5433\u001b[0m \u001b[38;5;28;01mdef\u001b[39;00m\u001b[38;5;250m \u001b[39m\u001b[38;5;21mdrop\u001b[39m(\n\u001b[1;32m   5434\u001b[0m     \u001b[38;5;28mself\u001b[39m,\n\u001b[1;32m   5435\u001b[0m     labels: IndexLabel \u001b[38;5;241m|\u001b[39m \u001b[38;5;28;01mNone\u001b[39;00m \u001b[38;5;241m=\u001b[39m \u001b[38;5;28;01mNone\u001b[39;00m,\n\u001b[0;32m   (...)\u001b[0m\n\u001b[1;32m   5442\u001b[0m     errors: IgnoreRaise \u001b[38;5;241m=\u001b[39m \u001b[38;5;124m\"\u001b[39m\u001b[38;5;124mraise\u001b[39m\u001b[38;5;124m\"\u001b[39m,\n\u001b[1;32m   5443\u001b[0m ) \u001b[38;5;241m-\u001b[39m\u001b[38;5;241m>\u001b[39m DataFrame \u001b[38;5;241m|\u001b[39m \u001b[38;5;28;01mNone\u001b[39;00m:\n\u001b[1;32m   5444\u001b[0m \u001b[38;5;250m    \u001b[39m\u001b[38;5;124;03m\"\"\"\u001b[39;00m\n\u001b[1;32m   5445\u001b[0m \u001b[38;5;124;03m    Drop specified labels from rows or columns.\u001b[39;00m\n\u001b[1;32m   5446\u001b[0m \n\u001b[0;32m   (...)\u001b[0m\n\u001b[1;32m   5579\u001b[0m \u001b[38;5;124;03m            weight  1.0     0.8\u001b[39;00m\n\u001b[1;32m   5580\u001b[0m \u001b[38;5;124;03m    \"\"\"\u001b[39;00m\n\u001b[0;32m-> 5581\u001b[0m     \u001b[38;5;28;01mreturn\u001b[39;00m \u001b[38;5;28;43msuper\u001b[39;49m\u001b[43m(\u001b[49m\u001b[43m)\u001b[49m\u001b[38;5;241;43m.\u001b[39;49m\u001b[43mdrop\u001b[49m\u001b[43m(\u001b[49m\n\u001b[1;32m   5582\u001b[0m \u001b[43m        \u001b[49m\u001b[43mlabels\u001b[49m\u001b[38;5;241;43m=\u001b[39;49m\u001b[43mlabels\u001b[49m\u001b[43m,\u001b[49m\n\u001b[1;32m   5583\u001b[0m \u001b[43m        \u001b[49m\u001b[43maxis\u001b[49m\u001b[38;5;241;43m=\u001b[39;49m\u001b[43maxis\u001b[49m\u001b[43m,\u001b[49m\n\u001b[1;32m   5584\u001b[0m \u001b[43m        \u001b[49m\u001b[43mindex\u001b[49m\u001b[38;5;241;43m=\u001b[39;49m\u001b[43mindex\u001b[49m\u001b[43m,\u001b[49m\n\u001b[1;32m   5585\u001b[0m \u001b[43m        \u001b[49m\u001b[43mcolumns\u001b[49m\u001b[38;5;241;43m=\u001b[39;49m\u001b[43mcolumns\u001b[49m\u001b[43m,\u001b[49m\n\u001b[1;32m   5586\u001b[0m \u001b[43m        \u001b[49m\u001b[43mlevel\u001b[49m\u001b[38;5;241;43m=\u001b[39;49m\u001b[43mlevel\u001b[49m\u001b[43m,\u001b[49m\n\u001b[1;32m   5587\u001b[0m \u001b[43m        \u001b[49m\u001b[43minplace\u001b[49m\u001b[38;5;241;43m=\u001b[39;49m\u001b[43minplace\u001b[49m\u001b[43m,\u001b[49m\n\u001b[1;32m   5588\u001b[0m \u001b[43m        \u001b[49m\u001b[43merrors\u001b[49m\u001b[38;5;241;43m=\u001b[39;49m\u001b[43merrors\u001b[49m\u001b[43m,\u001b[49m\n\u001b[1;32m   5589\u001b[0m \u001b[43m    \u001b[49m\u001b[43m)\u001b[49m\n",
      "File \u001b[0;32m~/anaconda3/envs/tensorflow-gpu/lib/python3.9/site-packages/pandas/core/generic.py:4788\u001b[0m, in \u001b[0;36mNDFrame.drop\u001b[0;34m(self, labels, axis, index, columns, level, inplace, errors)\u001b[0m\n\u001b[1;32m   4786\u001b[0m \u001b[38;5;28;01mfor\u001b[39;00m axis, labels \u001b[38;5;129;01min\u001b[39;00m axes\u001b[38;5;241m.\u001b[39mitems():\n\u001b[1;32m   4787\u001b[0m     \u001b[38;5;28;01mif\u001b[39;00m labels \u001b[38;5;129;01mis\u001b[39;00m \u001b[38;5;129;01mnot\u001b[39;00m \u001b[38;5;28;01mNone\u001b[39;00m:\n\u001b[0;32m-> 4788\u001b[0m         obj \u001b[38;5;241m=\u001b[39m \u001b[43mobj\u001b[49m\u001b[38;5;241;43m.\u001b[39;49m\u001b[43m_drop_axis\u001b[49m\u001b[43m(\u001b[49m\u001b[43mlabels\u001b[49m\u001b[43m,\u001b[49m\u001b[43m \u001b[49m\u001b[43maxis\u001b[49m\u001b[43m,\u001b[49m\u001b[43m \u001b[49m\u001b[43mlevel\u001b[49m\u001b[38;5;241;43m=\u001b[39;49m\u001b[43mlevel\u001b[49m\u001b[43m,\u001b[49m\u001b[43m \u001b[49m\u001b[43merrors\u001b[49m\u001b[38;5;241;43m=\u001b[39;49m\u001b[43merrors\u001b[49m\u001b[43m)\u001b[49m\n\u001b[1;32m   4790\u001b[0m \u001b[38;5;28;01mif\u001b[39;00m inplace:\n\u001b[1;32m   4791\u001b[0m     \u001b[38;5;28mself\u001b[39m\u001b[38;5;241m.\u001b[39m_update_inplace(obj)\n",
      "File \u001b[0;32m~/anaconda3/envs/tensorflow-gpu/lib/python3.9/site-packages/pandas/core/generic.py:4830\u001b[0m, in \u001b[0;36mNDFrame._drop_axis\u001b[0;34m(self, labels, axis, level, errors, only_slice)\u001b[0m\n\u001b[1;32m   4828\u001b[0m         new_axis \u001b[38;5;241m=\u001b[39m axis\u001b[38;5;241m.\u001b[39mdrop(labels, level\u001b[38;5;241m=\u001b[39mlevel, errors\u001b[38;5;241m=\u001b[39merrors)\n\u001b[1;32m   4829\u001b[0m     \u001b[38;5;28;01melse\u001b[39;00m:\n\u001b[0;32m-> 4830\u001b[0m         new_axis \u001b[38;5;241m=\u001b[39m \u001b[43maxis\u001b[49m\u001b[38;5;241;43m.\u001b[39;49m\u001b[43mdrop\u001b[49m\u001b[43m(\u001b[49m\u001b[43mlabels\u001b[49m\u001b[43m,\u001b[49m\u001b[43m \u001b[49m\u001b[43merrors\u001b[49m\u001b[38;5;241;43m=\u001b[39;49m\u001b[43merrors\u001b[49m\u001b[43m)\u001b[49m\n\u001b[1;32m   4831\u001b[0m     indexer \u001b[38;5;241m=\u001b[39m axis\u001b[38;5;241m.\u001b[39mget_indexer(new_axis)\n\u001b[1;32m   4833\u001b[0m \u001b[38;5;66;03m# Case for non-unique axis\u001b[39;00m\n\u001b[1;32m   4834\u001b[0m \u001b[38;5;28;01melse\u001b[39;00m:\n",
      "File \u001b[0;32m~/anaconda3/envs/tensorflow-gpu/lib/python3.9/site-packages/pandas/core/indexes/base.py:7070\u001b[0m, in \u001b[0;36mIndex.drop\u001b[0;34m(self, labels, errors)\u001b[0m\n\u001b[1;32m   7068\u001b[0m \u001b[38;5;28;01mif\u001b[39;00m mask\u001b[38;5;241m.\u001b[39many():\n\u001b[1;32m   7069\u001b[0m     \u001b[38;5;28;01mif\u001b[39;00m errors \u001b[38;5;241m!=\u001b[39m \u001b[38;5;124m\"\u001b[39m\u001b[38;5;124mignore\u001b[39m\u001b[38;5;124m\"\u001b[39m:\n\u001b[0;32m-> 7070\u001b[0m         \u001b[38;5;28;01mraise\u001b[39;00m \u001b[38;5;167;01mKeyError\u001b[39;00m(\u001b[38;5;124mf\u001b[39m\u001b[38;5;124m\"\u001b[39m\u001b[38;5;132;01m{\u001b[39;00mlabels[mask]\u001b[38;5;241m.\u001b[39mtolist()\u001b[38;5;132;01m}\u001b[39;00m\u001b[38;5;124m not found in axis\u001b[39m\u001b[38;5;124m\"\u001b[39m)\n\u001b[1;32m   7071\u001b[0m     indexer \u001b[38;5;241m=\u001b[39m indexer[\u001b[38;5;241m~\u001b[39mmask]\n\u001b[1;32m   7072\u001b[0m \u001b[38;5;28;01mreturn\u001b[39;00m \u001b[38;5;28mself\u001b[39m\u001b[38;5;241m.\u001b[39mdelete(indexer)\n",
      "\u001b[0;31mKeyError\u001b[0m: \"['Contract', 'PaymentMethod'] not found in axis\""
     ]
    }
   ],
   "source": [
    "df.drop(columns=['Contract', 'PaymentMethod'], inplace=True)"
   ]
  },
  {
   "cell_type": "code",
   "execution_count": null,
   "metadata": {},
   "outputs": [
    {
     "data": {
      "image/png": "[encoded data removed]",
      "text/plain": [
       "<Figure size 640x480 with 1 Axes>"
      ]
     },
     "metadata": {},
     "output_type": "display_data"
    },
    {
     "data": {
      "image/png": "[encoded data removed]",
      "text/plain": [
       "<Figure size 640x480 with 1 Axes>"
      ]
     },
     "metadata": {},
     "output_type": "display_data"
    },
    {
     "data": {
      "image/png": "[encoded data removed]",
      "text/plain": [
       "<Figure size 640x480 with 1 Axes>"
      ]
     },
     "metadata": {},
     "output_type": "display_data"
    },
    {
     "data": {
      "image/png": "[encoded data removed]",
      "text/plain": [
       "<Figure size 640x480 with 1 Axes>"
      ]
     },
     "metadata": {},
     "output_type": "display_data"
    }
   ],
   "source": [
    "# Separando os dados de treino e teste. 50% dos dados serão usados para treino e 25% para teste e 25% para validação.\n",
    "# Usar K-fold para validação cruzada\n",
    "porcentagem = 0.5\n",
    "\n",
    "df_treino = df[:int(len(df)*porcentagem)]\n",
    "df_test_val = df[int(len(df)*porcentagem):]\n",
    "\n",
    "df_validacao = df_test_val[int(len(df_test_val)*porcentagem):]\n",
    "df_test = df_test_val[:int(len(df_test_val)*porcentagem)]\n",
    "\n",
    "\n",
    "# Plotando a quantidade de dados de treino e teste.\n",
    "plt.bar(['Treino', 'Teste', 'Validação'], [df_treino.shape[0], df_test.shape[0], df_validacao.shape[0]])\n",
    "plt.show()\n",
    "\n",
    "plt.bar(df_treino['Churn'].value_counts().index, df_treino['Churn'].value_counts(), color=['blue', 'red'])\n",
    "plt.xticks([0, 1])\n",
    "plt.show()\n",
    "\n",
    "plt.bar(df_test['Churn'].value_counts().index, df_test['Churn'].value_counts(), color=['blue', 'red'])\n",
    "plt.xticks([0, 1])\n",
    "plt.show()\n",
    "\n",
    "plt.bar(df_validacao['Churn'].value_counts().index, df_validacao['Churn'].value_counts(), color=['blue', 'red'])\n",
    "plt.xticks([0, 1])\n",
    "plt.show()\n",
    "\n",
    "\n",
    "# Separando os dados de entrada e saída.\n",
    "X_treino = df_treino.drop(columns=['Churn'])\n",
    "y_treino = df_treino['Churn']\n",
    "\n",
    "X_test = df_test.drop(columns=['Churn'])\n",
    "y_test = df_test['Churn']\n",
    "\n",
    "X_val = df_validacao.drop(columns=['Churn'])\n",
    "y_val = df_validacao['Churn']\n"
   ]
  },
  {
   "cell_type": "code",
   "execution_count": 45,
   "metadata": {},
   "outputs": [
    {
     "data": {
      "text/html": [
       "<div>\n",
       "<style scoped>\n",
       "    .dataframe tbody tr th:only-of-type {\n",
       "        vertical-align: middle;\n",
       "    }\n",
       "\n",
       "    .dataframe tbody tr th {\n",
       "        vertical-align: top;\n",
       "    }\n",
       "\n",
       "    .dataframe thead th {\n",
       "        text-align: right;\n",
       "    }\n",
       "</style>\n",
       "<table border=\"1\" class=\"dataframe\">\n",
       "  <thead>\n",
       "    <tr style=\"text-align: right;\">\n",
       "      <th></th>\n",
       "      <th>gender</th>\n",
       "      <th>SeniorCitizen</th>\n",
       "      <th>Partner</th>\n",
       "      <th>Dependents</th>\n",
       "      <th>tenure</th>\n",
       "      <th>PhoneService</th>\n",
       "      <th>MultipleLines</th>\n",
       "      <th>InternetService</th>\n",
       "      <th>OnlineSecurity</th>\n",
       "      <th>OnlineBackup</th>\n",
       "      <th>DeviceProtection</th>\n",
       "      <th>TechSupport</th>\n",
       "      <th>StreamingTV</th>\n",
       "      <th>StreamingMovies</th>\n",
       "      <th>PaperlessBilling</th>\n",
       "      <th>MonthlyCharges</th>\n",
       "      <th>TotalCharges</th>\n",
       "    </tr>\n",
       "  </thead>\n",
       "  <tbody>\n",
       "    <tr>\n",
       "      <th>0</th>\n",
       "      <td>1</td>\n",
       "      <td>0</td>\n",
       "      <td>1</td>\n",
       "      <td>0</td>\n",
       "      <td>1</td>\n",
       "      <td>0</td>\n",
       "      <td>-1</td>\n",
       "      <td>1</td>\n",
       "      <td>0</td>\n",
       "      <td>1</td>\n",
       "      <td>0</td>\n",
       "      <td>0</td>\n",
       "      <td>0</td>\n",
       "      <td>0</td>\n",
       "      <td>1</td>\n",
       "      <td>29.85</td>\n",
       "      <td>29.85</td>\n",
       "    </tr>\n",
       "    <tr>\n",
       "      <th>1</th>\n",
       "      <td>0</td>\n",
       "      <td>0</td>\n",
       "      <td>0</td>\n",
       "      <td>0</td>\n",
       "      <td>34</td>\n",
       "      <td>1</td>\n",
       "      <td>0</td>\n",
       "      <td>1</td>\n",
       "      <td>1</td>\n",
       "      <td>0</td>\n",
       "      <td>1</td>\n",
       "      <td>0</td>\n",
       "      <td>0</td>\n",
       "      <td>0</td>\n",
       "      <td>0</td>\n",
       "      <td>56.95</td>\n",
       "      <td>1889.50</td>\n",
       "    </tr>\n",
       "    <tr>\n",
       "      <th>2</th>\n",
       "      <td>0</td>\n",
       "      <td>0</td>\n",
       "      <td>0</td>\n",
       "      <td>0</td>\n",
       "      <td>2</td>\n",
       "      <td>1</td>\n",
       "      <td>0</td>\n",
       "      <td>1</td>\n",
       "      <td>1</td>\n",
       "      <td>1</td>\n",
       "      <td>0</td>\n",
       "      <td>0</td>\n",
       "      <td>0</td>\n",
       "      <td>0</td>\n",
       "      <td>1</td>\n",
       "      <td>53.85</td>\n",
       "      <td>108.15</td>\n",
       "    </tr>\n",
       "    <tr>\n",
       "      <th>3</th>\n",
       "      <td>0</td>\n",
       "      <td>0</td>\n",
       "      <td>0</td>\n",
       "      <td>0</td>\n",
       "      <td>45</td>\n",
       "      <td>0</td>\n",
       "      <td>-1</td>\n",
       "      <td>1</td>\n",
       "      <td>1</td>\n",
       "      <td>0</td>\n",
       "      <td>1</td>\n",
       "      <td>1</td>\n",
       "      <td>0</td>\n",
       "      <td>0</td>\n",
       "      <td>0</td>\n",
       "      <td>42.30</td>\n",
       "      <td>1840.75</td>\n",
       "    </tr>\n",
       "    <tr>\n",
       "      <th>4</th>\n",
       "      <td>1</td>\n",
       "      <td>0</td>\n",
       "      <td>0</td>\n",
       "      <td>0</td>\n",
       "      <td>2</td>\n",
       "      <td>1</td>\n",
       "      <td>0</td>\n",
       "      <td>2</td>\n",
       "      <td>0</td>\n",
       "      <td>0</td>\n",
       "      <td>0</td>\n",
       "      <td>0</td>\n",
       "      <td>0</td>\n",
       "      <td>0</td>\n",
       "      <td>1</td>\n",
       "      <td>70.70</td>\n",
       "      <td>151.65</td>\n",
       "    </tr>\n",
       "    <tr>\n",
       "      <th>...</th>\n",
       "      <td>...</td>\n",
       "      <td>...</td>\n",
       "      <td>...</td>\n",
       "      <td>...</td>\n",
       "      <td>...</td>\n",
       "      <td>...</td>\n",
       "      <td>...</td>\n",
       "      <td>...</td>\n",
       "      <td>...</td>\n",
       "      <td>...</td>\n",
       "      <td>...</td>\n",
       "      <td>...</td>\n",
       "      <td>...</td>\n",
       "      <td>...</td>\n",
       "      <td>...</td>\n",
       "      <td>...</td>\n",
       "      <td>...</td>\n",
       "    </tr>\n",
       "    <tr>\n",
       "      <th>3516</th>\n",
       "      <td>0</td>\n",
       "      <td>0</td>\n",
       "      <td>0</td>\n",
       "      <td>0</td>\n",
       "      <td>3</td>\n",
       "      <td>1</td>\n",
       "      <td>0</td>\n",
       "      <td>1</td>\n",
       "      <td>0</td>\n",
       "      <td>0</td>\n",
       "      <td>0</td>\n",
       "      <td>0</td>\n",
       "      <td>0</td>\n",
       "      <td>0</td>\n",
       "      <td>1</td>\n",
       "      <td>43.30</td>\n",
       "      <td>123.65</td>\n",
       "    </tr>\n",
       "    <tr>\n",
       "      <th>3517</th>\n",
       "      <td>0</td>\n",
       "      <td>0</td>\n",
       "      <td>1</td>\n",
       "      <td>0</td>\n",
       "      <td>70</td>\n",
       "      <td>1</td>\n",
       "      <td>0</td>\n",
       "      <td>2</td>\n",
       "      <td>1</td>\n",
       "      <td>1</td>\n",
       "      <td>1</td>\n",
       "      <td>1</td>\n",
       "      <td>1</td>\n",
       "      <td>1</td>\n",
       "      <td>1</td>\n",
       "      <td>109.50</td>\n",
       "      <td>7534.65</td>\n",
       "    </tr>\n",
       "    <tr>\n",
       "      <th>3518</th>\n",
       "      <td>0</td>\n",
       "      <td>0</td>\n",
       "      <td>0</td>\n",
       "      <td>0</td>\n",
       "      <td>1</td>\n",
       "      <td>1</td>\n",
       "      <td>0</td>\n",
       "      <td>0</td>\n",
       "      <td>0</td>\n",
       "      <td>0</td>\n",
       "      <td>0</td>\n",
       "      <td>0</td>\n",
       "      <td>0</td>\n",
       "      <td>0</td>\n",
       "      <td>0</td>\n",
       "      <td>19.45</td>\n",
       "      <td>19.45</td>\n",
       "    </tr>\n",
       "    <tr>\n",
       "      <th>3519</th>\n",
       "      <td>0</td>\n",
       "      <td>1</td>\n",
       "      <td>0</td>\n",
       "      <td>0</td>\n",
       "      <td>43</td>\n",
       "      <td>1</td>\n",
       "      <td>1</td>\n",
       "      <td>2</td>\n",
       "      <td>0</td>\n",
       "      <td>0</td>\n",
       "      <td>0</td>\n",
       "      <td>0</td>\n",
       "      <td>1</td>\n",
       "      <td>0</td>\n",
       "      <td>1</td>\n",
       "      <td>84.85</td>\n",
       "      <td>3645.60</td>\n",
       "    </tr>\n",
       "    <tr>\n",
       "      <th>3520</th>\n",
       "      <td>1</td>\n",
       "      <td>0</td>\n",
       "      <td>1</td>\n",
       "      <td>0</td>\n",
       "      <td>16</td>\n",
       "      <td>1</td>\n",
       "      <td>0</td>\n",
       "      <td>0</td>\n",
       "      <td>0</td>\n",
       "      <td>0</td>\n",
       "      <td>0</td>\n",
       "      <td>0</td>\n",
       "      <td>0</td>\n",
       "      <td>0</td>\n",
       "      <td>0</td>\n",
       "      <td>19.60</td>\n",
       "      <td>314.45</td>\n",
       "    </tr>\n",
       "  </tbody>\n",
       "</table>\n",
       "<p>3521 rows × 17 columns</p>\n",
       "</div>"
      ],
      "text/plain": [
       "      gender  SeniorCitizen  Partner  Dependents  tenure  PhoneService  \\\n",
       "0          1              0        1           0       1             0   \n",
       "1          0              0        0           0      34             1   \n",
       "2          0              0        0           0       2             1   \n",
       "3          0              0        0           0      45             0   \n",
       "4          1              0        0           0       2             1   \n",
       "...      ...            ...      ...         ...     ...           ...   \n",
       "3516       0              0        0           0       3             1   \n",
       "3517       0              0        1           0      70             1   \n",
       "3518       0              0        0           0       1             1   \n",
       "3519       0              1        0           0      43             1   \n",
       "3520       1              0        1           0      16             1   \n",
       "\n",
       "      MultipleLines  InternetService  OnlineSecurity  OnlineBackup  \\\n",
       "0                -1                1               0             1   \n",
       "1                 0                1               1             0   \n",
       "2                 0                1               1             1   \n",
       "3                -1                1               1             0   \n",
       "4                 0                2               0             0   \n",
       "...             ...              ...             ...           ...   \n",
       "3516              0                1               0             0   \n",
       "3517              0                2               1             1   \n",
       "3518              0                0               0             0   \n",
       "3519              1                2               0             0   \n",
       "3520              0                0               0             0   \n",
       "\n",
       "      DeviceProtection  TechSupport  StreamingTV  StreamingMovies  \\\n",
       "0                    0            0            0                0   \n",
       "1                    1            0            0                0   \n",
       "2                    0            0            0                0   \n",
       "3                    1            1            0                0   \n",
       "4                    0            0            0                0   \n",
       "...                ...          ...          ...              ...   \n",
       "3516                 0            0            0                0   \n",
       "3517                 1            1            1                1   \n",
       "3518                 0            0            0                0   \n",
       "3519                 0            0            1                0   \n",
       "3520                 0            0            0                0   \n",
       "\n",
       "      PaperlessBilling  MonthlyCharges  TotalCharges  \n",
       "0                    1           29.85         29.85  \n",
       "1                    0           56.95       1889.50  \n",
       "2                    1           53.85        108.15  \n",
       "3                    0           42.30       1840.75  \n",
       "4                    1           70.70        151.65  \n",
       "...                ...             ...           ...  \n",
       "3516                 1           43.30        123.65  \n",
       "3517                 1          109.50       7534.65  \n",
       "3518                 0           19.45         19.45  \n",
       "3519                 1           84.85       3645.60  \n",
       "3520                 0           19.60        314.45  \n",
       "\n",
       "[3521 rows x 17 columns]"
      ]
     },
     "execution_count": 45,
     "metadata": {},
     "output_type": "execute_result"
    }
   ],
   "source": [
    "X_treino"
   ]
  },
  {
   "cell_type": "code",
   "execution_count": 46,
   "metadata": {},
   "outputs": [],
   "source": [
    "\n",
    "\n",
    "scaler = StandardScaler()\n",
    "X_train = scaler.fit_transform(X_treino)\n",
    "X_val = scaler.transform(X_val)\n",
    "X_test = scaler.transform(X_test)\n",
    "\n"
   ]
  },
  {
   "cell_type": "code",
   "execution_count": 48,
   "metadata": {},
   "outputs": [
    {
     "data": {
      "text/plain": [
       "(3521, 17)"
      ]
     },
     "execution_count": 48,
     "metadata": {},
     "output_type": "execute_result"
    }
   ],
   "source": [
    "X_train.shape"
   ]
  },
  {
   "cell_type": "code",
   "execution_count": null,
   "metadata": {},
   "outputs": [],
   "source": [
    "#Data Cleaning\n",
    "\n"
   ]
  },
  {
   "cell_type": "code",
   "execution_count": null,
   "metadata": {},
   "outputs": [],
   "source": []
  },
  {
   "cell_type": "markdown",
   "metadata": {},
   "source": [
    "### MLP"
   ]
  },
  {
   "cell_type": "code",
   "execution_count": 43,
   "metadata": {},
   "outputs": [
    {
     "data": {
      "text/plain": [
       "array([[ 1.0203722 , -0.43211178,  1.03733376, ...,  0.83087331,\n",
       "        -1.16676003, -0.9912833 ],\n",
       "       [-0.98003454, -0.43211178, -0.96400989, ..., -1.20355292,\n",
       "        -0.26650732, -0.17085759],\n",
       "       [-0.98003454, -0.43211178, -0.96400989, ...,  0.83087331,\n",
       "        -0.36948826, -0.95673952],\n",
       "       ...,\n",
       "       [-0.98003454, -0.43211178, -0.96400989, ..., -1.20355292,\n",
       "        -1.51224447, -0.99587149],\n",
       "       [-0.98003454,  2.31421599, -0.96400989, ...,  0.83087331,\n",
       "         0.66032112,  0.60388475],\n",
       "       [ 1.0203722 , -0.43211178,  1.03733376, ..., -1.20355292,\n",
       "        -1.50726152, -0.86572571]])"
      ]
     },
     "execution_count": 43,
     "metadata": {},
     "output_type": "execute_result"
    }
   ],
   "source": [
    "X_train"
   ]
  },
  {
   "cell_type": "code",
   "execution_count": null,
   "metadata": {},
   "outputs": [
    {
     "name": "stderr",
     "output_type": "stream",
     "text": [
      "2025-02-17 13:16:48.551702: I tensorflow/core/platform/cpu_feature_guard.cc:193] This TensorFlow binary is optimized with oneAPI Deep Neural Network Library (oneDNN) to use the following CPU instructions in performance-critical operations:  SSE4.1 SSE4.2 AVX AVX2 FMA\n",
      "To enable them in other operations, rebuild TensorFlow with the appropriate compiler flags.\n"
     ]
    },
    {
     "ename": "NameError",
     "evalue": "name 'optuna' is not defined",
     "output_type": "error",
     "traceback": [
      "\u001b[0;31m---------------------------------------------------------------------------\u001b[0m",
      "\u001b[0;31mNameError\u001b[0m                                 Traceback (most recent call last)",
      "Cell \u001b[0;32mIn[1], line 56\u001b[0m\n\u001b[1;32m     53\u001b[0m     \u001b[38;5;28;01mreturn\u001b[39;00m val_loss\n\u001b[1;32m     55\u001b[0m \u001b[38;5;66;03m# Criação do estudo com direção de minimização (pois desejamos minimizar a loss)\u001b[39;00m\n\u001b[0;32m---> 56\u001b[0m study \u001b[38;5;241m=\u001b[39m \u001b[43moptuna\u001b[49m\u001b[38;5;241m.\u001b[39mcreate_study(direction\u001b[38;5;241m=\u001b[39m\u001b[38;5;124m'\u001b[39m\u001b[38;5;124mminimize\u001b[39m\u001b[38;5;124m'\u001b[39m)\n\u001b[1;32m     57\u001b[0m study\u001b[38;5;241m.\u001b[39moptimize(objective, n_trials\u001b[38;5;241m=\u001b[39m\u001b[38;5;241m50\u001b[39m)\n\u001b[1;32m     58\u001b[0m \u001b[38;5;28mprint\u001b[39m(\u001b[38;5;124m\"\u001b[39m\u001b[38;5;124mMelhores hiperparâmetros:\u001b[39m\u001b[38;5;124m\"\u001b[39m, study\u001b[38;5;241m.\u001b[39mbest_trial\u001b[38;5;241m.\u001b[39mparams)\n",
      "\u001b[0;31mNameError\u001b[0m: name 'optuna' is not defined"
     ]
    }
   ],
   "source": [
    "\n",
    "\n",
    "def create_model(trial, input_dim):\n",
    "    model = tf.keras.Sequential()\n",
    "    # Camada de entrada\n",
    "    model.add(tf.keras.layers.Input(shape=(input_dim,)))\n",
    "    \n",
    "    # Número de camadas ocultas a serem utilizadas\n",
    "    n_layers = trial.suggest_int('n_layers', 1, 3)\n",
    "    \n",
    "    # Adicionando as camadas ocultas\n",
    "    for i in range(n_layers):\n",
    "        num_units = trial.suggest_int(f'n_units_{i}', 16, 128)\n",
    "        model.add(tf.keras.layers.Dense(num_units, activation='relu'))\n",
    "        # Adiciona dropout se o valor sugerido for maior que 0\n",
    "        dropout_rate = trial.suggest_float(f'dropout_{i}', 0.0, 0.5)\n",
    "        if dropout_rate > 0.0:\n",
    "            model.add(tf.keras.layers.Dropout(dropout_rate))\n",
    "    \n",
    "    # Camada de saída para classificação binária\n",
    "    model.add(tf.keras.layers.Dense(1, activation='sigmoid'))\n",
    "    \n",
    "    # Taxa de aprendizado para o otimizador\n",
    "    learning_rate = trial.suggest_loguniform('learning_rate', 1e-5, 1e-2)\n",
    "    optimizer = tf.keras.optimizers.Adam(learning_rate=learning_rate)\n",
    "    \n",
    "    model.compile(optimizer=optimizer, loss='binary_crossentropy', metrics=['accuracy']) # Cross-entropy ou MSE\n",
    "    return model\n",
    "\n",
    "def objective_mlp(trial):\n",
    "    input_dim = X_treino.shape[1]\n",
    "    model = create_model(trial, input_dim)\n",
    "    \n",
    "    # Otimização do tamanho do batch\n",
    "    batch_size = trial.suggest_int('batch_size', 16, 128)\n",
    "    \n",
    "    # Callback para early stopping (para interromper o treinamento se a loss de validação não melhorar)\n",
    "    early_stop = tf.keras.callbacks.EarlyStopping(monitor='val_loss', patience=5, restore_best_weights=True)\n",
    "    \n",
    "    # Treinamento do modelo\n",
    "    model.fit(\n",
    "        X_treino, y_treino,\n",
    "        validation_data=(X_val, y_val),\n",
    "        epochs=50,\n",
    "        batch_size=batch_size,\n",
    "        callbacks=[early_stop],\n",
    "        verbose=0\n",
    "    )\n",
    "    \n",
    "    # Avaliação do modelo no conjunto de validação (a métrica utilizada aqui é a loss)\n",
    "    score = model.evaluate(X_val, y_val, verbose=0)\n",
    "    val_loss = score[0]\n",
    "    return val_loss\n",
    "\n",
    "# Criação do estudo com direção de minimização (pois desejamos minimizar a loss)\n",
    "study_mlp = optuna.create_study(direction='minimize')\n",
    "study_mlp.optimize(objective_mlp, n_trials=50)\n",
    "print(\"Melhores hiperparâmetros:\", study_mlp.best_trial.params)\n",
    "\n",
    "# Salvando os resultados do estudo em CSV e Excel\n",
    "\n",
    "# Converte os dados dos trials para um DataFrame\n",
    "df_trials = study_mlp.trials_dataframe()\n",
    "\n",
    "# Salva em CSV\n",
    "df_trials.to_csv('MLP_results.csv', index=False)\n",
    "print(\"Resultados salvos em 'optuna_results.csv'.\")\n",
    "\n",
    "# Salva em Excel (certifique-se de ter o pacote openpyxl instalado)\n",
    "df_trials.to_excel('optuna_results.xlsx', index=False)\n",
    "print(\"Resultados salvos em 'optuna_results.xlsx'.\")\n",
    "\n",
    "# Opcional: Avaliação do modelo final no conjunto de teste utilizando os melhores hiperparâmetros\n",
    "best_trial = study_mlp.best_trial\n",
    "best_model = create_model(optuna.trial.FixedTrial(best_trial.params), X_treino.shape[1])\n",
    "history = best_model.fit(\n",
    "    X_treino, y_treino,\n",
    "    validation_data=(X_val, y_val),\n",
    "    epochs=50,\n",
    "    batch_size=best_trial.params.get('batch_size', 32),\n",
    "    callbacks=[tf.keras.callbacks.EarlyStopping(monitor='val_loss', patience=5, restore_best_weights=True)],\n",
    "    verbose=0\n",
    ")\n",
    "test_score = best_model.evaluate(X_test, y_test, verbose=0)\n",
    "print(f\"Loss no conjunto de teste: {test_score[0]:.4f} - Acurácia: {test_score[1]:.4f}\")\n"
   ]
  },
  {
   "cell_type": "code",
   "execution_count": null,
   "metadata": {},
   "outputs": [],
   "source": []
  },
  {
   "cell_type": "code",
   "execution_count": null,
   "metadata": {},
   "outputs": [],
   "source": []
  },
  {
   "cell_type": "code",
   "execution_count": null,
   "metadata": {},
   "outputs": [
    {
     "name": "stderr",
     "output_type": "stream",
     "text": [
      "2025-02-17 10:55:56.278223: I tensorflow/stream_executor/cuda/cuda_gpu_executor.cc:980] successful NUMA node read from SysFS had negative value (-1), but there must be at least one NUMA node, so returning NUMA node zero\n",
      "2025-02-17 10:55:56.400139: I tensorflow/stream_executor/cuda/cuda_gpu_executor.cc:980] successful NUMA node read from SysFS had negative value (-1), but there must be at least one NUMA node, so returning NUMA node zero\n",
      "2025-02-17 10:55:56.403114: I tensorflow/stream_executor/cuda/cuda_gpu_executor.cc:980] successful NUMA node read from SysFS had negative value (-1), but there must be at least one NUMA node, so returning NUMA node zero\n",
      "2025-02-17 10:55:56.406021: I tensorflow/core/platform/cpu_feature_guard.cc:193] This TensorFlow binary is optimized with oneAPI Deep Neural Network Library (oneDNN) to use the following CPU instructions in performance-critical operations:  SSE4.1 SSE4.2 AVX AVX2 FMA\n",
      "To enable them in other operations, rebuild TensorFlow with the appropriate compiler flags.\n",
      "2025-02-17 10:55:56.406654: I tensorflow/stream_executor/cuda/cuda_gpu_executor.cc:980] successful NUMA node read from SysFS had negative value (-1), but there must be at least one NUMA node, so returning NUMA node zero\n",
      "2025-02-17 10:55:56.409434: I tensorflow/stream_executor/cuda/cuda_gpu_executor.cc:980] successful NUMA node read from SysFS had negative value (-1), but there must be at least one NUMA node, so returning NUMA node zero\n",
      "2025-02-17 10:55:56.412016: I tensorflow/stream_executor/cuda/cuda_gpu_executor.cc:980] successful NUMA node read from SysFS had negative value (-1), but there must be at least one NUMA node, so returning NUMA node zero\n",
      "2025-02-17 10:55:56.546652: I tensorflow/stream_executor/cuda/cuda_gpu_executor.cc:980] successful NUMA node read from SysFS had negative value (-1), but there must be at least one NUMA node, so returning NUMA node zero\n",
      "2025-02-17 10:55:56.547830: I tensorflow/stream_executor/cuda/cuda_gpu_executor.cc:980] successful NUMA node read from SysFS had negative value (-1), but there must be at least one NUMA node, so returning NUMA node zero\n",
      "2025-02-17 10:55:56.548908: I tensorflow/stream_executor/cuda/cuda_gpu_executor.cc:980] successful NUMA node read from SysFS had negative value (-1), but there must be at least one NUMA node, so returning NUMA node zero\n",
      "2025-02-17 10:55:56.549962: I tensorflow/core/common_runtime/gpu/gpu_device.cc:1616] Created device /job:localhost/replica:0/task:0/device:GPU:0 with 2603 MB memory:  -> device: 0, name: NVIDIA GeForce GTX 1650, pci bus id: 0000:01:00.0, compute capability: 7.5\n"
     ]
    }
   ],
   "source": [
    "from Kantf import KAN\n",
    "\n",
    "model = KAN([\n",
    "    {'in_features': 784, 'out_features': 64, 'grid_size': 5, 'spline_order': 3, 'activation': 'silu'},\n",
    "    {'in_features': 64, 'out_features': 10, 'grid_size': 5, 'spline_order': 3, 'activation': 'silu'}\n",
    "])"
   ]
  },
  {
   "cell_type": "code",
   "execution_count": null,
   "metadata": {},
   "outputs": [
    {
     "ename": "NameError",
     "evalue": "name 'epochs' is not defined",
     "output_type": "error",
     "traceback": [
      "\u001b[0;31m---------------------------------------------------------------------------\u001b[0m",
      "\u001b[0;31mNameError\u001b[0m                                 Traceback (most recent call last)",
      "Cell \u001b[0;32mIn[29], line 18\u001b[0m\n\u001b[1;32m     15\u001b[0m epoch_val_loss \u001b[38;5;241m=\u001b[39m []\n\u001b[1;32m     16\u001b[0m epoch_val_accuracy \u001b[38;5;241m=\u001b[39m []\n\u001b[0;32m---> 18\u001b[0m \u001b[38;5;28;01mfor\u001b[39;00m epoch \u001b[38;5;129;01min\u001b[39;00m \u001b[38;5;28mrange\u001b[39m(\u001b[43mepochs\u001b[49m):\n\u001b[1;32m     19\u001b[0m     train_loss\u001b[38;5;241m.\u001b[39mreset_states()\n\u001b[1;32m     20\u001b[0m     val_loss\u001b[38;5;241m.\u001b[39mreset_states()\n",
      "\u001b[0;31mNameError\u001b[0m: name 'epochs' is not defined"
     ]
    }
   ],
   "source": [
    "import tensorflow as tf\n",
    "from tensorflow.keras.losses import SparseCategoricalCrossentropy\n",
    "from tensorflow.keras.metrics import SparseCategoricalAccuracy\n",
    "from tensorflow.keras.optimizers import Adam\n",
    "\n",
    "\n",
    "model.compile(optimizer=Adam(learning_rate=1e-3), loss=SparseCategoricalCrossentropy(from_logits=True))\n",
    "\n",
    "# Metrics\n",
    "train_loss = tf.keras.metrics.Mean(name='train_loss')\n",
    "val_loss = tf.keras.metrics.Mean(name='val_loss')\n",
    "val_accuracy = SparseCategoricalAccuracy(name='val_accuracy')\n",
    "\n",
    "# Lists to store metrics for plotting\n",
    "epoch_train_loss = []\n",
    "epoch_val_loss = []\n",
    "epoch_val_accuracy = []\n",
    "\n",
    "for epoch in range(epochs):\n",
    "    train_loss.reset_states()\n",
    "    val_loss.reset_states()\n",
    "    val_accuracy.reset_states()\n",
    "\n",
    "    # Existing training and validation loop here ...\n",
    "\n",
    "    # Append metrics after each epoch\n",
    "    epoch_train_loss.append(train_loss.result().numpy())\n",
    "    epoch_val_loss.append(val_loss.result().numpy())\n",
    "    epoch_val_accuracy.append(val_accuracy.result().numpy())\n",
    "\n",
    "    print(f'Epoch {epoch + 1}, Train Loss: {train_loss.result():.4f}, Validation Loss: {val_loss.result():.4f}, Validation Accuracy: {val_accuracy.result():.4f}')"
   ]
  }
 ],
 "metadata": {
  "kernelspec": {
   "display_name": ".venv",
   "language": "python",
   "name": "python3"
  },
  "language_info": {
   "codemirror_mode": {
    "name": "ipython",
    "version": 3
   },
   "file_extension": ".py",
   "mimetype": "text/x-python",
   "name": "python",
   "nbconvert_exporter": "python",
   "pygments_lexer": "ipython3",
   "version": "3.12.3"
  }
 },
 "nbformat": 4,
 "nbformat_minor": 2
}
